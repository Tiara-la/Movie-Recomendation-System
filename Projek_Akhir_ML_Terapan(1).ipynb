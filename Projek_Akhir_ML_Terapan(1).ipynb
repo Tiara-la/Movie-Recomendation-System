{
  "nbformat": 4,
  "nbformat_minor": 0,
  "metadata": {
    "colab": {
      "name": "Projek Akhir ML Terapan.ipynb",
      "provenance": [],
      "collapsed_sections": []
    },
    "kernelspec": {
      "display_name": "Python 3",
      "name": "python3"
    },
    "language_info": {
      "name": "python"
    },
    "accelerator": "GPU"
  },
  "cells": [
    {
      "cell_type": "markdown",
      "metadata": {
        "id": "-G1nP2Hsh6jq"
      },
      "source": [
        "Nama : Tiara Lailatul Nikmah  \n",
        "Username : Tiara Laila  \n",
        "Email : tiaralaila21@gmail.com  \n",
        "Asal kota : Juwana, Pati"
      ]
    },
    {
      "cell_type": "code",
      "metadata": {
        "id": "YELwrlCrddtc"
      },
      "source": [
        "# install the Kaggle API client\n",
        "! pip install -q kaggle"
      ],
      "execution_count": 1,
      "outputs": []
    },
    {
      "cell_type": "code",
      "metadata": {
        "colab": {
          "resources": {
            "http://localhost:8080/nbextensions/google.colab/files.js": {
              "data": "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",
              "ok": true,
              "headers": [
                [
                  "content-type",
                  "application/javascript"
                ]
              ],
              "status": 200,
              "status_text": ""
            }
          },
          "base_uri": "https://localhost:8080/",
          "height": 91
        },
        "id": "XyamfZuGdh7G",
        "outputId": "a30d878d-8e5a-46aa-c267-227785d2e249"
      },
      "source": [
        "# Unggah file kaggle.json\n",
        "from google.colab import files\n",
        "files.upload()"
      ],
      "execution_count": 2,
      "outputs": [
        {
          "output_type": "display_data",
          "data": {
            "text/html": [
              "\n",
              "     <input type=\"file\" id=\"files-5d1f3bb6-8292-4222-97a2-eac7fdc2de3f\" name=\"files[]\" multiple disabled\n",
              "        style=\"border:none\" />\n",
              "     <output id=\"result-5d1f3bb6-8292-4222-97a2-eac7fdc2de3f\">\n",
              "      Upload widget is only available when the cell has been executed in the\n",
              "      current browser session. Please rerun this cell to enable.\n",
              "      </output>\n",
              "      <script src=\"/nbextensions/google.colab/files.js\"></script> "
            ],
            "text/plain": [
              "<IPython.core.display.HTML object>"
            ]
          },
          "metadata": {}
        },
        {
          "output_type": "stream",
          "name": "stdout",
          "text": [
            "Saving kaggle.json to kaggle.json\n"
          ]
        },
        {
          "output_type": "execute_result",
          "data": {
            "text/plain": [
              "{'kaggle.json': b'{\"username\":\"tiaralailatulnikmah\",\"key\":\"e83b812efdaf93d18a37ffd6a6a83f08\"}'}"
            ]
          },
          "metadata": {},
          "execution_count": 2
        }
      ]
    },
    {
      "cell_type": "code",
      "metadata": {
        "id": "ThdeQluidq8_"
      },
      "source": [
        "# set up kaggle API\n",
        "!mkdir -p ~/.kaggle \n",
        "!cp kaggle.json ~/.kaggle/\n",
        "!chmod 600 ~/.kaggle/kaggle.json"
      ],
      "execution_count": 3,
      "outputs": []
    },
    {
      "cell_type": "code",
      "metadata": {
        "colab": {
          "base_uri": "https://localhost:8080/"
        },
        "id": "cRbcl3R2aGyY",
        "outputId": "b16b7472-1fe4-4995-cb4f-be44af2d6252"
      },
      "source": [
        "# mendownload dataset dari kaggle\n",
        "!kaggle datasets download -d grouplens/movielens-20m-dataset"
      ],
      "execution_count": 4,
      "outputs": [
        {
          "output_type": "stream",
          "name": "stdout",
          "text": [
            "Downloading movielens-20m-dataset.zip to /content\n",
            " 95% 186M/195M [00:01<00:00, 129MB/s]\n",
            "100% 195M/195M [00:01<00:00, 136MB/s]\n"
          ]
        }
      ]
    },
    {
      "cell_type": "code",
      "metadata": {
        "colab": {
          "base_uri": "https://localhost:8080/"
        },
        "id": "zZXB86WibxVx",
        "outputId": "3c00b381-9fe8-4b1f-c0cc-89fc1541045c"
      },
      "source": [
        "# mengecek dataset yang telah terunduh\n",
        "!ls"
      ],
      "execution_count": 5,
      "outputs": [
        {
          "output_type": "stream",
          "name": "stdout",
          "text": [
            "kaggle.json  movielens-20m-dataset.zip\tsample_data\n"
          ]
        }
      ]
    },
    {
      "cell_type": "code",
      "metadata": {
        "colab": {
          "base_uri": "https://localhost:8080/"
        },
        "id": "o2DLPP2VdxlH",
        "outputId": "9b5efd3f-90c0-40e8-93db-846023cce864"
      },
      "source": [
        "# melakukan unzip pada dataset yang telah di download\n",
        "!unzip /content/movielens-20m-dataset.zip"
      ],
      "execution_count": 6,
      "outputs": [
        {
          "output_type": "stream",
          "name": "stdout",
          "text": [
            "Archive:  /content/movielens-20m-dataset.zip\n",
            "  inflating: genome_scores.csv       \n",
            "  inflating: genome_tags.csv         \n",
            "  inflating: link.csv                \n",
            "  inflating: movie.csv               \n",
            "  inflating: rating.csv              \n",
            "  inflating: tag.csv                 \n"
          ]
        }
      ]
    },
    {
      "cell_type": "code",
      "metadata": {
        "colab": {
          "base_uri": "https://localhost:8080/"
        },
        "id": "jkIJLNxBeoT4",
        "outputId": "4cb5fdb6-6969-44d8-902a-bcff7d6da2d2"
      },
      "source": [
        "# mendefinisikan setiap file\n",
        "import pandas as pd\n",
        " \n",
        "link = pd.read_csv('/content/link.csv')\n",
        "movie = pd.read_csv('/content/movie.csv')\n",
        "rating = pd.read_csv('/content/rating.csv')\n",
        "tag = pd.read_csv('/content/tag.csv')\n",
        "genome_scores = pd.read_csv('/content/genome_scores.csv')\n",
        "genome_tags = pd.read_csv('/content/genome_tags.csv')\n",
        "\n",
        "# melihat jumlah data unik setiap file menggunakan movieId dan userId nya\n",
        "print('Jumlah tautan yang dapat digunakan untuk menautkan ke sumber lain:: ', len(link.movieId.unique()))\n",
        "print('Jumlah data terdiri dari informasi utama tentang film: ', len(movie.movieId.unique()))\n",
        "print('Jumlah data rating film: ', len(rating.userId.unique()))\n",
        "print('Jumlah data yang berisi tag yang diterapkan ke film oleh pengguna: ', len(tag.userId.unique()))\n",
        "print('Jumlah data yang berisi data relevansi tag film : ', len(genome_scores.movieId.unique()))\n",
        "print('Jumlah data yang berisi deskripsi tag:: ', len(genome_tags.tagId.unique()))"
      ],
      "execution_count": 7,
      "outputs": [
        {
          "output_type": "stream",
          "name": "stdout",
          "text": [
            "Jumlah tautan yang dapat digunakan untuk menautkan ke sumber lain::  27278\n",
            "Jumlah data terdiri dari informasi utama tentang film:  27278\n",
            "Jumlah data rating film:  138493\n",
            "Jumlah data yang berisi tag yang diterapkan ke film oleh pengguna:  7801\n",
            "Jumlah data yang berisi data relevansi tag film :  10381\n",
            "Jumlah data yang berisi deskripsi tag::  1128\n"
          ]
        }
      ]
    },
    {
      "cell_type": "markdown",
      "metadata": {
        "id": "RsPkhlYAPtZy"
      },
      "source": [
        "# **Univariate Exploratory Data Analysis**"
      ]
    },
    {
      "cell_type": "markdown",
      "metadata": {
        "id": "IMvDnW2EPnjP"
      },
      "source": [
        "# **Movie Variabel**"
      ]
    },
    {
      "cell_type": "code",
      "metadata": {
        "colab": {
          "base_uri": "https://localhost:8080/"
        },
        "id": "v7HRtQcRPyJN",
        "outputId": "e08d9b9a-51c1-4cce-9558-4c436e202c97"
      },
      "source": [
        "# melihat info dataset movie\n",
        "movie.info()"
      ],
      "execution_count": 8,
      "outputs": [
        {
          "output_type": "stream",
          "name": "stdout",
          "text": [
            "<class 'pandas.core.frame.DataFrame'>\n",
            "RangeIndex: 27278 entries, 0 to 27277\n",
            "Data columns (total 3 columns):\n",
            " #   Column   Non-Null Count  Dtype \n",
            "---  ------   --------------  ----- \n",
            " 0   movieId  27278 non-null  int64 \n",
            " 1   title    27278 non-null  object\n",
            " 2   genres   27278 non-null  object\n",
            "dtypes: int64(1), object(2)\n",
            "memory usage: 639.5+ KB\n"
          ]
        }
      ]
    },
    {
      "cell_type": "code",
      "metadata": {
        "colab": {
          "base_uri": "https://localhost:8080/"
        },
        "id": "K29mTLb0QDS4",
        "outputId": "579cc4b9-a083-4241-fbcc-97542d2e9ac4"
      },
      "source": [
        "# melihat jumlah data unik dari judul film dan genre\n",
        "print('Banyak data: ', len(movie.movieId.unique()))\n",
        "print('Jumlah judul film: ', len(movie.title.unique()))\n",
        "print('Judul film: ', movie.title.unique())\n",
        "print('Jumlah jenis genre dari film: ', len(movie.genres.unique()))\n",
        "print('Genre film: ', movie.genres.unique())"
      ],
      "execution_count": 9,
      "outputs": [
        {
          "output_type": "stream",
          "name": "stdout",
          "text": [
            "Banyak data:  27278\n",
            "Jumlah judul film:  27262\n",
            "Judul film:  ['Toy Story (1995)' 'Jumanji (1995)' 'Grumpier Old Men (1995)' ...\n",
            " 'The Pirates (2014)' 'Rentun Ruusu (2001)' 'Innocence (2014)']\n",
            "Jumlah jenis genre dari film:  1342\n",
            "Genre film:  ['Adventure|Animation|Children|Comedy|Fantasy'\n",
            " 'Adventure|Children|Fantasy' 'Comedy|Romance' ...\n",
            " 'Action|Adventure|Animation|Fantasy|Horror'\n",
            " 'Animation|Children|Comedy|Fantasy|Sci-Fi'\n",
            " 'Animation|Children|Comedy|Western']\n"
          ]
        }
      ]
    },
    {
      "cell_type": "markdown",
      "metadata": {
        "id": "KvXP_WMa4zv4"
      },
      "source": [
        "## **Ratings Variable**"
      ]
    },
    {
      "cell_type": "code",
      "metadata": {
        "colab": {
          "base_uri": "https://localhost:8080/"
        },
        "id": "uANjZh3o09Yz",
        "outputId": "ba223c8e-d96a-4012-9450-558dcc258636"
      },
      "source": [
        "# melihat info dataset rating\n",
        "rating.info()"
      ],
      "execution_count": 10,
      "outputs": [
        {
          "output_type": "stream",
          "name": "stdout",
          "text": [
            "<class 'pandas.core.frame.DataFrame'>\n",
            "RangeIndex: 20000263 entries, 0 to 20000262\n",
            "Data columns (total 4 columns):\n",
            " #   Column     Dtype  \n",
            "---  ------     -----  \n",
            " 0   userId     int64  \n",
            " 1   movieId    int64  \n",
            " 2   rating     float64\n",
            " 3   timestamp  object \n",
            "dtypes: float64(1), int64(2), object(1)\n",
            "memory usage: 610.4+ MB\n"
          ]
        }
      ]
    },
    {
      "cell_type": "code",
      "metadata": {
        "colab": {
          "base_uri": "https://localhost:8080/",
          "height": 206
        },
        "id": "iFqO11xiwZLa",
        "outputId": "703a53c8-241c-48ed-e638-9915ac77e66e"
      },
      "source": [
        "# melihat data ratings 5 teratas\n",
        "rating.head()"
      ],
      "execution_count": 11,
      "outputs": [
        {
          "output_type": "execute_result",
          "data": {
            "text/html": [
              "<div>\n",
              "<style scoped>\n",
              "    .dataframe tbody tr th:only-of-type {\n",
              "        vertical-align: middle;\n",
              "    }\n",
              "\n",
              "    .dataframe tbody tr th {\n",
              "        vertical-align: top;\n",
              "    }\n",
              "\n",
              "    .dataframe thead th {\n",
              "        text-align: right;\n",
              "    }\n",
              "</style>\n",
              "<table border=\"1\" class=\"dataframe\">\n",
              "  <thead>\n",
              "    <tr style=\"text-align: right;\">\n",
              "      <th></th>\n",
              "      <th>userId</th>\n",
              "      <th>movieId</th>\n",
              "      <th>rating</th>\n",
              "      <th>timestamp</th>\n",
              "    </tr>\n",
              "  </thead>\n",
              "  <tbody>\n",
              "    <tr>\n",
              "      <th>0</th>\n",
              "      <td>1</td>\n",
              "      <td>2</td>\n",
              "      <td>3.5</td>\n",
              "      <td>2005-04-02 23:53:47</td>\n",
              "    </tr>\n",
              "    <tr>\n",
              "      <th>1</th>\n",
              "      <td>1</td>\n",
              "      <td>29</td>\n",
              "      <td>3.5</td>\n",
              "      <td>2005-04-02 23:31:16</td>\n",
              "    </tr>\n",
              "    <tr>\n",
              "      <th>2</th>\n",
              "      <td>1</td>\n",
              "      <td>32</td>\n",
              "      <td>3.5</td>\n",
              "      <td>2005-04-02 23:33:39</td>\n",
              "    </tr>\n",
              "    <tr>\n",
              "      <th>3</th>\n",
              "      <td>1</td>\n",
              "      <td>47</td>\n",
              "      <td>3.5</td>\n",
              "      <td>2005-04-02 23:32:07</td>\n",
              "    </tr>\n",
              "    <tr>\n",
              "      <th>4</th>\n",
              "      <td>1</td>\n",
              "      <td>50</td>\n",
              "      <td>3.5</td>\n",
              "      <td>2005-04-02 23:29:40</td>\n",
              "    </tr>\n",
              "  </tbody>\n",
              "</table>\n",
              "</div>"
            ],
            "text/plain": [
              "   userId  movieId  rating            timestamp\n",
              "0       1        2     3.5  2005-04-02 23:53:47\n",
              "1       1       29     3.5  2005-04-02 23:31:16\n",
              "2       1       32     3.5  2005-04-02 23:33:39\n",
              "3       1       47     3.5  2005-04-02 23:32:07\n",
              "4       1       50     3.5  2005-04-02 23:29:40"
            ]
          },
          "metadata": {},
          "execution_count": 11
        }
      ]
    },
    {
      "cell_type": "code",
      "metadata": {
        "colab": {
          "base_uri": "https://localhost:8080/",
          "height": 300
        },
        "id": "VIZ_KhJMxM1L",
        "outputId": "d27d8ed7-4575-4e65-a2ec-cb2a80894d77"
      },
      "source": [
        "# elihat distribusi rating pada data\n",
        "rating.describe()"
      ],
      "execution_count": 12,
      "outputs": [
        {
          "output_type": "execute_result",
          "data": {
            "text/html": [
              "<div>\n",
              "<style scoped>\n",
              "    .dataframe tbody tr th:only-of-type {\n",
              "        vertical-align: middle;\n",
              "    }\n",
              "\n",
              "    .dataframe tbody tr th {\n",
              "        vertical-align: top;\n",
              "    }\n",
              "\n",
              "    .dataframe thead th {\n",
              "        text-align: right;\n",
              "    }\n",
              "</style>\n",
              "<table border=\"1\" class=\"dataframe\">\n",
              "  <thead>\n",
              "    <tr style=\"text-align: right;\">\n",
              "      <th></th>\n",
              "      <th>userId</th>\n",
              "      <th>movieId</th>\n",
              "      <th>rating</th>\n",
              "    </tr>\n",
              "  </thead>\n",
              "  <tbody>\n",
              "    <tr>\n",
              "      <th>count</th>\n",
              "      <td>2.000026e+07</td>\n",
              "      <td>2.000026e+07</td>\n",
              "      <td>2.000026e+07</td>\n",
              "    </tr>\n",
              "    <tr>\n",
              "      <th>mean</th>\n",
              "      <td>6.904587e+04</td>\n",
              "      <td>9.041567e+03</td>\n",
              "      <td>3.525529e+00</td>\n",
              "    </tr>\n",
              "    <tr>\n",
              "      <th>std</th>\n",
              "      <td>4.003863e+04</td>\n",
              "      <td>1.978948e+04</td>\n",
              "      <td>1.051989e+00</td>\n",
              "    </tr>\n",
              "    <tr>\n",
              "      <th>min</th>\n",
              "      <td>1.000000e+00</td>\n",
              "      <td>1.000000e+00</td>\n",
              "      <td>5.000000e-01</td>\n",
              "    </tr>\n",
              "    <tr>\n",
              "      <th>25%</th>\n",
              "      <td>3.439500e+04</td>\n",
              "      <td>9.020000e+02</td>\n",
              "      <td>3.000000e+00</td>\n",
              "    </tr>\n",
              "    <tr>\n",
              "      <th>50%</th>\n",
              "      <td>6.914100e+04</td>\n",
              "      <td>2.167000e+03</td>\n",
              "      <td>3.500000e+00</td>\n",
              "    </tr>\n",
              "    <tr>\n",
              "      <th>75%</th>\n",
              "      <td>1.036370e+05</td>\n",
              "      <td>4.770000e+03</td>\n",
              "      <td>4.000000e+00</td>\n",
              "    </tr>\n",
              "    <tr>\n",
              "      <th>max</th>\n",
              "      <td>1.384930e+05</td>\n",
              "      <td>1.312620e+05</td>\n",
              "      <td>5.000000e+00</td>\n",
              "    </tr>\n",
              "  </tbody>\n",
              "</table>\n",
              "</div>"
            ],
            "text/plain": [
              "             userId       movieId        rating\n",
              "count  2.000026e+07  2.000026e+07  2.000026e+07\n",
              "mean   6.904587e+04  9.041567e+03  3.525529e+00\n",
              "std    4.003863e+04  1.978948e+04  1.051989e+00\n",
              "min    1.000000e+00  1.000000e+00  5.000000e-01\n",
              "25%    3.439500e+04  9.020000e+02  3.000000e+00\n",
              "50%    6.914100e+04  2.167000e+03  3.500000e+00\n",
              "75%    1.036370e+05  4.770000e+03  4.000000e+00\n",
              "max    1.384930e+05  1.312620e+05  5.000000e+00"
            ]
          },
          "metadata": {},
          "execution_count": 12
        }
      ]
    },
    {
      "cell_type": "markdown",
      "metadata": {
        "id": "2IfQtYCRxg6S"
      },
      "source": [
        "nilai maksimum rating adalah 5 dan nilai minimumnya adalah 0.5 Artinya, skala rating berkisar antara 0.5 hingga 5. "
      ]
    },
    {
      "cell_type": "code",
      "metadata": {
        "colab": {
          "base_uri": "https://localhost:8080/"
        },
        "id": "ZAg9G-ary9Ow",
        "outputId": "41fc9fb8-48e9-42e7-b20a-61c1013a1806"
      },
      "source": [
        "# Untuk melihat berapa pengguna yang memberikan rating, jumlah film, dan jumlah rating\n",
        "print('Jumlah userID: ', len(rating.userId.unique()))\n",
        "print('Jumlah movieID: ', len(rating.movieId.unique()))\n",
        "print('Jumlah data rating: ', len(rating))"
      ],
      "execution_count": 13,
      "outputs": [
        {
          "output_type": "stream",
          "name": "stdout",
          "text": [
            "Jumlah userID:  138493\n",
            "Jumlah movieID:  26744\n",
            "Jumlah data rating:  20000263\n"
          ]
        }
      ]
    },
    {
      "cell_type": "markdown",
      "metadata": {
        "id": "x4-8wjx009N9"
      },
      "source": [
        "# **Data Preprocessing**"
      ]
    },
    {
      "cell_type": "code",
      "metadata": {
        "colab": {
          "base_uri": "https://localhost:8080/"
        },
        "id": "LHdS2tPb4V8T",
        "outputId": "662ef25e-b9fc-4b00-9857-d8a22a0a9f18"
      },
      "source": [
        "# mengecek apakah ada nilai yang hilang\n",
        "movie.isnull().sum()"
      ],
      "execution_count": 14,
      "outputs": [
        {
          "output_type": "execute_result",
          "data": {
            "text/plain": [
              "movieId    0\n",
              "title      0\n",
              "genres     0\n",
              "dtype: int64"
            ]
          },
          "metadata": {},
          "execution_count": 14
        }
      ]
    },
    {
      "cell_type": "markdown",
      "metadata": {
        "id": "BPHmRdTdzr7Y"
      },
      "source": [
        "## **Menggabungkan Data Film**"
      ]
    },
    {
      "cell_type": "code",
      "metadata": {
        "colab": {
          "base_uri": "https://localhost:8080/"
        },
        "id": "U5Rc8t2K1A-5",
        "outputId": "9face19a-de59-4230-ec41-3a66ef967b43"
      },
      "source": [
        "# import library\n",
        "import numpy as np\n",
        " \n",
        "# Menggabungkan seluruh id pada kategori Movie\n",
        "movie_all = np.concatenate((\n",
        "    movie.movieId.unique(),\n",
        "    link.movieId.unique()\n",
        "))\n",
        " \n",
        "# Mengurutkan data dan menghapus data yang sama\n",
        "movie_all = np.sort(np.unique(movie_all))\n",
        " \n",
        "print('Jumlah seluruh data film berdasarkan id: ', len(movie_all))"
      ],
      "execution_count": 15,
      "outputs": [
        {
          "output_type": "stream",
          "name": "stdout",
          "text": [
            "Jumlah seluruh data film berdasarkan id:  27278\n"
          ]
        }
      ]
    },
    {
      "cell_type": "markdown",
      "metadata": {
        "id": "zw44lJO9DYht"
      },
      "source": [
        "## **Menggabungkan Data User**"
      ]
    },
    {
      "cell_type": "code",
      "metadata": {
        "colab": {
          "base_uri": "https://localhost:8080/"
        },
        "id": "zPu12UPtDdLd",
        "outputId": "c27385a4-c362-4749-e3a9-504098ce4324"
      },
      "source": [
        "# import library\n",
        "import numpy as np\n",
        " \n",
        "# Menggabungkan seluruh id pada kategori user\n",
        "user_all = np.concatenate((\n",
        "    rating.userId.unique(),\n",
        "    tag.userId.unique()\n",
        ")) \n",
        "# Menghapus data yang sama kemudian mengurutkannya\n",
        "user_all = np.sort(np.unique(user_all)) \n",
        " \n",
        "print('Jumlah seluruh user: ', len(user_all))"
      ],
      "execution_count": 16,
      "outputs": [
        {
          "output_type": "stream",
          "name": "stdout",
          "text": [
            "Jumlah seluruh user:  138493\n"
          ]
        }
      ]
    },
    {
      "cell_type": "markdown",
      "metadata": {
        "id": "gEjGUcySD9jw"
      },
      "source": [
        "## **Mengetahui Jumlah Rating**\n",
        "Untuk mengetahui jumlah seluruh rating dari berbagai file"
      ]
    },
    {
      "cell_type": "code",
      "metadata": {
        "colab": {
          "base_uri": "https://localhost:8080/",
          "height": 666
        },
        "id": "YaZJPTNkSbv_",
        "outputId": "22c143c5-9a83-4b25-ddb3-ab892980d94e"
      },
      "source": [
        "# Menggabungkan dataframe rating dengan movie_info berdasarkan nilai movieID\n",
        "data_movie= pd.merge(rating, movie , on='movieId', how='left')\n",
        "data_movie"
      ],
      "execution_count": 17,
      "outputs": [
        {
          "output_type": "execute_result",
          "data": {
            "text/html": [
              "<div>\n",
              "<style scoped>\n",
              "    .dataframe tbody tr th:only-of-type {\n",
              "        vertical-align: middle;\n",
              "    }\n",
              "\n",
              "    .dataframe tbody tr th {\n",
              "        vertical-align: top;\n",
              "    }\n",
              "\n",
              "    .dataframe thead th {\n",
              "        text-align: right;\n",
              "    }\n",
              "</style>\n",
              "<table border=\"1\" class=\"dataframe\">\n",
              "  <thead>\n",
              "    <tr style=\"text-align: right;\">\n",
              "      <th></th>\n",
              "      <th>userId</th>\n",
              "      <th>movieId</th>\n",
              "      <th>rating</th>\n",
              "      <th>timestamp</th>\n",
              "      <th>title</th>\n",
              "      <th>genres</th>\n",
              "    </tr>\n",
              "  </thead>\n",
              "  <tbody>\n",
              "    <tr>\n",
              "      <th>0</th>\n",
              "      <td>1</td>\n",
              "      <td>2</td>\n",
              "      <td>3.5</td>\n",
              "      <td>2005-04-02 23:53:47</td>\n",
              "      <td>Jumanji (1995)</td>\n",
              "      <td>Adventure|Children|Fantasy</td>\n",
              "    </tr>\n",
              "    <tr>\n",
              "      <th>1</th>\n",
              "      <td>1</td>\n",
              "      <td>29</td>\n",
              "      <td>3.5</td>\n",
              "      <td>2005-04-02 23:31:16</td>\n",
              "      <td>City of Lost Children, The (Cité des enfants p...</td>\n",
              "      <td>Adventure|Drama|Fantasy|Mystery|Sci-Fi</td>\n",
              "    </tr>\n",
              "    <tr>\n",
              "      <th>2</th>\n",
              "      <td>1</td>\n",
              "      <td>32</td>\n",
              "      <td>3.5</td>\n",
              "      <td>2005-04-02 23:33:39</td>\n",
              "      <td>Twelve Monkeys (a.k.a. 12 Monkeys) (1995)</td>\n",
              "      <td>Mystery|Sci-Fi|Thriller</td>\n",
              "    </tr>\n",
              "    <tr>\n",
              "      <th>3</th>\n",
              "      <td>1</td>\n",
              "      <td>47</td>\n",
              "      <td>3.5</td>\n",
              "      <td>2005-04-02 23:32:07</td>\n",
              "      <td>Seven (a.k.a. Se7en) (1995)</td>\n",
              "      <td>Mystery|Thriller</td>\n",
              "    </tr>\n",
              "    <tr>\n",
              "      <th>4</th>\n",
              "      <td>1</td>\n",
              "      <td>50</td>\n",
              "      <td>3.5</td>\n",
              "      <td>2005-04-02 23:29:40</td>\n",
              "      <td>Usual Suspects, The (1995)</td>\n",
              "      <td>Crime|Mystery|Thriller</td>\n",
              "    </tr>\n",
              "    <tr>\n",
              "      <th>...</th>\n",
              "      <td>...</td>\n",
              "      <td>...</td>\n",
              "      <td>...</td>\n",
              "      <td>...</td>\n",
              "      <td>...</td>\n",
              "      <td>...</td>\n",
              "    </tr>\n",
              "    <tr>\n",
              "      <th>20000258</th>\n",
              "      <td>138493</td>\n",
              "      <td>68954</td>\n",
              "      <td>4.5</td>\n",
              "      <td>2009-11-13 15:42:00</td>\n",
              "      <td>Up (2009)</td>\n",
              "      <td>Adventure|Animation|Children|Drama</td>\n",
              "    </tr>\n",
              "    <tr>\n",
              "      <th>20000259</th>\n",
              "      <td>138493</td>\n",
              "      <td>69526</td>\n",
              "      <td>4.5</td>\n",
              "      <td>2009-12-03 18:31:48</td>\n",
              "      <td>Transformers: Revenge of the Fallen (2009)</td>\n",
              "      <td>Action|Adventure|Sci-Fi|IMAX</td>\n",
              "    </tr>\n",
              "    <tr>\n",
              "      <th>20000260</th>\n",
              "      <td>138493</td>\n",
              "      <td>69644</td>\n",
              "      <td>3.0</td>\n",
              "      <td>2009-12-07 18:10:57</td>\n",
              "      <td>Ice Age: Dawn of the Dinosaurs (2009)</td>\n",
              "      <td>Action|Adventure|Animation|Children|Comedy|Rom...</td>\n",
              "    </tr>\n",
              "    <tr>\n",
              "      <th>20000261</th>\n",
              "      <td>138493</td>\n",
              "      <td>70286</td>\n",
              "      <td>5.0</td>\n",
              "      <td>2009-11-13 15:42:24</td>\n",
              "      <td>District 9 (2009)</td>\n",
              "      <td>Mystery|Sci-Fi|Thriller</td>\n",
              "    </tr>\n",
              "    <tr>\n",
              "      <th>20000262</th>\n",
              "      <td>138493</td>\n",
              "      <td>71619</td>\n",
              "      <td>2.5</td>\n",
              "      <td>2009-10-17 20:25:36</td>\n",
              "      <td>Coco Before Chanel (Coco avant Chanel) (2009)</td>\n",
              "      <td>Drama</td>\n",
              "    </tr>\n",
              "  </tbody>\n",
              "</table>\n",
              "<p>20000263 rows × 6 columns</p>\n",
              "</div>"
            ],
            "text/plain": [
              "          userId  ...                                             genres\n",
              "0              1  ...                         Adventure|Children|Fantasy\n",
              "1              1  ...             Adventure|Drama|Fantasy|Mystery|Sci-Fi\n",
              "2              1  ...                            Mystery|Sci-Fi|Thriller\n",
              "3              1  ...                                   Mystery|Thriller\n",
              "4              1  ...                             Crime|Mystery|Thriller\n",
              "...          ...  ...                                                ...\n",
              "20000258  138493  ...                 Adventure|Animation|Children|Drama\n",
              "20000259  138493  ...                       Action|Adventure|Sci-Fi|IMAX\n",
              "20000260  138493  ...  Action|Adventure|Animation|Children|Comedy|Rom...\n",
              "20000261  138493  ...                            Mystery|Sci-Fi|Thriller\n",
              "20000262  138493  ...                                              Drama\n",
              "\n",
              "[20000263 rows x 6 columns]"
            ]
          },
          "metadata": {},
          "execution_count": 17
        }
      ]
    },
    {
      "cell_type": "code",
      "metadata": {
        "colab": {
          "base_uri": "https://localhost:8080/"
        },
        "id": "s3753wwLnLun",
        "outputId": "6f0bf71c-7415-4f3d-8c95-9ef71858b452"
      },
      "source": [
        "# Cek missing value dengan fungsi isnull()\n",
        "data_movie.isnull().sum()"
      ],
      "execution_count": 18,
      "outputs": [
        {
          "output_type": "execute_result",
          "data": {
            "text/plain": [
              "userId       0\n",
              "movieId      0\n",
              "rating       0\n",
              "timestamp    0\n",
              "title        0\n",
              "genres       0\n",
              "dtype: int64"
            ]
          },
          "metadata": {},
          "execution_count": 18
        }
      ]
    },
    {
      "cell_type": "markdown",
      "metadata": {
        "id": "BlWyE5emxvL8"
      },
      "source": [
        "## **Menggabungkan Data dengan Fitur Nama dan Genre Film**"
      ]
    },
    {
      "cell_type": "code",
      "metadata": {
        "colab": {
          "base_uri": "https://localhost:8080/",
          "height": 423
        },
        "id": "WqWI2_lSxzw8",
        "outputId": "4f3744e3-44f1-4419-815d-7a9ffab0c493"
      },
      "source": [
        "# Definisikan dataframe rating ke dalam variabel movie_rate dan menghapus kolom 'timestamp' yang tidak diperlukan\n",
        "rating.drop(['timestamp'], axis=1, inplace=True)\n",
        "rating"
      ],
      "execution_count": 19,
      "outputs": [
        {
          "output_type": "execute_result",
          "data": {
            "text/html": [
              "<div>\n",
              "<style scoped>\n",
              "    .dataframe tbody tr th:only-of-type {\n",
              "        vertical-align: middle;\n",
              "    }\n",
              "\n",
              "    .dataframe tbody tr th {\n",
              "        vertical-align: top;\n",
              "    }\n",
              "\n",
              "    .dataframe thead th {\n",
              "        text-align: right;\n",
              "    }\n",
              "</style>\n",
              "<table border=\"1\" class=\"dataframe\">\n",
              "  <thead>\n",
              "    <tr style=\"text-align: right;\">\n",
              "      <th></th>\n",
              "      <th>userId</th>\n",
              "      <th>movieId</th>\n",
              "      <th>rating</th>\n",
              "    </tr>\n",
              "  </thead>\n",
              "  <tbody>\n",
              "    <tr>\n",
              "      <th>0</th>\n",
              "      <td>1</td>\n",
              "      <td>2</td>\n",
              "      <td>3.5</td>\n",
              "    </tr>\n",
              "    <tr>\n",
              "      <th>1</th>\n",
              "      <td>1</td>\n",
              "      <td>29</td>\n",
              "      <td>3.5</td>\n",
              "    </tr>\n",
              "    <tr>\n",
              "      <th>2</th>\n",
              "      <td>1</td>\n",
              "      <td>32</td>\n",
              "      <td>3.5</td>\n",
              "    </tr>\n",
              "    <tr>\n",
              "      <th>3</th>\n",
              "      <td>1</td>\n",
              "      <td>47</td>\n",
              "      <td>3.5</td>\n",
              "    </tr>\n",
              "    <tr>\n",
              "      <th>4</th>\n",
              "      <td>1</td>\n",
              "      <td>50</td>\n",
              "      <td>3.5</td>\n",
              "    </tr>\n",
              "    <tr>\n",
              "      <th>...</th>\n",
              "      <td>...</td>\n",
              "      <td>...</td>\n",
              "      <td>...</td>\n",
              "    </tr>\n",
              "    <tr>\n",
              "      <th>20000258</th>\n",
              "      <td>138493</td>\n",
              "      <td>68954</td>\n",
              "      <td>4.5</td>\n",
              "    </tr>\n",
              "    <tr>\n",
              "      <th>20000259</th>\n",
              "      <td>138493</td>\n",
              "      <td>69526</td>\n",
              "      <td>4.5</td>\n",
              "    </tr>\n",
              "    <tr>\n",
              "      <th>20000260</th>\n",
              "      <td>138493</td>\n",
              "      <td>69644</td>\n",
              "      <td>3.0</td>\n",
              "    </tr>\n",
              "    <tr>\n",
              "      <th>20000261</th>\n",
              "      <td>138493</td>\n",
              "      <td>70286</td>\n",
              "      <td>5.0</td>\n",
              "    </tr>\n",
              "    <tr>\n",
              "      <th>20000262</th>\n",
              "      <td>138493</td>\n",
              "      <td>71619</td>\n",
              "      <td>2.5</td>\n",
              "    </tr>\n",
              "  </tbody>\n",
              "</table>\n",
              "<p>20000263 rows × 3 columns</p>\n",
              "</div>"
            ],
            "text/plain": [
              "          userId  movieId  rating\n",
              "0              1        2     3.5\n",
              "1              1       29     3.5\n",
              "2              1       32     3.5\n",
              "3              1       47     3.5\n",
              "4              1       50     3.5\n",
              "...          ...      ...     ...\n",
              "20000258  138493    68954     4.5\n",
              "20000259  138493    69526     4.5\n",
              "20000260  138493    69644     3.0\n",
              "20000261  138493    70286     5.0\n",
              "20000262  138493    71619     2.5\n",
              "\n",
              "[20000263 rows x 3 columns]"
            ]
          },
          "metadata": {},
          "execution_count": 19
        }
      ]
    },
    {
      "cell_type": "code",
      "metadata": {
        "colab": {
          "base_uri": "https://localhost:8080/",
          "height": 423
        },
        "id": "aC6ibP_k0tdq",
        "outputId": "d4004b9e-6604-428d-8625-66447d980bcb"
      },
      "source": [
        "# mendefinisikan dataset rating menjadi movie_rate\n",
        "movie_rate = rating\n",
        "movie_rate"
      ],
      "execution_count": 20,
      "outputs": [
        {
          "output_type": "execute_result",
          "data": {
            "text/html": [
              "<div>\n",
              "<style scoped>\n",
              "    .dataframe tbody tr th:only-of-type {\n",
              "        vertical-align: middle;\n",
              "    }\n",
              "\n",
              "    .dataframe tbody tr th {\n",
              "        vertical-align: top;\n",
              "    }\n",
              "\n",
              "    .dataframe thead th {\n",
              "        text-align: right;\n",
              "    }\n",
              "</style>\n",
              "<table border=\"1\" class=\"dataframe\">\n",
              "  <thead>\n",
              "    <tr style=\"text-align: right;\">\n",
              "      <th></th>\n",
              "      <th>userId</th>\n",
              "      <th>movieId</th>\n",
              "      <th>rating</th>\n",
              "    </tr>\n",
              "  </thead>\n",
              "  <tbody>\n",
              "    <tr>\n",
              "      <th>0</th>\n",
              "      <td>1</td>\n",
              "      <td>2</td>\n",
              "      <td>3.5</td>\n",
              "    </tr>\n",
              "    <tr>\n",
              "      <th>1</th>\n",
              "      <td>1</td>\n",
              "      <td>29</td>\n",
              "      <td>3.5</td>\n",
              "    </tr>\n",
              "    <tr>\n",
              "      <th>2</th>\n",
              "      <td>1</td>\n",
              "      <td>32</td>\n",
              "      <td>3.5</td>\n",
              "    </tr>\n",
              "    <tr>\n",
              "      <th>3</th>\n",
              "      <td>1</td>\n",
              "      <td>47</td>\n",
              "      <td>3.5</td>\n",
              "    </tr>\n",
              "    <tr>\n",
              "      <th>4</th>\n",
              "      <td>1</td>\n",
              "      <td>50</td>\n",
              "      <td>3.5</td>\n",
              "    </tr>\n",
              "    <tr>\n",
              "      <th>...</th>\n",
              "      <td>...</td>\n",
              "      <td>...</td>\n",
              "      <td>...</td>\n",
              "    </tr>\n",
              "    <tr>\n",
              "      <th>20000258</th>\n",
              "      <td>138493</td>\n",
              "      <td>68954</td>\n",
              "      <td>4.5</td>\n",
              "    </tr>\n",
              "    <tr>\n",
              "      <th>20000259</th>\n",
              "      <td>138493</td>\n",
              "      <td>69526</td>\n",
              "      <td>4.5</td>\n",
              "    </tr>\n",
              "    <tr>\n",
              "      <th>20000260</th>\n",
              "      <td>138493</td>\n",
              "      <td>69644</td>\n",
              "      <td>3.0</td>\n",
              "    </tr>\n",
              "    <tr>\n",
              "      <th>20000261</th>\n",
              "      <td>138493</td>\n",
              "      <td>70286</td>\n",
              "      <td>5.0</td>\n",
              "    </tr>\n",
              "    <tr>\n",
              "      <th>20000262</th>\n",
              "      <td>138493</td>\n",
              "      <td>71619</td>\n",
              "      <td>2.5</td>\n",
              "    </tr>\n",
              "  </tbody>\n",
              "</table>\n",
              "<p>20000263 rows × 3 columns</p>\n",
              "</div>"
            ],
            "text/plain": [
              "          userId  movieId  rating\n",
              "0              1        2     3.5\n",
              "1              1       29     3.5\n",
              "2              1       32     3.5\n",
              "3              1       47     3.5\n",
              "4              1       50     3.5\n",
              "...          ...      ...     ...\n",
              "20000258  138493    68954     4.5\n",
              "20000259  138493    69526     4.5\n",
              "20000260  138493    69644     3.0\n",
              "20000261  138493    70286     5.0\n",
              "20000262  138493    71619     2.5\n",
              "\n",
              "[20000263 rows x 3 columns]"
            ]
          },
          "metadata": {},
          "execution_count": 20
        }
      ]
    },
    {
      "cell_type": "code",
      "metadata": {
        "colab": {
          "base_uri": "https://localhost:8080/",
          "height": 510
        },
        "id": "ylDhzeGcpfAh",
        "outputId": "122eb252-2345-452c-ee72-9f68b9b515da"
      },
      "source": [
        "# Menggabungkan rating dengan dataframe movie berdasarkan movieId\n",
        "all_movie = pd.merge(movie_rate, movie, on='movieId', how='left')\n",
        " \n",
        "# Print dataframe all_movie_name\n",
        "all_movie"
      ],
      "execution_count": 21,
      "outputs": [
        {
          "output_type": "execute_result",
          "data": {
            "text/html": [
              "<div>\n",
              "<style scoped>\n",
              "    .dataframe tbody tr th:only-of-type {\n",
              "        vertical-align: middle;\n",
              "    }\n",
              "\n",
              "    .dataframe tbody tr th {\n",
              "        vertical-align: top;\n",
              "    }\n",
              "\n",
              "    .dataframe thead th {\n",
              "        text-align: right;\n",
              "    }\n",
              "</style>\n",
              "<table border=\"1\" class=\"dataframe\">\n",
              "  <thead>\n",
              "    <tr style=\"text-align: right;\">\n",
              "      <th></th>\n",
              "      <th>userId</th>\n",
              "      <th>movieId</th>\n",
              "      <th>rating</th>\n",
              "      <th>title</th>\n",
              "      <th>genres</th>\n",
              "    </tr>\n",
              "  </thead>\n",
              "  <tbody>\n",
              "    <tr>\n",
              "      <th>0</th>\n",
              "      <td>1</td>\n",
              "      <td>2</td>\n",
              "      <td>3.5</td>\n",
              "      <td>Jumanji (1995)</td>\n",
              "      <td>Adventure|Children|Fantasy</td>\n",
              "    </tr>\n",
              "    <tr>\n",
              "      <th>1</th>\n",
              "      <td>1</td>\n",
              "      <td>29</td>\n",
              "      <td>3.5</td>\n",
              "      <td>City of Lost Children, The (Cité des enfants p...</td>\n",
              "      <td>Adventure|Drama|Fantasy|Mystery|Sci-Fi</td>\n",
              "    </tr>\n",
              "    <tr>\n",
              "      <th>2</th>\n",
              "      <td>1</td>\n",
              "      <td>32</td>\n",
              "      <td>3.5</td>\n",
              "      <td>Twelve Monkeys (a.k.a. 12 Monkeys) (1995)</td>\n",
              "      <td>Mystery|Sci-Fi|Thriller</td>\n",
              "    </tr>\n",
              "    <tr>\n",
              "      <th>3</th>\n",
              "      <td>1</td>\n",
              "      <td>47</td>\n",
              "      <td>3.5</td>\n",
              "      <td>Seven (a.k.a. Se7en) (1995)</td>\n",
              "      <td>Mystery|Thriller</td>\n",
              "    </tr>\n",
              "    <tr>\n",
              "      <th>4</th>\n",
              "      <td>1</td>\n",
              "      <td>50</td>\n",
              "      <td>3.5</td>\n",
              "      <td>Usual Suspects, The (1995)</td>\n",
              "      <td>Crime|Mystery|Thriller</td>\n",
              "    </tr>\n",
              "    <tr>\n",
              "      <th>...</th>\n",
              "      <td>...</td>\n",
              "      <td>...</td>\n",
              "      <td>...</td>\n",
              "      <td>...</td>\n",
              "      <td>...</td>\n",
              "    </tr>\n",
              "    <tr>\n",
              "      <th>20000258</th>\n",
              "      <td>138493</td>\n",
              "      <td>68954</td>\n",
              "      <td>4.5</td>\n",
              "      <td>Up (2009)</td>\n",
              "      <td>Adventure|Animation|Children|Drama</td>\n",
              "    </tr>\n",
              "    <tr>\n",
              "      <th>20000259</th>\n",
              "      <td>138493</td>\n",
              "      <td>69526</td>\n",
              "      <td>4.5</td>\n",
              "      <td>Transformers: Revenge of the Fallen (2009)</td>\n",
              "      <td>Action|Adventure|Sci-Fi|IMAX</td>\n",
              "    </tr>\n",
              "    <tr>\n",
              "      <th>20000260</th>\n",
              "      <td>138493</td>\n",
              "      <td>69644</td>\n",
              "      <td>3.0</td>\n",
              "      <td>Ice Age: Dawn of the Dinosaurs (2009)</td>\n",
              "      <td>Action|Adventure|Animation|Children|Comedy|Rom...</td>\n",
              "    </tr>\n",
              "    <tr>\n",
              "      <th>20000261</th>\n",
              "      <td>138493</td>\n",
              "      <td>70286</td>\n",
              "      <td>5.0</td>\n",
              "      <td>District 9 (2009)</td>\n",
              "      <td>Mystery|Sci-Fi|Thriller</td>\n",
              "    </tr>\n",
              "    <tr>\n",
              "      <th>20000262</th>\n",
              "      <td>138493</td>\n",
              "      <td>71619</td>\n",
              "      <td>2.5</td>\n",
              "      <td>Coco Before Chanel (Coco avant Chanel) (2009)</td>\n",
              "      <td>Drama</td>\n",
              "    </tr>\n",
              "  </tbody>\n",
              "</table>\n",
              "<p>20000263 rows × 5 columns</p>\n",
              "</div>"
            ],
            "text/plain": [
              "          userId  ...                                             genres\n",
              "0              1  ...                         Adventure|Children|Fantasy\n",
              "1              1  ...             Adventure|Drama|Fantasy|Mystery|Sci-Fi\n",
              "2              1  ...                            Mystery|Sci-Fi|Thriller\n",
              "3              1  ...                                   Mystery|Thriller\n",
              "4              1  ...                             Crime|Mystery|Thriller\n",
              "...          ...  ...                                                ...\n",
              "20000258  138493  ...                 Adventure|Animation|Children|Drama\n",
              "20000259  138493  ...                       Action|Adventure|Sci-Fi|IMAX\n",
              "20000260  138493  ...  Action|Adventure|Animation|Children|Comedy|Rom...\n",
              "20000261  138493  ...                            Mystery|Sci-Fi|Thriller\n",
              "20000262  138493  ...                                              Drama\n",
              "\n",
              "[20000263 rows x 5 columns]"
            ]
          },
          "metadata": {},
          "execution_count": 21
        }
      ]
    },
    {
      "cell_type": "markdown",
      "metadata": {
        "id": "L-T94R_2RPlX"
      },
      "source": [
        "## **Mengambil sampel data**"
      ]
    },
    {
      "cell_type": "code",
      "metadata": {
        "colab": {
          "base_uri": "https://localhost:8080/",
          "height": 458
        },
        "id": "dfk22ppxQ4u3",
        "outputId": "8bba114d-6985-4ac3-cc53-c404bd9af83c"
      },
      "source": [
        "# Mengambil sampel 50.000 record data saja\n",
        "all_movie = all_movie[:50000]\n",
        "all_movie"
      ],
      "execution_count": 22,
      "outputs": [
        {
          "output_type": "execute_result",
          "data": {
            "text/html": [
              "<div>\n",
              "<style scoped>\n",
              "    .dataframe tbody tr th:only-of-type {\n",
              "        vertical-align: middle;\n",
              "    }\n",
              "\n",
              "    .dataframe tbody tr th {\n",
              "        vertical-align: top;\n",
              "    }\n",
              "\n",
              "    .dataframe thead th {\n",
              "        text-align: right;\n",
              "    }\n",
              "</style>\n",
              "<table border=\"1\" class=\"dataframe\">\n",
              "  <thead>\n",
              "    <tr style=\"text-align: right;\">\n",
              "      <th></th>\n",
              "      <th>userId</th>\n",
              "      <th>movieId</th>\n",
              "      <th>rating</th>\n",
              "      <th>title</th>\n",
              "      <th>genres</th>\n",
              "    </tr>\n",
              "  </thead>\n",
              "  <tbody>\n",
              "    <tr>\n",
              "      <th>0</th>\n",
              "      <td>1</td>\n",
              "      <td>2</td>\n",
              "      <td>3.5</td>\n",
              "      <td>Jumanji (1995)</td>\n",
              "      <td>Adventure|Children|Fantasy</td>\n",
              "    </tr>\n",
              "    <tr>\n",
              "      <th>1</th>\n",
              "      <td>1</td>\n",
              "      <td>29</td>\n",
              "      <td>3.5</td>\n",
              "      <td>City of Lost Children, The (Cité des enfants p...</td>\n",
              "      <td>Adventure|Drama|Fantasy|Mystery|Sci-Fi</td>\n",
              "    </tr>\n",
              "    <tr>\n",
              "      <th>2</th>\n",
              "      <td>1</td>\n",
              "      <td>32</td>\n",
              "      <td>3.5</td>\n",
              "      <td>Twelve Monkeys (a.k.a. 12 Monkeys) (1995)</td>\n",
              "      <td>Mystery|Sci-Fi|Thriller</td>\n",
              "    </tr>\n",
              "    <tr>\n",
              "      <th>3</th>\n",
              "      <td>1</td>\n",
              "      <td>47</td>\n",
              "      <td>3.5</td>\n",
              "      <td>Seven (a.k.a. Se7en) (1995)</td>\n",
              "      <td>Mystery|Thriller</td>\n",
              "    </tr>\n",
              "    <tr>\n",
              "      <th>4</th>\n",
              "      <td>1</td>\n",
              "      <td>50</td>\n",
              "      <td>3.5</td>\n",
              "      <td>Usual Suspects, The (1995)</td>\n",
              "      <td>Crime|Mystery|Thriller</td>\n",
              "    </tr>\n",
              "    <tr>\n",
              "      <th>...</th>\n",
              "      <td>...</td>\n",
              "      <td>...</td>\n",
              "      <td>...</td>\n",
              "      <td>...</td>\n",
              "      <td>...</td>\n",
              "    </tr>\n",
              "    <tr>\n",
              "      <th>49995</th>\n",
              "      <td>370</td>\n",
              "      <td>55830</td>\n",
              "      <td>4.0</td>\n",
              "      <td>Be Kind Rewind (2008)</td>\n",
              "      <td>Comedy</td>\n",
              "    </tr>\n",
              "    <tr>\n",
              "      <th>49996</th>\n",
              "      <td>370</td>\n",
              "      <td>56003</td>\n",
              "      <td>1.0</td>\n",
              "      <td>Southland Tales (2006)</td>\n",
              "      <td>Comedy|Drama|Sci-Fi|Thriller</td>\n",
              "    </tr>\n",
              "    <tr>\n",
              "      <th>49997</th>\n",
              "      <td>370</td>\n",
              "      <td>56152</td>\n",
              "      <td>4.0</td>\n",
              "      <td>Enchanted (2007)</td>\n",
              "      <td>Adventure|Animation|Children|Comedy|Fantasy|Mu...</td>\n",
              "    </tr>\n",
              "    <tr>\n",
              "      <th>49998</th>\n",
              "      <td>370</td>\n",
              "      <td>56156</td>\n",
              "      <td>2.0</td>\n",
              "      <td>Hitman (2007)</td>\n",
              "      <td>Action|Crime|Thriller</td>\n",
              "    </tr>\n",
              "    <tr>\n",
              "      <th>49999</th>\n",
              "      <td>370</td>\n",
              "      <td>56169</td>\n",
              "      <td>3.5</td>\n",
              "      <td>Awake (2007)</td>\n",
              "      <td>Drama|Thriller</td>\n",
              "    </tr>\n",
              "  </tbody>\n",
              "</table>\n",
              "<p>50000 rows × 5 columns</p>\n",
              "</div>"
            ],
            "text/plain": [
              "       userId  ...                                             genres\n",
              "0           1  ...                         Adventure|Children|Fantasy\n",
              "1           1  ...             Adventure|Drama|Fantasy|Mystery|Sci-Fi\n",
              "2           1  ...                            Mystery|Sci-Fi|Thriller\n",
              "3           1  ...                                   Mystery|Thriller\n",
              "4           1  ...                             Crime|Mystery|Thriller\n",
              "...       ...  ...                                                ...\n",
              "49995     370  ...                                             Comedy\n",
              "49996     370  ...                       Comedy|Drama|Sci-Fi|Thriller\n",
              "49997     370  ...  Adventure|Animation|Children|Comedy|Fantasy|Mu...\n",
              "49998     370  ...                              Action|Crime|Thriller\n",
              "49999     370  ...                                     Drama|Thriller\n",
              "\n",
              "[50000 rows x 5 columns]"
            ]
          },
          "metadata": {},
          "execution_count": 22
        }
      ]
    },
    {
      "cell_type": "markdown",
      "metadata": {
        "id": "yDnGycue_1aT"
      },
      "source": [
        "# **Membagi fitur dataset**"
      ]
    },
    {
      "cell_type": "code",
      "metadata": {
        "id": "-K_1TD44_N6T"
      },
      "source": [
        "# bagi fitur pada dataset menjadi dua bagian\n",
        "numerical_features = ['rating']\n",
        "categorical_features = ['title', 'genres', tag['tag']]"
      ],
      "execution_count": 23,
      "outputs": []
    },
    {
      "cell_type": "markdown",
      "metadata": {
        "id": "1qsp3pZ69zwf"
      },
      "source": [
        "# **Visualisasi Data**"
      ]
    },
    {
      "cell_type": "code",
      "metadata": {
        "colab": {
          "base_uri": "https://localhost:8080/",
          "height": 1000
        },
        "id": "v0cqUWZ0LY6t",
        "outputId": "17e7b627-ab92-4cab-913a-50cc900124b1"
      },
      "source": [
        "# Fitur Title\n",
        "feature = categorical_features[0]\n",
        "count = all_movie[feature].value_counts()\n",
        "percent = 100*all_movie[feature].value_counts(normalize=True)\n",
        "df = pd.DataFrame({'jumlah sampel':count, 'persentase':percent.round(1)})\n",
        "print(df)\n",
        "count.plot(kind='bar', title=feature);"
      ],
      "execution_count": 24,
      "outputs": [
        {
          "output_type": "stream",
          "name": "stdout",
          "text": [
            "                                       jumlah sampel  persentase\n",
            "Pulp Fiction (1994)                              187         0.4\n",
            "Forrest Gump (1994)                              182         0.4\n",
            "Jurassic Park (1993)                             157         0.3\n",
            "Shawshank Redemption, The (1994)                 157         0.3\n",
            "Silence of the Lambs, The (1991)                 153         0.3\n",
            "...                                              ...         ...\n",
            "My Name Is Bruce (2007)                            1         0.0\n",
            "Immediate Family (1989)                            1         0.0\n",
            "Rapture, The (1991)                                1         0.0\n",
            "Hound of the Baskervilles, The (1939)              1         0.0\n",
            "Lost in Austen (2008)                              1         0.0\n",
            "\n",
            "[6470 rows x 2 columns]\n"
          ]
        },
        {
          "output_type": "display_data",
          "data": {
            "image/png": "[encoded data removed]",
            "text/plain": [
              "<Figure size 432x288 with 1 Axes>"
            ]
          },
          "metadata": {
            "needs_background": "light"
          }
        }
      ]
    },
    {
      "cell_type": "code",
      "metadata": {
        "colab": {
          "base_uri": "https://localhost:8080/",
          "height": 842
        },
        "id": "yL8j83-693p8",
        "outputId": "ea77646b-c9e0-4c31-b225-a564b8f5f1cf"
      },
      "source": [
        "# Fitur Genre\n",
        "feature = categorical_features[1]\n",
        "count = all_movie[feature].value_counts()\n",
        "percent = 100*all_movie[feature].value_counts(normalize=True)\n",
        "df = pd.DataFrame({'jumlah sampel':count, 'persentase':percent.round(1)})\n",
        "print(df)\n",
        "count.plot(kind='bar', title=feature);"
      ],
      "execution_count": 25,
      "outputs": [
        {
          "output_type": "stream",
          "name": "stdout",
          "text": [
            "                                  jumlah sampel  persentase\n",
            "Drama                                      3666         7.3\n",
            "Comedy                                     3380         6.8\n",
            "Comedy|Romance                             2047         4.1\n",
            "Comedy|Drama                               1666         3.3\n",
            "Comedy|Drama|Romance                       1506         3.0\n",
            "...                                         ...         ...\n",
            "Action|Horror|Sci-Fi|War                      1         0.0\n",
            "Adventure|Romance|Sci-Fi|IMAX                 1         0.0\n",
            "Children|Horror|Mystery|Thriller              1         0.0\n",
            "Crime|Documentary                             1         0.0\n",
            "Action|Animation|Comedy|Sci-Fi                1         0.0\n",
            "\n",
            "[764 rows x 2 columns]\n"
          ]
        },
        {
          "output_type": "display_data",
          "data": {
            "image/png": "[encoded data removed]",
            "text/plain": [
              "<Figure size 432x288 with 1 Axes>"
            ]
          },
          "metadata": {
            "needs_background": "light"
          }
        }
      ]
    },
    {
      "cell_type": "code",
      "metadata": {
        "id": "FCtoc-OVCZdX",
        "colab": {
          "base_uri": "https://localhost:8080/",
          "height": 649
        },
        "outputId": "41ab0c92-94bd-4224-a956-1a01d8db3149"
      },
      "source": [
        "# histogram masing-masing fitur numerik\n",
        "import matplotlib.pyplot as plt\n",
        "all_movie.hist(bins=50, figsize=(20,15))\n",
        "plt.show()"
      ],
      "execution_count": 26,
      "outputs": [
        {
          "output_type": "display_data",
          "data": {
            "image/png": "[encoded data removed]",
            "text/plain": [
              "<Figure size 1440x1080 with 4 Axes>"
            ]
          },
          "metadata": {
            "needs_background": "light"
          }
        }
      ]
    },
    {
      "cell_type": "markdown",
      "metadata": {
        "id": "_r7Ba8552swK"
      },
      "source": [
        "# **Data Preparation**\n",
        "\n",
        "\n"
      ]
    },
    {
      "cell_type": "markdown",
      "metadata": {
        "id": "sh5Nl0oA2xDo"
      },
      "source": [
        "## **Mengatasi Missing Value**"
      ]
    },
    {
      "cell_type": "code",
      "metadata": {
        "id": "3Ynz6kdG22DB",
        "colab": {
          "base_uri": "https://localhost:8080/"
        },
        "outputId": "d84dec80-2f9e-4ade-ed29-acb19e5755b2"
      },
      "source": [
        "# Mengecek missing value pada dataframe all_movie\n",
        "all_movie.isnull().sum()"
      ],
      "execution_count": 27,
      "outputs": [
        {
          "output_type": "execute_result",
          "data": {
            "text/plain": [
              "userId     0\n",
              "movieId    0\n",
              "rating     0\n",
              "title      0\n",
              "genres     0\n",
              "dtype: int64"
            ]
          },
          "metadata": {},
          "execution_count": 27
        }
      ]
    },
    {
      "cell_type": "markdown",
      "metadata": {
        "id": "DCEUMEY93G-i"
      },
      "source": [
        "## **Menyamakan Jenis Genre**"
      ]
    },
    {
      "cell_type": "code",
      "metadata": {
        "id": "uCUAXpV631CV",
        "colab": {
          "base_uri": "https://localhost:8080/",
          "height": 441
        },
        "outputId": "c5b1926c-f734-40fa-afe5-42b24be14df8"
      },
      "source": [
        "# Mengurutkan movie berdasarkan movieID kemudian memasukkannya ke dalam variabel fix_movie\n",
        "fix_movie = all_movie.sort_values('movieId', ascending=True)\n",
        "fix_movie"
      ],
      "execution_count": 28,
      "outputs": [
        {
          "output_type": "execute_result",
          "data": {
            "text/html": [
              "<div>\n",
              "<style scoped>\n",
              "    .dataframe tbody tr th:only-of-type {\n",
              "        vertical-align: middle;\n",
              "    }\n",
              "\n",
              "    .dataframe tbody tr th {\n",
              "        vertical-align: top;\n",
              "    }\n",
              "\n",
              "    .dataframe thead th {\n",
              "        text-align: right;\n",
              "    }\n",
              "</style>\n",
              "<table border=\"1\" class=\"dataframe\">\n",
              "  <thead>\n",
              "    <tr style=\"text-align: right;\">\n",
              "      <th></th>\n",
              "      <th>userId</th>\n",
              "      <th>movieId</th>\n",
              "      <th>rating</th>\n",
              "      <th>title</th>\n",
              "      <th>genres</th>\n",
              "    </tr>\n",
              "  </thead>\n",
              "  <tbody>\n",
              "    <tr>\n",
              "      <th>3903</th>\n",
              "      <td>34</td>\n",
              "      <td>1</td>\n",
              "      <td>5.0</td>\n",
              "      <td>Toy Story (1995)</td>\n",
              "      <td>Adventure|Animation|Children|Comedy|Fantasy</td>\n",
              "    </tr>\n",
              "    <tr>\n",
              "      <th>19783</th>\n",
              "      <td>155</td>\n",
              "      <td>1</td>\n",
              "      <td>2.5</td>\n",
              "      <td>Toy Story (1995)</td>\n",
              "      <td>Adventure|Animation|Children|Comedy|Fantasy</td>\n",
              "    </tr>\n",
              "    <tr>\n",
              "      <th>19846</th>\n",
              "      <td>156</td>\n",
              "      <td>1</td>\n",
              "      <td>5.0</td>\n",
              "      <td>Toy Story (1995)</td>\n",
              "      <td>Adventure|Animation|Children|Comedy|Fantasy</td>\n",
              "    </tr>\n",
              "    <tr>\n",
              "      <th>1500</th>\n",
              "      <td>13</td>\n",
              "      <td>1</td>\n",
              "      <td>4.0</td>\n",
              "      <td>Toy Story (1995)</td>\n",
              "      <td>Adventure|Animation|Children|Comedy|Fantasy</td>\n",
              "    </tr>\n",
              "    <tr>\n",
              "      <th>1464</th>\n",
              "      <td>12</td>\n",
              "      <td>1</td>\n",
              "      <td>4.0</td>\n",
              "      <td>Toy Story (1995)</td>\n",
              "      <td>Adventure|Animation|Children|Comedy|Fantasy</td>\n",
              "    </tr>\n",
              "    <tr>\n",
              "      <th>...</th>\n",
              "      <td>...</td>\n",
              "      <td>...</td>\n",
              "      <td>...</td>\n",
              "      <td>...</td>\n",
              "      <td>...</td>\n",
              "    </tr>\n",
              "    <tr>\n",
              "      <th>8059</th>\n",
              "      <td>71</td>\n",
              "      <td>117511</td>\n",
              "      <td>3.0</td>\n",
              "      <td>Hello Ladies: The Movie (2014)</td>\n",
              "      <td>Comedy</td>\n",
              "    </tr>\n",
              "    <tr>\n",
              "      <th>8060</th>\n",
              "      <td>71</td>\n",
              "      <td>117590</td>\n",
              "      <td>3.5</td>\n",
              "      <td>Horrible Bosses 2 (2014)</td>\n",
              "      <td>Comedy|Crime</td>\n",
              "    </tr>\n",
              "    <tr>\n",
              "      <th>3778</th>\n",
              "      <td>31</td>\n",
              "      <td>118696</td>\n",
              "      <td>5.0</td>\n",
              "      <td>The Hobbit: The Battle of the Five Armies (2014)</td>\n",
              "      <td>Adventure|Fantasy</td>\n",
              "    </tr>\n",
              "    <tr>\n",
              "      <th>3779</th>\n",
              "      <td>31</td>\n",
              "      <td>125916</td>\n",
              "      <td>0.5</td>\n",
              "      <td>Fifty Shades of Grey (2015)</td>\n",
              "      <td>Drama</td>\n",
              "    </tr>\n",
              "    <tr>\n",
              "      <th>36851</th>\n",
              "      <td>284</td>\n",
              "      <td>128488</td>\n",
              "      <td>3.0</td>\n",
              "      <td>Wild Card (2015)</td>\n",
              "      <td>Crime|Drama|Thriller</td>\n",
              "    </tr>\n",
              "  </tbody>\n",
              "</table>\n",
              "<p>50000 rows × 5 columns</p>\n",
              "</div>"
            ],
            "text/plain": [
              "       userId  ...                                       genres\n",
              "3903       34  ...  Adventure|Animation|Children|Comedy|Fantasy\n",
              "19783     155  ...  Adventure|Animation|Children|Comedy|Fantasy\n",
              "19846     156  ...  Adventure|Animation|Children|Comedy|Fantasy\n",
              "1500       13  ...  Adventure|Animation|Children|Comedy|Fantasy\n",
              "1464       12  ...  Adventure|Animation|Children|Comedy|Fantasy\n",
              "...       ...  ...                                          ...\n",
              "8059       71  ...                                       Comedy\n",
              "8060       71  ...                                 Comedy|Crime\n",
              "3778       31  ...                            Adventure|Fantasy\n",
              "3779       31  ...                                        Drama\n",
              "36851     284  ...                         Crime|Drama|Thriller\n",
              "\n",
              "[50000 rows x 5 columns]"
            ]
          },
          "metadata": {},
          "execution_count": 28
        }
      ]
    },
    {
      "cell_type": "code",
      "metadata": {
        "id": "vLExAcE24SBr",
        "colab": {
          "base_uri": "https://localhost:8080/"
        },
        "outputId": "057728ab-8396-47c5-a4cd-a750da3769af"
      },
      "source": [
        "# Mengecek berapa jumlah fix_movie\n",
        "len(fix_movie.movieId.unique())"
      ],
      "execution_count": 29,
      "outputs": [
        {
          "output_type": "execute_result",
          "data": {
            "text/plain": [
              "6471"
            ]
          },
          "metadata": {},
          "execution_count": 29
        }
      ]
    },
    {
      "cell_type": "code",
      "metadata": {
        "id": "pdEKH8h24q2m",
        "colab": {
          "base_uri": "https://localhost:8080/"
        },
        "outputId": "58c040bc-bab4-4140-f76e-eca4a0260d8d"
      },
      "source": [
        "# Mengecek kategori judul film yang unik\n",
        "fix_movie.genres.unique()"
      ],
      "execution_count": 30,
      "outputs": [
        {
          "output_type": "execute_result",
          "data": {
            "text/plain": [
              "array(['Adventure|Animation|Children|Comedy|Fantasy',\n",
              "       'Adventure|Children|Fantasy', 'Comedy|Romance',\n",
              "       'Comedy|Drama|Romance', 'Comedy', 'Action|Crime|Thriller',\n",
              "       'Adventure|Children', 'Action', 'Action|Adventure|Thriller',\n",
              "       'Comedy|Horror', 'Adventure|Animation|Children', 'Drama',\n",
              "       'Action|Adventure|Romance', 'Crime|Drama', 'Drama|Romance',\n",
              "       'Action|Comedy|Crime|Drama|Thriller', 'Comedy|Crime|Thriller',\n",
              "       'Crime|Drama|Horror|Mystery|Thriller', 'Drama|Sci-Fi',\n",
              "       'Children|Drama', 'Adventure|Drama|Fantasy|Mystery|Sci-Fi',\n",
              "       'Mystery|Sci-Fi|Thriller', 'Children|Comedy', 'Drama|War',\n",
              "       'Action|Crime|Drama', 'Action|Adventure|Fantasy',\n",
              "       'Comedy|Drama|Thriller', 'Mystery|Thriller',\n",
              "       'Animation|Children|Drama|Musical|Romance',\n",
              "       'Crime|Mystery|Thriller', 'Drama|Mystery', 'Drama|Thriller',\n",
              "       'Comedy|Crime', 'Action|Sci-Fi|Thriller',\n",
              "       'Action|Comedy|Horror|Thriller', 'Comedy|Drama', 'Documentary',\n",
              "       'Action|Crime|Drama|Thriller', 'Crime|Drama|Romance',\n",
              "       'Action|Adventure|Drama', 'Action|Thriller',\n",
              "       'Drama|Horror|Thriller', 'Comedy|Horror|Romance',\n",
              "       'Adventure|Comedy|Crime|Romance',\n",
              "       'Adventure|Children|Comedy|Musical', 'Action|Drama|War',\n",
              "       'Crime|Drama|Thriller', 'Action|Adventure|Comedy|Crime',\n",
              "       'Drama|Mystery|Romance', 'Thriller', 'Action|Drama',\n",
              "       'Adventure|Drama|IMAX', 'Action|Drama|Romance|War', 'Drama|Horror',\n",
              "       'Adventure|Drama|War', 'Comedy|War', 'Crime|Drama|Mystery',\n",
              "       'Action|Adventure|Mystery|Sci-Fi', 'Drama|Thriller|War',\n",
              "       'Action|Romance|Western', 'Crime|Film-Noir|Mystery|Thriller',\n",
              "       'Comedy|Crime|Drama', 'Action|Drama|Romance',\n",
              "       'Adventure|Children|Drama', 'Action|Adventure|Crime|Thriller',\n",
              "       'Action|Crime|Sci-Fi', 'Horror', 'Action|Children',\n",
              "       'Comedy|Horror|Thriller', 'Fantasy|Horror|Mystery',\n",
              "       'Comedy|Fantasy', 'Horror|Sci-Fi',\n",
              "       'Action|Crime|Drama|Mystery|Sci-Fi|Thriller',\n",
              "       'Drama|Musical|Romance', 'Drama|Fantasy',\n",
              "       'Action|Adventure|Sci-Fi', 'Western',\n",
              "       'Adventure|Comedy|Crime|Mystery', 'Adventure|Comedy',\n",
              "       'Action|Comedy|Romance', 'Animation|Children|Comedy|Romance',\n",
              "       'Drama|Musical', 'Children|Comedy|Fantasy', 'Comedy|Sci-Fi',\n",
              "       'Adventure|Children|Comedy|Fantasy|Romance',\n",
              "       'Drama|Fantasy|Romance', 'Drama|Romance|War|Western',\n",
              "       'Drama|Horror|Sci-Fi', 'Action|Drama|Sci-Fi|Thriller',\n",
              "       'Comedy|Crime|Drama|Thriller', 'Action|Thriller|Western',\n",
              "       'Animation|Children', 'Children|Drama|Fantasy|Mystery',\n",
              "       'Action|Drama|Thriller', 'Comedy|Drama|Fantasy',\n",
              "       'Film-Noir|Thriller', 'Action|Comedy|Sci-Fi', 'Horror|Thriller',\n",
              "       'Adventure|Drama|Sci-Fi', 'Action|Crime|Horror', 'Children',\n",
              "       'Drama|Film-Noir|Romance', 'Drama|Mystery|Thriller',\n",
              "       'Action|Crime|Fantasy|Thriller', 'Comedy|Drama|Romance|War',\n",
              "       'Action|Comedy', 'Adventure|Children|Romance',\n",
              "       'Adventure|Animation|Children|Drama|Musical|IMAX',\n",
              "       'Drama|Horror|Mystery|Thriller', 'Action|Comedy|Crime|Fantasy',\n",
              "       'Adventure|Comedy|Western', 'Action|Romance|Thriller',\n",
              "       'Action|Adventure|Comedy|Romance|Thriller',\n",
              "       'Drama|Horror|Romance|Thriller', 'Drama|Romance|War',\n",
              "       'Adventure|Animation', 'Action|Fantasy', 'Comedy|Documentary',\n",
              "       'Comedy|Thriller', 'Action|Comedy|Crime|Thriller',\n",
              "       'Horror|Sci-Fi|Thriller', 'Drama|Mystery|Romance|Thriller',\n",
              "       'Action|Comedy|Drama', 'Adventure|Documentary', 'Drama|Western',\n",
              "       'Action|Adventure|Crime|Drama|Romance|Thriller',\n",
              "       'Action|Comedy|War', 'Action|Adventure|Sci-Fi|Thriller',\n",
              "       'Action|Adventure|Comedy|Fantasy', 'Comedy|Western',\n",
              "       'Comedy|Mystery', 'Comedy|Drama|Romance|Thriller',\n",
              "       'Action|Children|Romance', 'Action|Drama|Sci-Fi',\n",
              "       'Comedy|Mystery|Romance', 'Action|Drama|Mystery',\n",
              "       'Action|Crime|Drama|Sci-Fi|Thriller', 'Crime|Thriller',\n",
              "       'Comedy|Crime|Horror', 'Action|Adventure|Fantasy|Mystery',\n",
              "       'Comedy|Romance|Thriller', 'Action|Crime',\n",
              "       'Action|Adventure|Children|Comedy|Fantasy|Sci-Fi',\n",
              "       'Action|Mystery|Thriller', 'Animation|Children|Fantasy|Musical',\n",
              "       'Action|Adventure|Comedy|Romance', 'Action|Drama|Western',\n",
              "       'Action|Adventure|Animation|Children|Fantasy',\n",
              "       'Comedy|Drama|Fantasy|Romance|Thriller',\n",
              "       'Adventure|Animation|Children|Comedy|Musical', 'Action|Sci-Fi',\n",
              "       'Adventure|Drama|Western', 'Crime|Horror|Thriller',\n",
              "       'Animation|Children|Drama|Fantasy|Musical',\n",
              "       'Animation|Children|Fantasy|Musical|Romance|IMAX',\n",
              "       'Adventure|Western', 'Fantasy|Horror',\n",
              "       'Action|Adventure|Animation|Horror|Sci-Fi', 'Action|Horror|Sci-Fi',\n",
              "       'Crime|Drama|Mystery|Thriller',\n",
              "       'Adventure|Animation|Children|Fantasy|Musical|Romance', 'Romance',\n",
              "       'Adventure|Children|Comedy', 'Action|Crime|Drama|War',\n",
              "       'Action|Adventure|Mystery|Thriller',\n",
              "       'Adventure|Animation|Children|Fantasy|Musical', 'Comedy|Drama|War',\n",
              "       'Adventure|Animation|Children|Comedy|Fantasy|Sci-Fi',\n",
              "       'Adventure|Comedy|Sci-Fi', 'Drama|Mystery|Romance|Sci-Fi|Thriller',\n",
              "       'Crime', 'Action|Adventure|Comedy|War', 'Action|Adventure',\n",
              "       'Drama|Mystery|Western', 'Comedy|Fantasy|Sci-Fi',\n",
              "       'Adventure|Animation|Comedy', 'Drama|Fantasy|Horror|Thriller',\n",
              "       'Action|Adventure|Romance|Thriller', 'Animation|Sci-Fi',\n",
              "       'Animation|Children|Comedy', 'Comedy|Documentary|Romance',\n",
              "       'Comedy|Fantasy|Romance|Sci-Fi', 'Action|Adventure|Drama|Thriller',\n",
              "       'Comedy|Fantasy|Musical', 'Crime|Drama|Romance|Thriller',\n",
              "       'Crime|Drama|Musical|Thriller', 'Sci-Fi|Thriller',\n",
              "       'Children|Drama|Fantasy', 'Action|Comedy|Crime',\n",
              "       'Adventure|Drama|Romance|War', 'Comedy|Musical|Romance',\n",
              "       'Musical|Romance', 'Comedy|Musical',\n",
              "       'Action|Adventure|Mystery|Romance|Thriller',\n",
              "       'Comedy|Crime|Mystery|Romance|Thriller', 'Film-Noir|Mystery',\n",
              "       'Comedy|Drama|Musical|Romance', 'Musical',\n",
              "       'Adventure|Children|Fantasy|Musical', 'Adventure|Romance|War',\n",
              "       'Drama|Film-Noir|Mystery|Thriller', 'Film-Noir|Romance|Thriller',\n",
              "       'Mystery|Romance|Thriller', 'Crime|Mystery|Romance|Thriller',\n",
              "       'Adventure', 'Crime|Film-Noir|Mystery', 'Drama|Romance|Western',\n",
              "       'Romance|Western', 'War', 'Adventure|Comedy|Romance|War',\n",
              "       'Adventure|Comedy|Crime|Drama|Romance', 'Romance|War',\n",
              "       'Crime|Film-Noir', 'Children|Comedy|Western',\n",
              "       'Children|Comedy|Romance', 'Children|Comedy|Drama',\n",
              "       'Children|Comedy|Mystery',\n",
              "       'Animation|Children|Fantasy|Musical|Romance',\n",
              "       'Animation|Children|Musical', 'Adventure|Drama',\n",
              "       'Children|Comedy|Fantasy|Musical',\n",
              "       'Animation|Children|Drama|Musical',\n",
              "       'Adventure|Animation|Children|Musical',\n",
              "       'Adventure|Children|Musical', 'Animation|Children|Drama',\n",
              "       'Action|Horror|Sci-Fi|Thriller', 'Documentary|Drama',\n",
              "       'Animation|Children|Comedy|Fantasy|Musical|Romance',\n",
              "       'Drama|Romance|Thriller', 'Children|Drama|Sci-Fi',\n",
              "       'Action|Romance', 'Horror|Mystery', 'Adventure|Comedy|Fantasy',\n",
              "       'Animation|Children|Comedy|Crime', 'Action|Adventure|Horror',\n",
              "       'Crime|Drama|Film-Noir', 'Documentary|Musical',\n",
              "       'Action|Adventure|Comedy|Fantasy|Romance', 'Fantasy|Sci-Fi',\n",
              "       'Action|Adventure|Horror|Sci-Fi', 'Action|Adventure|Western',\n",
              "       'Crime|Drama|Sci-Fi|Thriller', 'Film-Noir|Mystery|Thriller',\n",
              "       'Action|Adventure|Comedy|Fantasy|Horror',\n",
              "       'Adventure|Drama|Romance', 'Crime|Horror', 'Action|Comedy|Musical',\n",
              "       'Adventure|Animation|Children|Comedy|Sci-Fi',\n",
              "       'Drama|Mystery|Sci-Fi', 'Comedy|Fantasy|Horror',\n",
              "       'Crime|Drama|Film-Noir|Thriller', 'Crime|Film-Noir|Thriller',\n",
              "       'Action|Crime|Romance|Thriller', 'Drama|Sci-Fi|Thriller',\n",
              "       'Action|Adventure|Drama|Western', 'Comedy|Horror|Sci-Fi',\n",
              "       'Comedy|Musical|War', 'Action|Comedy|Fantasy|Horror',\n",
              "       'Action|Adventure|Drama|War',\n",
              "       'Action|Drama|Mystery|Romance|Thriller', 'Comedy|Fantasy|Romance',\n",
              "       'Crime|Thriller|War', 'Comedy|Mystery|Thriller',\n",
              "       'Comedy|Drama|Film-Noir', 'Action|Adventure|Animation|Sci-Fi',\n",
              "       'Action|Western', 'Fantasy|Horror|Romance|Thriller',\n",
              "       'Drama|Fantasy|Horror', 'Horror|Mystery|Thriller',\n",
              "       'Adventure|Sci-Fi', 'Action|Mystery|Sci-Fi',\n",
              "       'Action|Comedy|Western', 'Action|Horror',\n",
              "       'Action|Comedy|Crime|Drama|Sci-Fi',\n",
              "       'Adventure|Animation|Comedy|Crime',\n",
              "       'Comedy|Horror|Mystery|Thriller', 'Action|Romance|War|Western',\n",
              "       'Comedy|Drama|Fantasy|Romance', 'Action|Adventure|Comedy|Thriller',\n",
              "       'Crime|Drama|Fantasy|Film-Noir|Mystery|Romance',\n",
              "       'Action|Romance|Sci-Fi|Thriller', 'Comedy|Drama|Mystery|Romance',\n",
              "       'Comedy|Crime|Romance', 'Action|Adventure|Comedy',\n",
              "       'Action|Crime|Romance', 'Action|Adventure|Children|Fantasy',\n",
              "       'Action|Adventure|Comedy|Sci-Fi',\n",
              "       'Action|Adventure|Fantasy|Thriller', 'Children|Fantasy',\n",
              "       'Adventure|Romance', 'Action|Thriller|War',\n",
              "       'Children|Comedy|Romance|Sci-Fi', 'Romance|Thriller',\n",
              "       'Comedy|Drama|Sci-Fi',\n",
              "       'Adventure|Animation|Children|Drama|Musical',\n",
              "       'Action|Adventure|Drama|Sci-Fi', 'Action|Children|Comedy',\n",
              "       'Adventure|Film-Noir|Sci-Fi|Thriller',\n",
              "       'Adventure|Children|Fantasy|Sci-Fi',\n",
              "       'Crime|Drama|Fantasy|Thriller', 'Crime|Romance|Thriller',\n",
              "       'Crime|Drama|Mystery|Romance|Thriller', 'Documentary|IMAX',\n",
              "       'Comedy|Crime|Drama|Mystery|Thriller',\n",
              "       'Adventure|Children|Comedy|Fantasy', 'Crime|Drama|Romance|War',\n",
              "       'Adventure|Comedy|Drama', 'Adventure|Comedy|Romance',\n",
              "       'Adventure|Animation|Children|Comedy|Drama|Musical|Romance',\n",
              "       'Action|Crime|Mystery|Sci-Fi|Thriller',\n",
              "       'Comedy|Crime|Drama|Romance|Thriller',\n",
              "       'Animation|Children|Fantasy|War', 'Comedy|Drama|Musical',\n",
              "       'Adventure|Fantasy|Musical', 'Action|Comedy|Crime|Drama',\n",
              "       'Action|Adventure|Children|Comedy|Fantasy',\n",
              "       'Drama|Mystery|Sci-Fi|Thriller', 'Adventure|Comedy|Sci-Fi|Western',\n",
              "       'Adventure|Animation|Children|Fantasy', 'Children|Sci-Fi',\n",
              "       'Children|Comedy|Sci-Fi', 'Action|Adventure|Children|Comedy',\n",
              "       'Adventure|Children|Drama|Romance', 'Adventure|Children|Sci-Fi',\n",
              "       'Action|Animation|Children|Crime',\n",
              "       'Children|Comedy|Fantasy|Horror',\n",
              "       'Adventure|Children|Comedy|Fantasy|Sci-Fi',\n",
              "       'Action|Crime|Drama|Mystery|Thriller', 'Film-Noir',\n",
              "       'Drama|Fantasy|Mystery', 'Animation|Children|Comedy|Musical',\n",
              "       'Animation|Children|Comedy|Musical|Romance',\n",
              "       'Children|Comedy|Musical', 'Children|Musical',\n",
              "       'Adventure|Comedy|Musical',\n",
              "       'Adventure|Animation|Children|Crime|Drama',\n",
              "       'Children|Drama|Fantasy|Mystery|Thriller',\n",
              "       'Adventure|Children|Fantasy|Western',\n",
              "       'Animation|Children|Comedy|Drama|Fantasy',\n",
              "       'Action|Crime|Mystery|Thriller',\n",
              "       'Adventure|Animation|Children|Drama|Fantasy',\n",
              "       'Adventure|Animation|Children|Drama', 'Adventure|Fantasy',\n",
              "       'Adventure|Animation|Children|Comedy',\n",
              "       'Adventure|Animation|Children|Musical|Western',\n",
              "       'Adventure|Fantasy|Romance', 'Adventure|Drama|Fantasy',\n",
              "       'Action|Horror|Thriller', 'Adventure|Fantasy|Sci-Fi',\n",
              "       'Drama|Film-Noir|Thriller', 'Adventure|Drama|Mystery|Thriller',\n",
              "       'Horror|Mystery|Sci-Fi|Thriller', 'Drama|Fantasy|Thriller',\n",
              "       'Adventure|Drama|Fantasy|Romance', 'Sci-Fi',\n",
              "       'Drama|Fantasy|Mystery|Romance', 'Action|Sci-Fi|War',\n",
              "       'Fantasy|Horror|Thriller', 'Horror|Western',\n",
              "       'Action|Adventure|Fantasy|Horror',\n",
              "       'Adventure|Fantasy|Romance|Sci-Fi|Thriller',\n",
              "       'Comedy|Crime|Mystery', 'Action|Drama|Romance|Sci-Fi',\n",
              "       'Animation|Musical', 'Action|Adventure|Thriller|War',\n",
              "       'Comedy|Crime|Mystery|Thriller',\n",
              "       'Action|Adventure|Children|Fantasy|Mystery|Thriller',\n",
              "       'Action|Adventure|Children|Drama',\n",
              "       'Action|Adventure|Drama|Fantasy|Thriller', 'Horror|Mystery|Sci-Fi',\n",
              "       'Drama|Horror|Sci-Fi|Thriller', 'Action|Comedy|Romance|Thriller',\n",
              "       'Action|War', 'Action|Sci-Fi|Thriller|Western',\n",
              "       'Drama|Romance|Sci-Fi|Thriller', 'Drama|Film-Noir',\n",
              "       'Action|Adventure|Comedy|Fantasy|Horror|Thriller',\n",
              "       'Action|Adventure|Crime|Sci-Fi|Thriller', 'Horror|Romance',\n",
              "       'Comedy|Horror|Musical|Sci-Fi', 'Animation|Comedy|Musical',\n",
              "       'Action|Comedy|Sci-Fi|Western', 'Action|Comedy|Fantasy',\n",
              "       'Adventure|Drama|Thriller',\n",
              "       'Action|Adventure|Comedy|Fantasy|Mystery', 'Comedy|Horror|Musical',\n",
              "       'Adventure|Animation|Children|Drama|Sci-Fi',\n",
              "       'Drama|Horror|Mystery', 'Action|Mystery',\n",
              "       'Comedy|Horror|Romance|Thriller', 'Action|Drama|Romance|Thriller',\n",
              "       'Animation|Horror|Mystery|Thriller',\n",
              "       'Adventure|Children|Comedy|Drama', 'Adventure|Sci-Fi|Thriller',\n",
              "       'Adventure|Animation|Comedy|Fantasy|Musical',\n",
              "       'Animation|Children|Fantasy', 'Action|Adventure|Comedy|Drama|War',\n",
              "       'Crime|Drama|Western', 'Comedy|Crime|Drama|Fantasy',\n",
              "       'Drama|Film-Noir|Mystery|Romance', 'Musical|Romance|War',\n",
              "       'Mystery', 'Adventure|Comedy|Fantasy|Sci-Fi',\n",
              "       'Drama|Fantasy|Musical', 'Action|Crime|Sci-Fi|Thriller',\n",
              "       'Adventure|Animation|Children|Comedy|Crime|Fantasy|Mystery',\n",
              "       'Action|Adventure|Animation|Drama|Fantasy',\n",
              "       'Adventure|Animation|Children|Fantasy|Sci-Fi',\n",
              "       'Fantasy|Horror|Mystery|Romance',\n",
              "       'Action|Fantasy|Horror|Mystery|Thriller', 'Drama|Romance|Sci-Fi',\n",
              "       'Animation|Children|Musical|IMAX', 'Comedy|Musical|Western',\n",
              "       'Action|Comedy|Horror', 'Action|Crime|Thriller|Western',\n",
              "       'Fantasy|Horror|Mystery|Thriller', 'Adventure|Crime|Drama|Romance',\n",
              "       'Adventure|Crime|Drama', 'Animation|Comedy',\n",
              "       'Action|Children|Comedy|Fantasy|Sci-Fi', 'Action|Children|Fantasy',\n",
              "       'Action|Adventure|Drama|Thriller|Western',\n",
              "       'Crime|Horror|Mystery|Thriller', 'Crime|Drama|Musical',\n",
              "       'Action|Adventure|Comedy|Western', 'Action|Drama|Thriller|Western',\n",
              "       'Adventure|Drama|Romance|Sci-Fi',\n",
              "       'Film-Noir|Horror|Mystery|Thriller',\n",
              "       'Action|Adventure|Animation|Children|Sci-Fi',\n",
              "       'Action|Fantasy|Horror|Sci-Fi|Thriller',\n",
              "       'Action|Comedy|Crime|Romance', 'Adventure|Horror|Sci-Fi',\n",
              "       'Adventure|Animation|Children|Sci-Fi', 'Adventure|Comedy|Crime',\n",
              "       'Action|Adventure|Crime', 'Action|Crime|Mystery|Romance|Thriller',\n",
              "       'Romance|Sci-Fi', 'Fantasy|Romance', 'Comedy|Romance|Sci-Fi',\n",
              "       'Action|Adventure|Fantasy|Sci-Fi', 'Animation|Comedy|Fantasy',\n",
              "       'Crime|Mystery', 'Action|Adventure|War',\n",
              "       'Action|Crime|Drama|Horror|Thriller',\n",
              "       'Adventure|Comedy|Mystery|Romance', 'Children|Fantasy|Musical',\n",
              "       'Adventure|Animation|Children|Comedy|Fantasy|Romance',\n",
              "       'Comedy|Drama|Romance|Western',\n",
              "       'Adventure|Animation|Fantasy|Sci-Fi',\n",
              "       'Action|Comedy|Horror|Sci-Fi', 'Comedy|Musical|Sci-Fi',\n",
              "       'Drama|Musical|Mystery', 'Action|Adventure|Crime|Drama|Thriller',\n",
              "       'Comedy|Drama|Horror', 'Crime|Musical',\n",
              "       'Action|Animation|Comedy|Crime|Drama|Romance|Thriller',\n",
              "       'Action|Adventure|Drama|Romance', 'Action|Comedy|Romance|War',\n",
              "       'Adventure|Thriller', 'Crime|Drama|Film-Noir|Mystery|Thriller',\n",
              "       'Action|Animation|Sci-Fi', 'Animation|Drama|Fantasy',\n",
              "       'Drama|Fantasy|Mystery|Sci-Fi', 'Action|Adventure|Sci-Fi|Western',\n",
              "       'Drama|Fantasy|Horror|Thriller|War',\n",
              "       'Action|Adventure|Comedy|Drama|Romance|Thriller',\n",
              "       'Mystery|Romance|Sci-Fi|Thriller',\n",
              "       'Adventure|Crime|Drama|Thriller', 'Animation',\n",
              "       'Comedy|Drama|Mystery', 'Action|Adventure|Drama|Romance|Thriller',\n",
              "       'Drama|Fantasy|Horror|Mystery|Thriller',\n",
              "       'Drama|Fantasy|Mystery|Romance|Thriller',\n",
              "       'Animation|Fantasy|Horror|Sci-Fi', 'Adventure|Horror|Thriller',\n",
              "       'Documentary|War', 'Children|Horror|Mystery|Thriller',\n",
              "       'Action|Adventure|Sci-Fi|IMAX', 'Crime|Horror|Mystery',\n",
              "       'Adventure|Animation|Children|Western',\n",
              "       'Adventure|Children|Comedy|Fantasy|Mystery', 'Mystery|Western',\n",
              "       'Adventure|Drama|Horror|Mystery|Thriller',\n",
              "       'Comedy|Sci-Fi|Thriller', 'Children|Drama|Musical',\n",
              "       'Comedy|Drama|Fantasy|Sci-Fi', 'Action|Adventure|Fantasy|Romance',\n",
              "       'Comedy|Crime|Romance|Thriller', 'Adventure|War',\n",
              "       'Comedy|Crime|Musical|Mystery', 'Adventure|Animation|Fantasy',\n",
              "       'Animation|Drama|War', 'Fantasy|Musical|Romance',\n",
              "       'Action|Comedy|Documentary', 'Children|Comedy|Fantasy|Romance',\n",
              "       'Adventure|Animation|Children|Sci-Fi|IMAX',\n",
              "       'Animation|Children|Drama|Fantasy', 'Comedy|Crime|Drama|Musical',\n",
              "       'Action|Adventure|Animation|Fantasy|Sci-Fi',\n",
              "       'Comedy|Crime|Drama|Romance', 'Comedy|Documentary|Musical',\n",
              "       'Children|Western', 'Action|Animation|Sci-Fi|Thriller',\n",
              "       'Adventure|Children|Comedy|Mystery', 'Mystery|Sci-Fi',\n",
              "       'Action|Adventure|Animation|Children|Fantasy|Sci-Fi',\n",
              "       'Action|Adventure|Sci-Fi|Thriller|IMAX', 'Drama|War|Western',\n",
              "       'Comedy|Crime|Mystery|Romance', 'Comedy|War|Western',\n",
              "       'Action|Adventure|Comedy|Crime|Thriller', 'Action|Fantasy|Sci-Fi',\n",
              "       'Action|Comedy|Thriller', 'Action|Adventure|Children',\n",
              "       'Adventure|Comedy|Crime|Thriller', 'Animation|Drama|Romance',\n",
              "       'Action|Fantasy|Horror', 'Fantasy|Horror|Sci-Fi|Thriller',\n",
              "       'Comedy|Musical|Romance|Western', 'Drama|Fantasy|Sci-Fi',\n",
              "       'Action|Adventure|Animation|Fantasy', 'Comedy|Mystery|Sci-Fi',\n",
              "       'Adventure|Thriller|Western', 'Comedy|Crime|Drama|Mystery|Romance',\n",
              "       'Action|Crime|Fantasy|Sci-Fi|Thriller', 'Crime|Fantasy|Horror',\n",
              "       'Action|Adventure|Comedy|Crime|Drama',\n",
              "       'Action|Drama|Horror|Thriller', 'Comedy|Fantasy|Horror|Thriller',\n",
              "       'Adventure|Animation|Drama|Fantasy|Sci-Fi',\n",
              "       'Action|Adventure|Drama|Fantasy',\n",
              "       'Adventure|Drama|Romance|Thriller|War',\n",
              "       'Action|Comedy|Crime|Drama|Horror|Thriller',\n",
              "       'Adventure|Children|Comedy|Fantasy|Musical',\n",
              "       'Animation|Comedy|Fantasy|Musical',\n",
              "       'Action|Adventure|Children|Comedy|Mystery', 'Action|Drama|Horror',\n",
              "       'Musical|Romance|Western', 'Action|Drama|Thriller|War',\n",
              "       'Adventure|Comedy|War', 'Animation|Fantasy|Thriller',\n",
              "       'Children|Comedy|Fantasy|Sci-Fi',\n",
              "       'Action|Adventure|Animation|Comedy|Crime|Mystery',\n",
              "       'Adventure|Animation|Children|Comedy|Musical|Romance',\n",
              "       'Action|Adventure|Drama|Sci-Fi|Thriller', 'Adventure|Fantasy|IMAX',\n",
              "       'Action|Crime|Horror|Mystery|Thriller', 'Comedy|Fantasy|Thriller',\n",
              "       'Comedy|Documentary|Drama', 'Crime|Drama|Horror',\n",
              "       'Adventure|Comedy|Fantasy|Musical', 'Adventure|Animation|Drama',\n",
              "       'Action|Crime|Fantasy', 'Comedy|Drama|Sci-Fi|War',\n",
              "       'Adventure|Drama|Horror|Sci-Fi|Thriller',\n",
              "       'Action|Adventure|Animation|Comedy',\n",
              "       'Action|Adventure|Animation|Children|Comedy',\n",
              "       'Adventure|Animation|Children|Fantasy|IMAX',\n",
              "       'Action|Adventure|Drama|Mystery|Thriller',\n",
              "       'Action|Fantasy|Horror|Thriller', 'Fantasy',\n",
              "       'Adventure|Comedy|Musical|Romance', 'Drama|Film-Noir|Mystery',\n",
              "       'Crime|Documentary|War', 'Children|Comedy|Musical|Romance',\n",
              "       'Action|Crime|Drama|Film-Noir|Thriller',\n",
              "       'Comedy|Drama|Romance|Sci-Fi',\n",
              "       'Adventure|Animation|Comedy|Fantasy|Romance',\n",
              "       'Drama|Fantasy|Horror|Mystery|Sci-Fi|Thriller', 'Action|Animation',\n",
              "       'Adventure|Animation|Children|Musical|Romance',\n",
              "       'Action|Adventure|Comedy|Sci-Fi|Thriller',\n",
              "       'Drama|Fantasy|Romance|Sci-Fi',\n",
              "       'Action|Animation|Crime|Sci-Fi|Thriller',\n",
              "       'Drama|Horror|Mystery|Romance|Thriller', 'Action|Animation|Horror',\n",
              "       'Drama|Sci-Fi|War', 'Action|Animation|Drama|Sci-Fi',\n",
              "       'Drama|Mystery|Romance|War',\n",
              "       'Action|Animation|Drama|Sci-Fi|Thriller',\n",
              "       'Children|Comedy|Crime|Drama|Fantasy',\n",
              "       'Comedy|Drama|Fantasy|Musical|Romance', 'Action|Horror|Sci-Fi|War',\n",
              "       'Adventure|Animation|Fantasy|Musical|Sci-Fi',\n",
              "       'Animation|Drama|Mystery|Sci-Fi|Thriller',\n",
              "       'Adventure|Children|Comedy|Fantasy|IMAX',\n",
              "       'Drama|Horror|Mystery|Sci-Fi|Thriller',\n",
              "       'Action|Animation|Fantasy|Sci-Fi', 'Action|Adventure|Crime|Drama',\n",
              "       'Children|Fantasy|Sci-Fi', 'Adventure|Animation|Fantasy|Romance',\n",
              "       'Action|Fantasy|Horror|Mystery|Sci-Fi|Thriller',\n",
              "       'Comedy|Crime|Drama|Mystery', 'Comedy|Crime|Musical',\n",
              "       'Adventure|Animation|Children|Comedy|Fantasy|Sci-Fi|IMAX',\n",
              "       'Action|Crime|Film-Noir|Mystery|Thriller', 'Animation|Drama',\n",
              "       'Documentary|Mystery', 'Children|Documentary', 'Action|Crime|IMAX',\n",
              "       'Action|Adventure|Horror|Mystery|Sci-Fi|Thriller',\n",
              "       'Action|Crime|Drama|Thriller|War', 'Crime|Drama|Horror|Thriller',\n",
              "       'Animation|Comedy|Fantasy|Musical|Romance',\n",
              "       'Adventure|Children|Drama|Fantasy',\n",
              "       'Action|Horror|Mystery|Thriller',\n",
              "       'Action|Adventure|Animation|Children|Comedy|Sci-Fi',\n",
              "       'Adventure|Drama|Horror|Thriller',\n",
              "       'Adventure|Fantasy|Thriller|IMAX', 'Crime|Drama|Thriller|War',\n",
              "       'Action|Adventure|Comedy|Drama|Romance',\n",
              "       'Animation|Drama|Romance|Sci-Fi', 'Action|Comedy|Crime|Western',\n",
              "       'Action|Fantasy|Sci-Fi|Thriller',\n",
              "       'Action|Drama|Fantasy|Horror|Mystery|Sci-Fi|Thriller',\n",
              "       'Action|Sci-Fi|Thriller|IMAX', 'Crime|Drama|Film-Noir|Mystery',\n",
              "       'Action|Animation|Film-Noir|Sci-Fi|Thriller',\n",
              "       'Action|Adventure|Thriller|IMAX',\n",
              "       'Adventure|Comedy|Drama|Fantasy|Romance',\n",
              "       'Children|Comedy|Drama|Musical|Romance',\n",
              "       'Animation|Children|Fantasy|Mystery', 'Comedy|Fantasy|Mystery',\n",
              "       'Action|Comedy|Fantasy|IMAX',\n",
              "       'Adventure|Animation|Children|Comedy|Fantasy|IMAX',\n",
              "       'Adventure|Animation|Comedy|Fantasy|Romance|Sci-Fi',\n",
              "       'Adventure|Comedy|Sci-Fi|Thriller',\n",
              "       'Adventure|Animation|Children|Comedy|IMAX',\n",
              "       'Adventure|Drama|Romance|Sci-Fi|Thriller',\n",
              "       'Action|Adventure|Crime|Drama|Thriller|War',\n",
              "       'Children|Comedy|Drama|Fantasy', 'Action|Fantasy|Thriller',\n",
              "       'Action|Comedy|Crime|Mystery', 'Action|Fantasy|War|IMAX',\n",
              "       'Comedy|Drama|Horror|Sci-Fi|Thriller',\n",
              "       'Drama|Fantasy|Mystery|Thriller',\n",
              "       'Action|Adventure|Animation|Children|Comedy|Fantasy',\n",
              "       'Action|Crime|Horror|Sci-Fi|Thriller',\n",
              "       'Adventure|Drama|Sci-Fi|Thriller',\n",
              "       'Action|Adventure|Drama|Thriller|War',\n",
              "       'Action|Adventure|Animation|Comedy|Fantasy|Mystery|Sci-Fi',\n",
              "       'Animation|Mystery|Sci-Fi',\n",
              "       'Action|Adventure|Crime|Horror|Thriller',\n",
              "       'Adventure|Drama|Fantasy|IMAX', 'Drama|Fantasy|Musical|Romance',\n",
              "       'Adventure|Comedy|Fantasy|Romance',\n",
              "       'Action|Drama|Horror|Sci-Fi|Thriller',\n",
              "       'Action|Crime|Drama|Western', 'Documentary|Fantasy',\n",
              "       'Action|Adventure|Animation|Crime|Fantasy',\n",
              "       'Drama|Romance|Thriller|War',\n",
              "       'Action|Adventure|Animation|Fantasy|IMAX',\n",
              "       'Comedy|Drama|Sci-Fi|Thriller',\n",
              "       'Adventure|Animation|Children|Comedy|Fantasy|Musical|Romance',\n",
              "       'Action|Drama|Musical|Romance',\n",
              "       'Action|Horror|Sci-Fi|Thriller|IMAX', 'Animation|Comedy|Sci-Fi',\n",
              "       'Drama|Horror|Musical|Thriller', 'Action|Mystery|Sci-Fi|Thriller',\n",
              "       'Animation|Comedy|Drama|Romance|Sci-Fi',\n",
              "       'Adventure|Children|Drama|Fantasy|IMAX',\n",
              "       'Adventure|Romance|Thriller', 'Crime|Drama|War',\n",
              "       'Action|Crime|Drama|IMAX', 'Action|Children|Sci-Fi|IMAX',\n",
              "       'Action|Animation|Children|Comedy|IMAX',\n",
              "       'Adventure|Animation|Children|Romance|Sci-Fi',\n",
              "       'Action|Adventure|Comedy|Crime|Fantasy',\n",
              "       'Action|Animation|Comedy|Romance|Sci-Fi',\n",
              "       'Action|Adventure|Horror|Thriller',\n",
              "       'Adventure|Crime|Drama|Horror|Mystery',\n",
              "       'Action|Drama|Mystery|Sci-Fi|Thriller|IMAX',\n",
              "       'Action|Animation|Crime', 'Adventure|Comedy|Drama|Romance',\n",
              "       'Animation|Documentary|Drama|War', 'Drama|Fantasy|Horror|Romance',\n",
              "       'Action|Comedy|Fantasy|Thriller', 'Action|Crime|Thriller|IMAX',\n",
              "       'Animation|Comedy|Fantasy|Sci-Fi',\n",
              "       'Action|Adventure|Animation|Comedy|Fantasy|Sci-Fi',\n",
              "       'Action|Adventure|Animation|Children|Comedy|IMAX',\n",
              "       'Adventure|Drama|War|Western', 'Drama|Fantasy|Romance|Thriller',\n",
              "       'Adventure|Animation|Comedy|Fantasy', 'Drama|Sci-Fi|Thriller|IMAX',\n",
              "       'Fantasy|Horror|Sci-Fi', 'Action|Animation|Comedy|Sci-Fi',\n",
              "       'Comedy|Drama|Musical|Sci-Fi', 'Adventure|Comedy|Horror',\n",
              "       'Action|Drama|Mystery|Sci-Fi|Thriller',\n",
              "       'Action|Animation|Children|Comedy', 'Animation|Sci-Fi|IMAX',\n",
              "       'Drama|Fantasy|Sci-Fi|Thriller', 'Action|Animation|Mystery|Sci-Fi',\n",
              "       'Action|Adventure|Comedy|Horror',\n",
              "       'Action|Adventure|Animation|Children|Comedy|Romance',\n",
              "       'Adventure|Fantasy|Mystery|Romance|IMAX',\n",
              "       'Adventure|Children|Fantasy|Sci-Fi|Thriller',\n",
              "       'Comedy|Documentary|Drama|Romance', 'Adventure|Animation|Sci-Fi',\n",
              "       'Comedy|Horror|Sci-Fi|Thriller', 'Animation|Children|Fantasy|IMAX',\n",
              "       'Animation|Comedy|Drama',\n",
              "       'Adventure|Animation|Children|Comedy|Crime',\n",
              "       'Drama|Fantasy|Horror|Romance|Thriller',\n",
              "       'Crime|Drama|Fantasy|Horror|Thriller', 'Action|Crime|Mystery',\n",
              "       'Children|Drama|Romance', 'Animation|Fantasy',\n",
              "       'Action|Adventure|Drama|Romance|War',\n",
              "       'Action|Adventure|Fantasy|Romance|IMAX',\n",
              "       'Crime|Drama|Thriller|Western',\n",
              "       'Action|Crime|Drama|Mystery|Sci-Fi|Thriller|IMAX',\n",
              "       'Action|Children|Drama', 'Crime|Documentary',\n",
              "       'Action|Comedy|Fantasy|Musical|Romance',\n",
              "       'Adventure|Animation|Fantasy|IMAX', 'Adventure|Mystery',\n",
              "       'Action|Animation|Children|Comedy|Sci-Fi|IMAX',\n",
              "       'Action|Adventure|Fantasy|IMAX',\n",
              "       'Animation|Children|Comedy|Fantasy|Musical|Romance|IMAX',\n",
              "       'Action|Sci-Fi|Thriller|Western|IMAX',\n",
              "       'Action|Adventure|Animation|Children|Comedy|Western',\n",
              "       'Romance|Sci-Fi|Thriller', 'Adventure|Animation|Comedy|Sci-Fi',\n",
              "       'Action|Fantasy|Thriller|IMAX',\n",
              "       'Action|Adventure|Drama|Fantasy|IMAX',\n",
              "       'Action|Crime|Drama|Thriller|IMAX', 'Drama|Mystery|War',\n",
              "       'Action|Adventure|Sci-Fi|Thriller|War',\n",
              "       'Mystery|Sci-Fi|Thriller|IMAX', 'Action|Adventure|Sci-Fi|War|IMAX',\n",
              "       'Action|Adventure|Drama|Fantasy|Mystery|IMAX',\n",
              "       'Action|Drama|Sci-Fi|IMAX', 'Crime|Sci-Fi|Thriller',\n",
              "       'Adventure|Comedy|Thriller',\n",
              "       'Adventure|Animation|Comedy|Fantasy|IMAX',\n",
              "       'Action|Animation|Mystery|IMAX', 'Children|Drama|Mystery',\n",
              "       'Action|Drama|Fantasy', 'Action|Adventure|Crime|IMAX',\n",
              "       'Action|Adventure|Drama|Thriller|IMAX',\n",
              "       'Action|Adventure|Comedy|Crime|Mystery|Thriller',\n",
              "       'Action|Fantasy|Horror|IMAX', 'Action|Adventure|IMAX',\n",
              "       'Action|Horror|Sci-Fi|IMAX', 'Action|Adventure|Animation|Children',\n",
              "       'Animation|Comedy|Horror|IMAX', 'Drama|Sci-Fi|IMAX',\n",
              "       'Action|Adventure|Fantasy|Sci-Fi|IMAX',\n",
              "       'Animation|Children|Comedy|IMAX', 'Action|Adventure|Western|IMAX',\n",
              "       'Action|Sci-Fi|IMAX', 'Adventure|Drama|Thriller|IMAX',\n",
              "       'Adventure|Animation|Comedy|Fantasy|Musical|Romance',\n",
              "       'Drama|Horror|Romance', 'Action|Drama|Thriller|IMAX',\n",
              "       'Adventure|Romance|Sci-Fi|IMAX',\n",
              "       'Action|Adventure|Animation|Crime|Sci-Fi', 'Sci-Fi|IMAX',\n",
              "       'Action|Drama|War|IMAX', 'Action|Adventure|Children|IMAX',\n",
              "       'Action|Adventure|Animation', 'Action|Animation|Comedy'],\n",
              "      dtype=object)"
            ]
          },
          "metadata": {},
          "execution_count": 30
        }
      ]
    },
    {
      "cell_type": "code",
      "metadata": {
        "id": "kQ9wa6W14_Fk",
        "colab": {
          "base_uri": "https://localhost:8080/",
          "height": 441
        },
        "outputId": "2e48a599-ef35-4ecb-b038-5a45ae1cf3a6"
      },
      "source": [
        "# Membuat variabel preparation yang berisi dataframe fix_movie kemudian mengurutkan berdasarkan movieID\n",
        "preparation = fix_movie\n",
        "preparation.sort_values('movieId')"
      ],
      "execution_count": 31,
      "outputs": [
        {
          "output_type": "execute_result",
          "data": {
            "text/html": [
              "<div>\n",
              "<style scoped>\n",
              "    .dataframe tbody tr th:only-of-type {\n",
              "        vertical-align: middle;\n",
              "    }\n",
              "\n",
              "    .dataframe tbody tr th {\n",
              "        vertical-align: top;\n",
              "    }\n",
              "\n",
              "    .dataframe thead th {\n",
              "        text-align: right;\n",
              "    }\n",
              "</style>\n",
              "<table border=\"1\" class=\"dataframe\">\n",
              "  <thead>\n",
              "    <tr style=\"text-align: right;\">\n",
              "      <th></th>\n",
              "      <th>userId</th>\n",
              "      <th>movieId</th>\n",
              "      <th>rating</th>\n",
              "      <th>title</th>\n",
              "      <th>genres</th>\n",
              "    </tr>\n",
              "  </thead>\n",
              "  <tbody>\n",
              "    <tr>\n",
              "      <th>3903</th>\n",
              "      <td>34</td>\n",
              "      <td>1</td>\n",
              "      <td>5.0</td>\n",
              "      <td>Toy Story (1995)</td>\n",
              "      <td>Adventure|Animation|Children|Comedy|Fantasy</td>\n",
              "    </tr>\n",
              "    <tr>\n",
              "      <th>41108</th>\n",
              "      <td>313</td>\n",
              "      <td>1</td>\n",
              "      <td>4.0</td>\n",
              "      <td>Toy Story (1995)</td>\n",
              "      <td>Adventure|Animation|Children|Comedy|Fantasy</td>\n",
              "    </tr>\n",
              "    <tr>\n",
              "      <th>42613</th>\n",
              "      <td>325</td>\n",
              "      <td>1</td>\n",
              "      <td>5.0</td>\n",
              "      <td>Toy Story (1995)</td>\n",
              "      <td>Adventure|Animation|Children|Comedy|Fantasy</td>\n",
              "    </tr>\n",
              "    <tr>\n",
              "      <th>9494</th>\n",
              "      <td>90</td>\n",
              "      <td>1</td>\n",
              "      <td>3.5</td>\n",
              "      <td>Toy Story (1995)</td>\n",
              "      <td>Adventure|Animation|Children|Comedy|Fantasy</td>\n",
              "    </tr>\n",
              "    <tr>\n",
              "      <th>9621</th>\n",
              "      <td>91</td>\n",
              "      <td>1</td>\n",
              "      <td>4.0</td>\n",
              "      <td>Toy Story (1995)</td>\n",
              "      <td>Adventure|Animation|Children|Comedy|Fantasy</td>\n",
              "    </tr>\n",
              "    <tr>\n",
              "      <th>...</th>\n",
              "      <td>...</td>\n",
              "      <td>...</td>\n",
              "      <td>...</td>\n",
              "      <td>...</td>\n",
              "      <td>...</td>\n",
              "    </tr>\n",
              "    <tr>\n",
              "      <th>8059</th>\n",
              "      <td>71</td>\n",
              "      <td>117511</td>\n",
              "      <td>3.0</td>\n",
              "      <td>Hello Ladies: The Movie (2014)</td>\n",
              "      <td>Comedy</td>\n",
              "    </tr>\n",
              "    <tr>\n",
              "      <th>8060</th>\n",
              "      <td>71</td>\n",
              "      <td>117590</td>\n",
              "      <td>3.5</td>\n",
              "      <td>Horrible Bosses 2 (2014)</td>\n",
              "      <td>Comedy|Crime</td>\n",
              "    </tr>\n",
              "    <tr>\n",
              "      <th>3778</th>\n",
              "      <td>31</td>\n",
              "      <td>118696</td>\n",
              "      <td>5.0</td>\n",
              "      <td>The Hobbit: The Battle of the Five Armies (2014)</td>\n",
              "      <td>Adventure|Fantasy</td>\n",
              "    </tr>\n",
              "    <tr>\n",
              "      <th>3779</th>\n",
              "      <td>31</td>\n",
              "      <td>125916</td>\n",
              "      <td>0.5</td>\n",
              "      <td>Fifty Shades of Grey (2015)</td>\n",
              "      <td>Drama</td>\n",
              "    </tr>\n",
              "    <tr>\n",
              "      <th>36851</th>\n",
              "      <td>284</td>\n",
              "      <td>128488</td>\n",
              "      <td>3.0</td>\n",
              "      <td>Wild Card (2015)</td>\n",
              "      <td>Crime|Drama|Thriller</td>\n",
              "    </tr>\n",
              "  </tbody>\n",
              "</table>\n",
              "<p>50000 rows × 5 columns</p>\n",
              "</div>"
            ],
            "text/plain": [
              "       userId  ...                                       genres\n",
              "3903       34  ...  Adventure|Animation|Children|Comedy|Fantasy\n",
              "41108     313  ...  Adventure|Animation|Children|Comedy|Fantasy\n",
              "42613     325  ...  Adventure|Animation|Children|Comedy|Fantasy\n",
              "9494       90  ...  Adventure|Animation|Children|Comedy|Fantasy\n",
              "9621       91  ...  Adventure|Animation|Children|Comedy|Fantasy\n",
              "...       ...  ...                                          ...\n",
              "8059       71  ...                                       Comedy\n",
              "8060       71  ...                                 Comedy|Crime\n",
              "3778       31  ...                            Adventure|Fantasy\n",
              "3779       31  ...                                        Drama\n",
              "36851     284  ...                         Crime|Drama|Thriller\n",
              "\n",
              "[50000 rows x 5 columns]"
            ]
          },
          "metadata": {},
          "execution_count": 31
        }
      ]
    },
    {
      "cell_type": "code",
      "metadata": {
        "id": "N2eSwiqF5ddC",
        "colab": {
          "base_uri": "https://localhost:8080/",
          "height": 441
        },
        "outputId": "a5500ead-ab59-4de8-9502-e9772c75bcc6"
      },
      "source": [
        "# Membuang data duplikat pada variabel preparation\n",
        "preparation = preparation.drop_duplicates('movieId')\n",
        "preparation"
      ],
      "execution_count": 32,
      "outputs": [
        {
          "output_type": "execute_result",
          "data": {
            "text/html": [
              "<div>\n",
              "<style scoped>\n",
              "    .dataframe tbody tr th:only-of-type {\n",
              "        vertical-align: middle;\n",
              "    }\n",
              "\n",
              "    .dataframe tbody tr th {\n",
              "        vertical-align: top;\n",
              "    }\n",
              "\n",
              "    .dataframe thead th {\n",
              "        text-align: right;\n",
              "    }\n",
              "</style>\n",
              "<table border=\"1\" class=\"dataframe\">\n",
              "  <thead>\n",
              "    <tr style=\"text-align: right;\">\n",
              "      <th></th>\n",
              "      <th>userId</th>\n",
              "      <th>movieId</th>\n",
              "      <th>rating</th>\n",
              "      <th>title</th>\n",
              "      <th>genres</th>\n",
              "    </tr>\n",
              "  </thead>\n",
              "  <tbody>\n",
              "    <tr>\n",
              "      <th>3903</th>\n",
              "      <td>34</td>\n",
              "      <td>1</td>\n",
              "      <td>5.0</td>\n",
              "      <td>Toy Story (1995)</td>\n",
              "      <td>Adventure|Animation|Children|Comedy|Fantasy</td>\n",
              "    </tr>\n",
              "    <tr>\n",
              "      <th>49529</th>\n",
              "      <td>369</td>\n",
              "      <td>2</td>\n",
              "      <td>4.0</td>\n",
              "      <td>Jumanji (1995)</td>\n",
              "      <td>Adventure|Children|Fantasy</td>\n",
              "    </tr>\n",
              "    <tr>\n",
              "      <th>48734</th>\n",
              "      <td>367</td>\n",
              "      <td>3</td>\n",
              "      <td>3.0</td>\n",
              "      <td>Grumpier Old Men (1995)</td>\n",
              "      <td>Comedy|Romance</td>\n",
              "    </tr>\n",
              "    <tr>\n",
              "      <th>7097</th>\n",
              "      <td>61</td>\n",
              "      <td>4</td>\n",
              "      <td>3.0</td>\n",
              "      <td>Waiting to Exhale (1995)</td>\n",
              "      <td>Comedy|Drama|Romance</td>\n",
              "    </tr>\n",
              "    <tr>\n",
              "      <th>25591</th>\n",
              "      <td>206</td>\n",
              "      <td>5</td>\n",
              "      <td>3.5</td>\n",
              "      <td>Father of the Bride Part II (1995)</td>\n",
              "      <td>Comedy</td>\n",
              "    </tr>\n",
              "    <tr>\n",
              "      <th>...</th>\n",
              "      <td>...</td>\n",
              "      <td>...</td>\n",
              "      <td>...</td>\n",
              "      <td>...</td>\n",
              "      <td>...</td>\n",
              "    </tr>\n",
              "    <tr>\n",
              "      <th>8059</th>\n",
              "      <td>71</td>\n",
              "      <td>117511</td>\n",
              "      <td>3.0</td>\n",
              "      <td>Hello Ladies: The Movie (2014)</td>\n",
              "      <td>Comedy</td>\n",
              "    </tr>\n",
              "    <tr>\n",
              "      <th>8060</th>\n",
              "      <td>71</td>\n",
              "      <td>117590</td>\n",
              "      <td>3.5</td>\n",
              "      <td>Horrible Bosses 2 (2014)</td>\n",
              "      <td>Comedy|Crime</td>\n",
              "    </tr>\n",
              "    <tr>\n",
              "      <th>3778</th>\n",
              "      <td>31</td>\n",
              "      <td>118696</td>\n",
              "      <td>5.0</td>\n",
              "      <td>The Hobbit: The Battle of the Five Armies (2014)</td>\n",
              "      <td>Adventure|Fantasy</td>\n",
              "    </tr>\n",
              "    <tr>\n",
              "      <th>3779</th>\n",
              "      <td>31</td>\n",
              "      <td>125916</td>\n",
              "      <td>0.5</td>\n",
              "      <td>Fifty Shades of Grey (2015)</td>\n",
              "      <td>Drama</td>\n",
              "    </tr>\n",
              "    <tr>\n",
              "      <th>36851</th>\n",
              "      <td>284</td>\n",
              "      <td>128488</td>\n",
              "      <td>3.0</td>\n",
              "      <td>Wild Card (2015)</td>\n",
              "      <td>Crime|Drama|Thriller</td>\n",
              "    </tr>\n",
              "  </tbody>\n",
              "</table>\n",
              "<p>6471 rows × 5 columns</p>\n",
              "</div>"
            ],
            "text/plain": [
              "       userId  ...                                       genres\n",
              "3903       34  ...  Adventure|Animation|Children|Comedy|Fantasy\n",
              "49529     369  ...                   Adventure|Children|Fantasy\n",
              "48734     367  ...                               Comedy|Romance\n",
              "7097       61  ...                         Comedy|Drama|Romance\n",
              "25591     206  ...                                       Comedy\n",
              "...       ...  ...                                          ...\n",
              "8059       71  ...                                       Comedy\n",
              "8060       71  ...                                 Comedy|Crime\n",
              "3778       31  ...                            Adventure|Fantasy\n",
              "3779       31  ...                                        Drama\n",
              "36851     284  ...                         Crime|Drama|Thriller\n",
              "\n",
              "[6471 rows x 5 columns]"
            ]
          },
          "metadata": {},
          "execution_count": 32
        }
      ]
    },
    {
      "cell_type": "code",
      "metadata": {
        "id": "cX5T0i_o5oVA",
        "colab": {
          "base_uri": "https://localhost:8080/"
        },
        "outputId": "3094a95e-0f33-4aed-a4a8-5a0770544c13"
      },
      "source": [
        "# Mengonversi data series ‘MovieId’ menjadi dalam bentuk list\n",
        "movie_id = preparation['movieId'].tolist()\n",
        " \n",
        "# Mengonversi data series ‘Judul’ menjadi dalam bentuk list\n",
        "movie_name = preparation['title'].tolist()\n",
        " \n",
        "# Mengonversi data series ‘Genre’ menjadi dalam bentuk list\n",
        "movie_genre = preparation['genres'].tolist()\n",
        " \n",
        "print(len(movie_id))\n",
        "print(len(movie_name))\n",
        "print(len(movie_genre))"
      ],
      "execution_count": 33,
      "outputs": [
        {
          "output_type": "stream",
          "name": "stdout",
          "text": [
            "6471\n",
            "6471\n",
            "6471\n"
          ]
        }
      ]
    },
    {
      "cell_type": "code",
      "metadata": {
        "id": "iG8TtLBl57B2",
        "colab": {
          "base_uri": "https://localhost:8080/",
          "height": 423
        },
        "outputId": "35d17e38-89a9-474e-de95-87beeababa81"
      },
      "source": [
        "# Membuat dictionary untuk data ‘movie_id’, ‘movie_name’, dan ‘genre’\n",
        "movie_new = pd.DataFrame({\n",
        "    'id': movie_id,\n",
        "    'movie_name': movie_name,\n",
        "    'genre': movie_genre\n",
        "})\n",
        "movie_new"
      ],
      "execution_count": 34,
      "outputs": [
        {
          "output_type": "execute_result",
          "data": {
            "text/html": [
              "<div>\n",
              "<style scoped>\n",
              "    .dataframe tbody tr th:only-of-type {\n",
              "        vertical-align: middle;\n",
              "    }\n",
              "\n",
              "    .dataframe tbody tr th {\n",
              "        vertical-align: top;\n",
              "    }\n",
              "\n",
              "    .dataframe thead th {\n",
              "        text-align: right;\n",
              "    }\n",
              "</style>\n",
              "<table border=\"1\" class=\"dataframe\">\n",
              "  <thead>\n",
              "    <tr style=\"text-align: right;\">\n",
              "      <th></th>\n",
              "      <th>id</th>\n",
              "      <th>movie_name</th>\n",
              "      <th>genre</th>\n",
              "    </tr>\n",
              "  </thead>\n",
              "  <tbody>\n",
              "    <tr>\n",
              "      <th>0</th>\n",
              "      <td>1</td>\n",
              "      <td>Toy Story (1995)</td>\n",
              "      <td>Adventure|Animation|Children|Comedy|Fantasy</td>\n",
              "    </tr>\n",
              "    <tr>\n",
              "      <th>1</th>\n",
              "      <td>2</td>\n",
              "      <td>Jumanji (1995)</td>\n",
              "      <td>Adventure|Children|Fantasy</td>\n",
              "    </tr>\n",
              "    <tr>\n",
              "      <th>2</th>\n",
              "      <td>3</td>\n",
              "      <td>Grumpier Old Men (1995)</td>\n",
              "      <td>Comedy|Romance</td>\n",
              "    </tr>\n",
              "    <tr>\n",
              "      <th>3</th>\n",
              "      <td>4</td>\n",
              "      <td>Waiting to Exhale (1995)</td>\n",
              "      <td>Comedy|Drama|Romance</td>\n",
              "    </tr>\n",
              "    <tr>\n",
              "      <th>4</th>\n",
              "      <td>5</td>\n",
              "      <td>Father of the Bride Part II (1995)</td>\n",
              "      <td>Comedy</td>\n",
              "    </tr>\n",
              "    <tr>\n",
              "      <th>...</th>\n",
              "      <td>...</td>\n",
              "      <td>...</td>\n",
              "      <td>...</td>\n",
              "    </tr>\n",
              "    <tr>\n",
              "      <th>6466</th>\n",
              "      <td>117511</td>\n",
              "      <td>Hello Ladies: The Movie (2014)</td>\n",
              "      <td>Comedy</td>\n",
              "    </tr>\n",
              "    <tr>\n",
              "      <th>6467</th>\n",
              "      <td>117590</td>\n",
              "      <td>Horrible Bosses 2 (2014)</td>\n",
              "      <td>Comedy|Crime</td>\n",
              "    </tr>\n",
              "    <tr>\n",
              "      <th>6468</th>\n",
              "      <td>118696</td>\n",
              "      <td>The Hobbit: The Battle of the Five Armies (2014)</td>\n",
              "      <td>Adventure|Fantasy</td>\n",
              "    </tr>\n",
              "    <tr>\n",
              "      <th>6469</th>\n",
              "      <td>125916</td>\n",
              "      <td>Fifty Shades of Grey (2015)</td>\n",
              "      <td>Drama</td>\n",
              "    </tr>\n",
              "    <tr>\n",
              "      <th>6470</th>\n",
              "      <td>128488</td>\n",
              "      <td>Wild Card (2015)</td>\n",
              "      <td>Crime|Drama|Thriller</td>\n",
              "    </tr>\n",
              "  </tbody>\n",
              "</table>\n",
              "<p>6471 rows × 3 columns</p>\n",
              "</div>"
            ],
            "text/plain": [
              "          id  ...                                        genre\n",
              "0          1  ...  Adventure|Animation|Children|Comedy|Fantasy\n",
              "1          2  ...                   Adventure|Children|Fantasy\n",
              "2          3  ...                               Comedy|Romance\n",
              "3          4  ...                         Comedy|Drama|Romance\n",
              "4          5  ...                                       Comedy\n",
              "...      ...  ...                                          ...\n",
              "6466  117511  ...                                       Comedy\n",
              "6467  117590  ...                                 Comedy|Crime\n",
              "6468  118696  ...                            Adventure|Fantasy\n",
              "6469  125916  ...                                        Drama\n",
              "6470  128488  ...                         Crime|Drama|Thriller\n",
              "\n",
              "[6471 rows x 3 columns]"
            ]
          },
          "metadata": {},
          "execution_count": 34
        }
      ]
    },
    {
      "cell_type": "markdown",
      "metadata": {
        "id": "6DEtoU876W0h"
      },
      "source": [
        "# **Model Development dengan Content Based Filtering**\n"
      ]
    },
    {
      "cell_type": "markdown",
      "metadata": {
        "id": "ewL-iFcN6aB1"
      },
      "source": [
        "## **TF-IDF Vectorizer**"
      ]
    },
    {
      "cell_type": "markdown",
      "metadata": {
        "id": "KLy1XiIr6rbh"
      },
      "source": [
        "Membangun sistem rekomendasi sederhana berdasarkan jenis genre dari film"
      ]
    },
    {
      "cell_type": "code",
      "metadata": {
        "id": "Mn5skf836ngF",
        "colab": {
          "base_uri": "https://localhost:8080/"
        },
        "outputId": "fa68593b-bc68-47f0-bac4-47c9c45b5a7e"
      },
      "source": [
        "# import library\n",
        "from sklearn.feature_extraction.text import TfidfVectorizer\n",
        " \n",
        "# Inisialisasi TfidfVectorizer\n",
        "tf = TfidfVectorizer()\n",
        " \n",
        "# Melakukan perhitungan idf pada data genre\n",
        "tf.fit(movie_new['genre']) \n",
        " \n",
        "# Mapping array dari fitur index integer ke fitur nama\n",
        "tf.get_feature_names() "
      ],
      "execution_count": 35,
      "outputs": [
        {
          "output_type": "execute_result",
          "data": {
            "text/plain": [
              "['action',\n",
              " 'adventure',\n",
              " 'animation',\n",
              " 'children',\n",
              " 'comedy',\n",
              " 'crime',\n",
              " 'documentary',\n",
              " 'drama',\n",
              " 'fantasy',\n",
              " 'fi',\n",
              " 'film',\n",
              " 'horror',\n",
              " 'imax',\n",
              " 'musical',\n",
              " 'mystery',\n",
              " 'noir',\n",
              " 'romance',\n",
              " 'sci',\n",
              " 'thriller',\n",
              " 'war',\n",
              " 'western']"
            ]
          },
          "metadata": {},
          "execution_count": 35
        }
      ]
    },
    {
      "cell_type": "markdown",
      "metadata": {
        "id": "Fs3YMdsY71sl"
      },
      "source": [
        "Lakukan fit dan transformasi ke dalam bentuk matriks"
      ]
    },
    {
      "cell_type": "code",
      "metadata": {
        "id": "GBdxg-VI7K8E",
        "colab": {
          "base_uri": "https://localhost:8080/"
        },
        "outputId": "6dc9655d-9348-48d8-8e75-cc139deeed50"
      },
      "source": [
        "# Melakukan fit lalu ditransformasikan ke bentuk matrix\n",
        "tfidf_matrix = tf.fit_transform(movie_new['genre']) \n",
        " \n",
        "# Melihat ukuran matrix tfidf\n",
        "tfidf_matrix.shape "
      ],
      "execution_count": 36,
      "outputs": [
        {
          "output_type": "execute_result",
          "data": {
            "text/plain": [
              "(6471, 21)"
            ]
          },
          "metadata": {},
          "execution_count": 36
        }
      ]
    },
    {
      "cell_type": "markdown",
      "metadata": {
        "id": "SqaL48FV7r9M"
      },
      "source": [
        "Menghasilkan vektor tf-idf dalam bentuk matriks"
      ]
    },
    {
      "cell_type": "code",
      "metadata": {
        "id": "uhEdorBm7fOq",
        "colab": {
          "base_uri": "https://localhost:8080/"
        },
        "outputId": "08c43cc1-1c1d-4b30-cedc-e33c797ea108"
      },
      "source": [
        "# Mengubah vektor tf-idf dalam bentuk matriks dengan fungsi todense()\n",
        "tfidf_matrix.todense()"
      ],
      "execution_count": 37,
      "outputs": [
        {
          "output_type": "execute_result",
          "data": {
            "text/plain": [
              "matrix([[0.        , 0.40049167, 0.5485382 , ..., 0.        , 0.        ,\n",
              "         0.        ],\n",
              "        [0.        , 0.50556976, 0.        , ..., 0.        , 0.        ,\n",
              "         0.        ],\n",
              "        [0.        , 0.        , 0.        , ..., 0.        , 0.        ,\n",
              "         0.        ],\n",
              "        ...,\n",
              "        [0.        , 0.64153731, 0.        , ..., 0.        , 0.        ,\n",
              "         0.        ],\n",
              "        [0.        , 0.        , 0.        , ..., 0.        , 0.        ,\n",
              "         0.        ],\n",
              "        [0.        , 0.        , 0.        , ..., 0.59252922, 0.        ,\n",
              "         0.        ]])"
            ]
          },
          "metadata": {},
          "execution_count": 37
        }
      ]
    },
    {
      "cell_type": "markdown",
      "metadata": {
        "id": "jBMwzZNv7lvX"
      },
      "source": [
        "Lihat matriks tf-idf untuk beberapa film (movie_name) dan kategori genre (genre)"
      ]
    },
    {
      "cell_type": "code",
      "metadata": {
        "id": "G52vc_8e78wO",
        "colab": {
          "base_uri": "https://localhost:8080/",
          "height": 778
        },
        "outputId": "0c09bc5f-2155-4e5e-c919-f6801b40bef8"
      },
      "source": [
        "# Membuat dataframe untuk melihat tf-idf matrix\n",
        "# Kolom diisi dengan jenis genre\n",
        "# Baris diisi dengan nama film\n",
        " \n",
        "pd.DataFrame(\n",
        "    tfidf_matrix.todense(), \n",
        "    columns=tf.get_feature_names(),\n",
        "    index=movie_new.movie_name\n",
        ").sample(21, axis=1).sample(10, axis=0)"
      ],
      "execution_count": 38,
      "outputs": [
        {
          "output_type": "execute_result",
          "data": {
            "text/html": [
              "<div>\n",
              "<style scoped>\n",
              "    .dataframe tbody tr th:only-of-type {\n",
              "        vertical-align: middle;\n",
              "    }\n",
              "\n",
              "    .dataframe tbody tr th {\n",
              "        vertical-align: top;\n",
              "    }\n",
              "\n",
              "    .dataframe thead th {\n",
              "        text-align: right;\n",
              "    }\n",
              "</style>\n",
              "<table border=\"1\" class=\"dataframe\">\n",
              "  <thead>\n",
              "    <tr style=\"text-align: right;\">\n",
              "      <th></th>\n",
              "      <th>romance</th>\n",
              "      <th>children</th>\n",
              "      <th>noir</th>\n",
              "      <th>film</th>\n",
              "      <th>thriller</th>\n",
              "      <th>war</th>\n",
              "      <th>western</th>\n",
              "      <th>fantasy</th>\n",
              "      <th>sci</th>\n",
              "      <th>action</th>\n",
              "      <th>fi</th>\n",
              "      <th>musical</th>\n",
              "      <th>mystery</th>\n",
              "      <th>crime</th>\n",
              "      <th>animation</th>\n",
              "      <th>comedy</th>\n",
              "      <th>imax</th>\n",
              "      <th>horror</th>\n",
              "      <th>adventure</th>\n",
              "      <th>drama</th>\n",
              "      <th>documentary</th>\n",
              "    </tr>\n",
              "    <tr>\n",
              "      <th>movie_name</th>\n",
              "      <th></th>\n",
              "      <th></th>\n",
              "      <th></th>\n",
              "      <th></th>\n",
              "      <th></th>\n",
              "      <th></th>\n",
              "      <th></th>\n",
              "      <th></th>\n",
              "      <th></th>\n",
              "      <th></th>\n",
              "      <th></th>\n",
              "      <th></th>\n",
              "      <th></th>\n",
              "      <th></th>\n",
              "      <th></th>\n",
              "      <th></th>\n",
              "      <th></th>\n",
              "      <th></th>\n",
              "      <th></th>\n",
              "      <th></th>\n",
              "      <th></th>\n",
              "    </tr>\n",
              "  </thead>\n",
              "  <tbody>\n",
              "    <tr>\n",
              "      <th>Half Nelson (2006)</th>\n",
              "      <td>0.000000</td>\n",
              "      <td>0.000000</td>\n",
              "      <td>0.000000</td>\n",
              "      <td>0.000000</td>\n",
              "      <td>0.000000</td>\n",
              "      <td>0.0</td>\n",
              "      <td>0.0</td>\n",
              "      <td>0.0</td>\n",
              "      <td>0.000000</td>\n",
              "      <td>0.0</td>\n",
              "      <td>0.000000</td>\n",
              "      <td>0.000000</td>\n",
              "      <td>0.0</td>\n",
              "      <td>0.000000</td>\n",
              "      <td>0.000000</td>\n",
              "      <td>0.000000</td>\n",
              "      <td>0.0</td>\n",
              "      <td>0.0</td>\n",
              "      <td>0.000000</td>\n",
              "      <td>1.000000</td>\n",
              "      <td>0.0</td>\n",
              "    </tr>\n",
              "    <tr>\n",
              "      <th>Stuart Saves His Family (1995)</th>\n",
              "      <td>0.000000</td>\n",
              "      <td>0.000000</td>\n",
              "      <td>0.000000</td>\n",
              "      <td>0.000000</td>\n",
              "      <td>0.000000</td>\n",
              "      <td>0.0</td>\n",
              "      <td>0.0</td>\n",
              "      <td>0.0</td>\n",
              "      <td>0.000000</td>\n",
              "      <td>0.0</td>\n",
              "      <td>0.000000</td>\n",
              "      <td>0.000000</td>\n",
              "      <td>0.0</td>\n",
              "      <td>0.000000</td>\n",
              "      <td>0.000000</td>\n",
              "      <td>1.000000</td>\n",
              "      <td>0.0</td>\n",
              "      <td>0.0</td>\n",
              "      <td>0.000000</td>\n",
              "      <td>0.000000</td>\n",
              "      <td>0.0</td>\n",
              "    </tr>\n",
              "    <tr>\n",
              "      <th>M (1931)</th>\n",
              "      <td>0.000000</td>\n",
              "      <td>0.000000</td>\n",
              "      <td>0.631989</td>\n",
              "      <td>0.631989</td>\n",
              "      <td>0.289466</td>\n",
              "      <td>0.0</td>\n",
              "      <td>0.0</td>\n",
              "      <td>0.0</td>\n",
              "      <td>0.000000</td>\n",
              "      <td>0.0</td>\n",
              "      <td>0.000000</td>\n",
              "      <td>0.000000</td>\n",
              "      <td>0.0</td>\n",
              "      <td>0.342621</td>\n",
              "      <td>0.000000</td>\n",
              "      <td>0.000000</td>\n",
              "      <td>0.0</td>\n",
              "      <td>0.0</td>\n",
              "      <td>0.000000</td>\n",
              "      <td>0.000000</td>\n",
              "      <td>0.0</td>\n",
              "    </tr>\n",
              "    <tr>\n",
              "      <th>Third Miracle, The (1999)</th>\n",
              "      <td>0.000000</td>\n",
              "      <td>0.000000</td>\n",
              "      <td>0.000000</td>\n",
              "      <td>0.000000</td>\n",
              "      <td>0.000000</td>\n",
              "      <td>0.0</td>\n",
              "      <td>0.0</td>\n",
              "      <td>0.0</td>\n",
              "      <td>0.000000</td>\n",
              "      <td>0.0</td>\n",
              "      <td>0.000000</td>\n",
              "      <td>0.000000</td>\n",
              "      <td>0.0</td>\n",
              "      <td>0.000000</td>\n",
              "      <td>0.000000</td>\n",
              "      <td>0.000000</td>\n",
              "      <td>0.0</td>\n",
              "      <td>0.0</td>\n",
              "      <td>0.000000</td>\n",
              "      <td>1.000000</td>\n",
              "      <td>0.0</td>\n",
              "    </tr>\n",
              "    <tr>\n",
              "      <th>101 Dalmatians (One Hundred and One Dalmatians) (1961)</th>\n",
              "      <td>0.000000</td>\n",
              "      <td>0.583234</td>\n",
              "      <td>0.000000</td>\n",
              "      <td>0.000000</td>\n",
              "      <td>0.000000</td>\n",
              "      <td>0.0</td>\n",
              "      <td>0.0</td>\n",
              "      <td>0.0</td>\n",
              "      <td>0.000000</td>\n",
              "      <td>0.0</td>\n",
              "      <td>0.000000</td>\n",
              "      <td>0.000000</td>\n",
              "      <td>0.0</td>\n",
              "      <td>0.000000</td>\n",
              "      <td>0.656054</td>\n",
              "      <td>0.000000</td>\n",
              "      <td>0.0</td>\n",
              "      <td>0.0</td>\n",
              "      <td>0.478990</td>\n",
              "      <td>0.000000</td>\n",
              "      <td>0.0</td>\n",
              "    </tr>\n",
              "    <tr>\n",
              "      <th>Kissed (1996)</th>\n",
              "      <td>0.842291</td>\n",
              "      <td>0.000000</td>\n",
              "      <td>0.000000</td>\n",
              "      <td>0.000000</td>\n",
              "      <td>0.000000</td>\n",
              "      <td>0.0</td>\n",
              "      <td>0.0</td>\n",
              "      <td>0.0</td>\n",
              "      <td>0.000000</td>\n",
              "      <td>0.0</td>\n",
              "      <td>0.000000</td>\n",
              "      <td>0.000000</td>\n",
              "      <td>0.0</td>\n",
              "      <td>0.000000</td>\n",
              "      <td>0.000000</td>\n",
              "      <td>0.000000</td>\n",
              "      <td>0.0</td>\n",
              "      <td>0.0</td>\n",
              "      <td>0.000000</td>\n",
              "      <td>0.539023</td>\n",
              "      <td>0.0</td>\n",
              "    </tr>\n",
              "    <tr>\n",
              "      <th>City of Ember (2008)</th>\n",
              "      <td>0.000000</td>\n",
              "      <td>0.545784</td>\n",
              "      <td>0.000000</td>\n",
              "      <td>0.000000</td>\n",
              "      <td>0.000000</td>\n",
              "      <td>0.0</td>\n",
              "      <td>0.0</td>\n",
              "      <td>0.0</td>\n",
              "      <td>0.500603</td>\n",
              "      <td>0.0</td>\n",
              "      <td>0.500603</td>\n",
              "      <td>0.000000</td>\n",
              "      <td>0.0</td>\n",
              "      <td>0.000000</td>\n",
              "      <td>0.000000</td>\n",
              "      <td>0.000000</td>\n",
              "      <td>0.0</td>\n",
              "      <td>0.0</td>\n",
              "      <td>0.448233</td>\n",
              "      <td>0.000000</td>\n",
              "      <td>0.0</td>\n",
              "    </tr>\n",
              "    <tr>\n",
              "      <th>Help! (1965)</th>\n",
              "      <td>0.000000</td>\n",
              "      <td>0.000000</td>\n",
              "      <td>0.000000</td>\n",
              "      <td>0.000000</td>\n",
              "      <td>0.000000</td>\n",
              "      <td>0.0</td>\n",
              "      <td>0.0</td>\n",
              "      <td>0.0</td>\n",
              "      <td>0.000000</td>\n",
              "      <td>0.0</td>\n",
              "      <td>0.000000</td>\n",
              "      <td>0.904006</td>\n",
              "      <td>0.0</td>\n",
              "      <td>0.000000</td>\n",
              "      <td>0.000000</td>\n",
              "      <td>0.427519</td>\n",
              "      <td>0.0</td>\n",
              "      <td>0.0</td>\n",
              "      <td>0.000000</td>\n",
              "      <td>0.000000</td>\n",
              "      <td>0.0</td>\n",
              "    </tr>\n",
              "    <tr>\n",
              "      <th>Veronica Guerin (2003)</th>\n",
              "      <td>0.000000</td>\n",
              "      <td>0.000000</td>\n",
              "      <td>0.000000</td>\n",
              "      <td>0.000000</td>\n",
              "      <td>0.592529</td>\n",
              "      <td>0.0</td>\n",
              "      <td>0.0</td>\n",
              "      <td>0.0</td>\n",
              "      <td>0.000000</td>\n",
              "      <td>0.0</td>\n",
              "      <td>0.000000</td>\n",
              "      <td>0.000000</td>\n",
              "      <td>0.0</td>\n",
              "      <td>0.701337</td>\n",
              "      <td>0.000000</td>\n",
              "      <td>0.000000</td>\n",
              "      <td>0.0</td>\n",
              "      <td>0.0</td>\n",
              "      <td>0.000000</td>\n",
              "      <td>0.396278</td>\n",
              "      <td>0.0</td>\n",
              "    </tr>\n",
              "    <tr>\n",
              "      <th>How to Lose a Guy in 10 Days (2003)</th>\n",
              "      <td>0.804156</td>\n",
              "      <td>0.000000</td>\n",
              "      <td>0.000000</td>\n",
              "      <td>0.000000</td>\n",
              "      <td>0.000000</td>\n",
              "      <td>0.0</td>\n",
              "      <td>0.0</td>\n",
              "      <td>0.0</td>\n",
              "      <td>0.000000</td>\n",
              "      <td>0.0</td>\n",
              "      <td>0.000000</td>\n",
              "      <td>0.000000</td>\n",
              "      <td>0.0</td>\n",
              "      <td>0.000000</td>\n",
              "      <td>0.000000</td>\n",
              "      <td>0.594418</td>\n",
              "      <td>0.0</td>\n",
              "      <td>0.0</td>\n",
              "      <td>0.000000</td>\n",
              "      <td>0.000000</td>\n",
              "      <td>0.0</td>\n",
              "    </tr>\n",
              "  </tbody>\n",
              "</table>\n",
              "</div>"
            ],
            "text/plain": [
              "                                                     romance  ...  documentary\n",
              "movie_name                                                    ...             \n",
              "Half Nelson (2006)                                  0.000000  ...          0.0\n",
              "Stuart Saves His Family (1995)                      0.000000  ...          0.0\n",
              "M (1931)                                            0.000000  ...          0.0\n",
              "Third Miracle, The (1999)                           0.000000  ...          0.0\n",
              "101 Dalmatians (One Hundred and One Dalmatians)...  0.000000  ...          0.0\n",
              "Kissed (1996)                                       0.842291  ...          0.0\n",
              "City of Ember (2008)                                0.000000  ...          0.0\n",
              "Help! (1965)                                        0.000000  ...          0.0\n",
              "Veronica Guerin (2003)                              0.000000  ...          0.0\n",
              "How to Lose a Guy in 10 Days (2003)                 0.804156  ...          0.0\n",
              "\n",
              "[10 rows x 21 columns]"
            ]
          },
          "metadata": {},
          "execution_count": 38
        }
      ]
    },
    {
      "cell_type": "markdown",
      "metadata": {
        "id": "JljdhHpX8yH_"
      },
      "source": [
        "## **Cosine Similarity**"
      ]
    },
    {
      "cell_type": "markdown",
      "metadata": {
        "id": "pf03YjSE860W"
      },
      "source": [
        "Menghitung derajat kesamaan (similarity degree) antar film dengan teknik cosine similarity"
      ]
    },
    {
      "cell_type": "code",
      "metadata": {
        "id": "TV4zA35c9AUK",
        "colab": {
          "base_uri": "https://localhost:8080/"
        },
        "outputId": "dab75601-a24a-4b61-9c5d-73d0650a314d"
      },
      "source": [
        "# import library\n",
        "from sklearn.metrics.pairwise import cosine_similarity\n",
        " \n",
        "# Menghitung cosine similarity pada matrix tf-idf\n",
        "cosine_sim = cosine_similarity(tfidf_matrix) \n",
        "cosine_sim"
      ],
      "execution_count": 39,
      "outputs": [
        {
          "output_type": "execute_result",
          "data": {
            "text/plain": [
              "array([[1.        , 0.79215907, 0.15904422, ..., 0.62426872, 0.        ,\n",
              "        0.        ],\n",
              "       [0.79215907, 1.        , 0.        , ..., 0.7880598 , 0.        ,\n",
              "        0.        ],\n",
              "       [0.15904422, 0.        , 1.        , ..., 0.        , 0.        ,\n",
              "        0.        ],\n",
              "       ...,\n",
              "       [0.62426872, 0.7880598 , 0.        , ..., 1.        , 0.        ,\n",
              "        0.        ],\n",
              "       [0.        , 0.        , 0.        , ..., 0.        , 1.        ,\n",
              "        0.3962778 ],\n",
              "       [0.        , 0.        , 0.        , ..., 0.        , 0.3962778 ,\n",
              "        1.        ]])"
            ]
          },
          "metadata": {},
          "execution_count": 39
        }
      ]
    },
    {
      "cell_type": "code",
      "metadata": {
        "id": "1MkKo5z09aNV",
        "colab": {
          "base_uri": "https://localhost:8080/",
          "height": 446
        },
        "outputId": "ecf2549b-f0c8-460e-c449-8dcb43ca200b"
      },
      "source": [
        "# Membuat dataframe dari variabel cosine_sim dengan baris dan kolom berupa nama movie\n",
        "cosine_sim_df = pd.DataFrame(cosine_sim, index=movie_new['movie_name'], columns=movie_new['movie_name'])\n",
        "print('Shape:', cosine_sim_df.shape)\n",
        " \n",
        "# Melihat similarity matrix pada setiap movie\n",
        "cosine_sim_df.sample(5, axis=1).sample(10, axis=0)"
      ],
      "execution_count": 40,
      "outputs": [
        {
          "output_type": "stream",
          "name": "stdout",
          "text": [
            "Shape: (6471, 6471)\n"
          ]
        },
        {
          "output_type": "execute_result",
          "data": {
            "text/html": [
              "<div>\n",
              "<style scoped>\n",
              "    .dataframe tbody tr th:only-of-type {\n",
              "        vertical-align: middle;\n",
              "    }\n",
              "\n",
              "    .dataframe tbody tr th {\n",
              "        vertical-align: top;\n",
              "    }\n",
              "\n",
              "    .dataframe thead th {\n",
              "        text-align: right;\n",
              "    }\n",
              "</style>\n",
              "<table border=\"1\" class=\"dataframe\">\n",
              "  <thead>\n",
              "    <tr style=\"text-align: right;\">\n",
              "      <th>movie_name</th>\n",
              "      <th>Ripley's Game (2002)</th>\n",
              "      <th>High Society (1956)</th>\n",
              "      <th>Gunfight at the O.K. Corral (1957)</th>\n",
              "      <th>Knocked Up (2007)</th>\n",
              "      <th>Cat Concerto, The (1947)</th>\n",
              "    </tr>\n",
              "    <tr>\n",
              "      <th>movie_name</th>\n",
              "      <th></th>\n",
              "      <th></th>\n",
              "      <th></th>\n",
              "      <th></th>\n",
              "      <th></th>\n",
              "    </tr>\n",
              "  </thead>\n",
              "  <tbody>\n",
              "    <tr>\n",
              "      <th>Love Actually (2003)</th>\n",
              "      <td>0.254380</td>\n",
              "      <td>0.553587</td>\n",
              "      <td>0.0</td>\n",
              "      <td>1.000000</td>\n",
              "      <td>0.181023</td>\n",
              "    </tr>\n",
              "    <tr>\n",
              "      <th>Trembling Before G-d (2001)</th>\n",
              "      <td>0.000000</td>\n",
              "      <td>0.000000</td>\n",
              "      <td>0.0</td>\n",
              "      <td>0.000000</td>\n",
              "      <td>0.000000</td>\n",
              "    </tr>\n",
              "    <tr>\n",
              "      <th>Monkeybone (2001)</th>\n",
              "      <td>0.000000</td>\n",
              "      <td>0.127642</td>\n",
              "      <td>0.0</td>\n",
              "      <td>0.182295</td>\n",
              "      <td>0.614629</td>\n",
              "    </tr>\n",
              "    <tr>\n",
              "      <th>Mystery, Alaska (1999)</th>\n",
              "      <td>0.000000</td>\n",
              "      <td>0.178018</td>\n",
              "      <td>0.0</td>\n",
              "      <td>0.254241</td>\n",
              "      <td>0.712014</td>\n",
              "    </tr>\n",
              "    <tr>\n",
              "      <th>Stepford Wives, The (1975)</th>\n",
              "      <td>0.326914</td>\n",
              "      <td>0.000000</td>\n",
              "      <td>0.0</td>\n",
              "      <td>0.000000</td>\n",
              "      <td>0.000000</td>\n",
              "    </tr>\n",
              "    <tr>\n",
              "      <th>Aguirre: The Wrath of God (Aguirre, der Zorn Gottes) (1972)</th>\n",
              "      <td>0.278338</td>\n",
              "      <td>0.000000</td>\n",
              "      <td>0.0</td>\n",
              "      <td>0.229102</td>\n",
              "      <td>0.000000</td>\n",
              "    </tr>\n",
              "    <tr>\n",
              "      <th>Wonderland (1997)</th>\n",
              "      <td>0.000000</td>\n",
              "      <td>0.158456</td>\n",
              "      <td>0.0</td>\n",
              "      <td>0.226302</td>\n",
              "      <td>0.146646</td>\n",
              "    </tr>\n",
              "    <tr>\n",
              "      <th>Octopussy (1983)</th>\n",
              "      <td>0.449995</td>\n",
              "      <td>0.000000</td>\n",
              "      <td>0.0</td>\n",
              "      <td>0.000000</td>\n",
              "      <td>0.000000</td>\n",
              "    </tr>\n",
              "    <tr>\n",
              "      <th>Potiche (2010)</th>\n",
              "      <td>0.000000</td>\n",
              "      <td>0.370079</td>\n",
              "      <td>0.0</td>\n",
              "      <td>0.528537</td>\n",
              "      <td>0.342498</td>\n",
              "    </tr>\n",
              "    <tr>\n",
              "      <th>Jungle Book (1942)</th>\n",
              "      <td>0.000000</td>\n",
              "      <td>0.000000</td>\n",
              "      <td>0.0</td>\n",
              "      <td>0.000000</td>\n",
              "      <td>0.000000</td>\n",
              "    </tr>\n",
              "  </tbody>\n",
              "</table>\n",
              "</div>"
            ],
            "text/plain": [
              "movie_name                                          Ripley's Game (2002)  ...  Cat Concerto, The (1947)\n",
              "movie_name                                                                ...                          \n",
              "Love Actually (2003)                                            0.254380  ...                  0.181023\n",
              "Trembling Before G-d (2001)                                     0.000000  ...                  0.000000\n",
              "Monkeybone (2001)                                               0.000000  ...                  0.614629\n",
              "Mystery, Alaska (1999)                                          0.000000  ...                  0.712014\n",
              "Stepford Wives, The (1975)                                      0.326914  ...                  0.000000\n",
              "Aguirre: The Wrath of God (Aguirre, der Zorn Go...              0.278338  ...                  0.000000\n",
              "Wonderland (1997)                                               0.000000  ...                  0.146646\n",
              "Octopussy (1983)                                                0.449995  ...                  0.000000\n",
              "Potiche (2010)                                                  0.000000  ...                  0.342498\n",
              "Jungle Book (1942)                                              0.000000  ...                  0.000000\n",
              "\n",
              "[10 rows x 5 columns]"
            ]
          },
          "metadata": {},
          "execution_count": 40
        }
      ]
    },
    {
      "cell_type": "markdown",
      "metadata": {
        "id": "UmVgSyeWTOQM"
      },
      "source": [
        "## **Mendapatkan Rekomendasi**"
      ]
    },
    {
      "cell_type": "code",
      "metadata": {
        "id": "VRYkS7eUTnGd"
      },
      "source": [
        "def movie_recommendations(nama_movie, similarity_data=cosine_sim_df, items=movie_new[['movie_name', 'genre']], k=5):\n",
        "    \"\"\"\n",
        "    Rekomendasi Film berdasarkan kemiripan dataframe\n",
        " \n",
        "    Parameter:\n",
        "    ---\n",
        "    nama_movie : tipe data string (str)\n",
        "                Nama Film (index kemiripan dataframe)\n",
        "    similarity_data : tipe data pd.DataFrame (object)\n",
        "                      Kesamaan dataframe, simetrik, dengan movie sebagai \n",
        "                      indeks dan kolom\n",
        "    items : tipe data pd.DataFrame (object)\n",
        "            Mengandung kedua nama dan fitur lainnya yang digunakan untuk mendefinisikan kemiripan\n",
        "    k : tipe data integer (int)\n",
        "        Banyaknya jumlah rekomendasi yang diberikan\n",
        "    ---\n",
        " \n",
        " \n",
        "    Pada index ini, kita mengambil k dengan nilai similarity terbesar \n",
        "    pada index matrix yang diberikan (i).\n",
        "    \"\"\"\n",
        " \n",
        " \n",
        "    # Mengambil data dengan menggunakan argpartition untuk melakukan partisi secara tidak langsung sepanjang sumbu yang diberikan    \n",
        "    # Dataframe diubah menjadi numpy\n",
        "    # Range(start, stop, step)\n",
        "    index = similarity_data.loc[:,nama_movie].to_numpy().argpartition(\n",
        "        range(-1, -k, -1))\n",
        "    \n",
        "    # Mengambil data dengan similarity terbesar dari index yang ada\n",
        "    closest = similarity_data.columns[index[-1:-(k+2):-1]]\n",
        "    \n",
        "    # Drop nama_movie agar nama movie yang dicari tidak muncul dalam daftar rekomendasi\n",
        "    closest = closest.drop(nama_movie, errors='ignore')\n",
        " \n",
        "    return pd.DataFrame(closest).merge(items).head(k)"
      ],
      "execution_count": 41,
      "outputs": []
    },
    {
      "cell_type": "code",
      "metadata": {
        "id": "faa-IhdEUegq",
        "colab": {
          "base_uri": "https://localhost:8080/",
          "height": 81
        },
        "outputId": "0932e2b3-881f-4825-96a5-e9a12f435018"
      },
      "source": [
        "# melihat data film Fun and Fancy Free (1947)\n",
        "movie_new[movie_new.movie_name.eq('Fun and Fancy Free (1947)')]"
      ],
      "execution_count": 42,
      "outputs": [
        {
          "output_type": "execute_result",
          "data": {
            "text/html": [
              "<div>\n",
              "<style scoped>\n",
              "    .dataframe tbody tr th:only-of-type {\n",
              "        vertical-align: middle;\n",
              "    }\n",
              "\n",
              "    .dataframe tbody tr th {\n",
              "        vertical-align: top;\n",
              "    }\n",
              "\n",
              "    .dataframe thead th {\n",
              "        text-align: right;\n",
              "    }\n",
              "</style>\n",
              "<table border=\"1\" class=\"dataframe\">\n",
              "  <thead>\n",
              "    <tr style=\"text-align: right;\">\n",
              "      <th></th>\n",
              "      <th>id</th>\n",
              "      <th>movie_name</th>\n",
              "      <th>genre</th>\n",
              "    </tr>\n",
              "  </thead>\n",
              "  <tbody>\n",
              "    <tr>\n",
              "      <th>2831</th>\n",
              "      <td>3759</td>\n",
              "      <td>Fun and Fancy Free (1947)</td>\n",
              "      <td>Animation|Children|Musical</td>\n",
              "    </tr>\n",
              "  </tbody>\n",
              "</table>\n",
              "</div>"
            ],
            "text/plain": [
              "        id                 movie_name                       genre\n",
              "2831  3759  Fun and Fancy Free (1947)  Animation|Children|Musical"
            ]
          },
          "metadata": {},
          "execution_count": 42
        }
      ]
    },
    {
      "cell_type": "code",
      "metadata": {
        "id": "4ypnN0ukU8gc",
        "colab": {
          "base_uri": "https://localhost:8080/",
          "height": 206
        },
        "outputId": "a2c817c8-eefd-4c90-8de9-bc0afbead301"
      },
      "source": [
        "# Mendapatkan rekomendasi film yang mirip dengan Fun and Fancy Free (1947)\n",
        "movie_recommendations('Fun and Fancy Free (1947)')"
      ],
      "execution_count": 43,
      "outputs": [
        {
          "output_type": "execute_result",
          "data": {
            "text/html": [
              "<div>\n",
              "<style scoped>\n",
              "    .dataframe tbody tr th:only-of-type {\n",
              "        vertical-align: middle;\n",
              "    }\n",
              "\n",
              "    .dataframe tbody tr th {\n",
              "        vertical-align: top;\n",
              "    }\n",
              "\n",
              "    .dataframe thead th {\n",
              "        text-align: right;\n",
              "    }\n",
              "</style>\n",
              "<table border=\"1\" class=\"dataframe\">\n",
              "  <thead>\n",
              "    <tr style=\"text-align: right;\">\n",
              "      <th></th>\n",
              "      <th>movie_name</th>\n",
              "      <th>genre</th>\n",
              "    </tr>\n",
              "  </thead>\n",
              "  <tbody>\n",
              "    <tr>\n",
              "      <th>0</th>\n",
              "      <td>Sleeping Beauty (1959)</td>\n",
              "      <td>Animation|Children|Musical</td>\n",
              "    </tr>\n",
              "    <tr>\n",
              "      <th>1</th>\n",
              "      <td>Three Caballeros, The (1945)</td>\n",
              "      <td>Animation|Children|Musical</td>\n",
              "    </tr>\n",
              "    <tr>\n",
              "      <th>2</th>\n",
              "      <td>Winnie the Pooh and the Blustery Day (1968)</td>\n",
              "      <td>Animation|Children|Musical</td>\n",
              "    </tr>\n",
              "    <tr>\n",
              "      <th>3</th>\n",
              "      <td>Jonah: A VeggieTales Movie (2002)</td>\n",
              "      <td>Animation|Children|Musical</td>\n",
              "    </tr>\n",
              "    <tr>\n",
              "      <th>4</th>\n",
              "      <td>Dumbo (1941)</td>\n",
              "      <td>Animation|Children|Drama|Musical</td>\n",
              "    </tr>\n",
              "  </tbody>\n",
              "</table>\n",
              "</div>"
            ],
            "text/plain": [
              "                                    movie_name                             genre\n",
              "0                       Sleeping Beauty (1959)        Animation|Children|Musical\n",
              "1                 Three Caballeros, The (1945)        Animation|Children|Musical\n",
              "2  Winnie the Pooh and the Blustery Day (1968)        Animation|Children|Musical\n",
              "3            Jonah: A VeggieTales Movie (2002)        Animation|Children|Musical\n",
              "4                                 Dumbo (1941)  Animation|Children|Drama|Musical"
            ]
          },
          "metadata": {},
          "execution_count": 43
        }
      ]
    },
    {
      "cell_type": "markdown",
      "metadata": {
        "id": "KvDkrAkbUoHn"
      },
      "source": [
        "## **Evaluasi Model**"
      ]
    },
    {
      "cell_type": "code",
      "metadata": {
        "id": "kLcnmNcB_0Ml"
      },
      "source": [
        "# evaluasi model menggunakan metrik precision\n",
        "\n",
        "# Precision = #of recommendation that are relevant/#of item we recommend\n",
        "# Precision = 4/5 \n",
        "# Precision = 80%"
      ],
      "execution_count": 44,
      "outputs": []
    },
    {
      "cell_type": "markdown",
      "metadata": {
        "id": "0PtY0MGiVZno"
      },
      "source": [
        "# **Model Development dengan Collaborative Filtering**\n",
        "Tujuan : Menghasilkan rekomendasi sejumlah film yang sesuai dengan preferensi pengguna berdasarkan rating yang telah diberikan sebelumnya. Dari data rating pengguna mengidentifikasi film-film yang mirip dan belum pernah ditonton oleh pengguna untuk direkomendasikan."
      ]
    },
    {
      "cell_type": "markdown",
      "metadata": {
        "id": "5Fzn9mSmVzuS"
      },
      "source": [
        "# **Data Understanding**"
      ]
    },
    {
      "cell_type": "code",
      "metadata": {
        "id": "ALffRO1tV4T_"
      },
      "source": [
        "# Import library\n",
        "import pandas as pd\n",
        "import numpy as np \n",
        "from zipfile import ZipFile\n",
        "import tensorflow as tf\n",
        "from tensorflow import keras\n",
        "from tensorflow.keras import layers\n",
        "from pathlib import Path\n",
        "import matplotlib.pyplot as plt"
      ],
      "execution_count": 45,
      "outputs": []
    },
    {
      "cell_type": "code",
      "metadata": {
        "id": "i2KCRswjWEc_",
        "colab": {
          "base_uri": "https://localhost:8080/",
          "height": 423
        },
        "outputId": "a5385384-76a2-4e81-fd1a-a41752b8b2fc"
      },
      "source": [
        "# Membaca dataset\n",
        "df = rating\n",
        "df"
      ],
      "execution_count": 46,
      "outputs": [
        {
          "output_type": "execute_result",
          "data": {
            "text/html": [
              "<div>\n",
              "<style scoped>\n",
              "    .dataframe tbody tr th:only-of-type {\n",
              "        vertical-align: middle;\n",
              "    }\n",
              "\n",
              "    .dataframe tbody tr th {\n",
              "        vertical-align: top;\n",
              "    }\n",
              "\n",
              "    .dataframe thead th {\n",
              "        text-align: right;\n",
              "    }\n",
              "</style>\n",
              "<table border=\"1\" class=\"dataframe\">\n",
              "  <thead>\n",
              "    <tr style=\"text-align: right;\">\n",
              "      <th></th>\n",
              "      <th>userId</th>\n",
              "      <th>movieId</th>\n",
              "      <th>rating</th>\n",
              "    </tr>\n",
              "  </thead>\n",
              "  <tbody>\n",
              "    <tr>\n",
              "      <th>0</th>\n",
              "      <td>1</td>\n",
              "      <td>2</td>\n",
              "      <td>3.5</td>\n",
              "    </tr>\n",
              "    <tr>\n",
              "      <th>1</th>\n",
              "      <td>1</td>\n",
              "      <td>29</td>\n",
              "      <td>3.5</td>\n",
              "    </tr>\n",
              "    <tr>\n",
              "      <th>2</th>\n",
              "      <td>1</td>\n",
              "      <td>32</td>\n",
              "      <td>3.5</td>\n",
              "    </tr>\n",
              "    <tr>\n",
              "      <th>3</th>\n",
              "      <td>1</td>\n",
              "      <td>47</td>\n",
              "      <td>3.5</td>\n",
              "    </tr>\n",
              "    <tr>\n",
              "      <th>4</th>\n",
              "      <td>1</td>\n",
              "      <td>50</td>\n",
              "      <td>3.5</td>\n",
              "    </tr>\n",
              "    <tr>\n",
              "      <th>...</th>\n",
              "      <td>...</td>\n",
              "      <td>...</td>\n",
              "      <td>...</td>\n",
              "    </tr>\n",
              "    <tr>\n",
              "      <th>20000258</th>\n",
              "      <td>138493</td>\n",
              "      <td>68954</td>\n",
              "      <td>4.5</td>\n",
              "    </tr>\n",
              "    <tr>\n",
              "      <th>20000259</th>\n",
              "      <td>138493</td>\n",
              "      <td>69526</td>\n",
              "      <td>4.5</td>\n",
              "    </tr>\n",
              "    <tr>\n",
              "      <th>20000260</th>\n",
              "      <td>138493</td>\n",
              "      <td>69644</td>\n",
              "      <td>3.0</td>\n",
              "    </tr>\n",
              "    <tr>\n",
              "      <th>20000261</th>\n",
              "      <td>138493</td>\n",
              "      <td>70286</td>\n",
              "      <td>5.0</td>\n",
              "    </tr>\n",
              "    <tr>\n",
              "      <th>20000262</th>\n",
              "      <td>138493</td>\n",
              "      <td>71619</td>\n",
              "      <td>2.5</td>\n",
              "    </tr>\n",
              "  </tbody>\n",
              "</table>\n",
              "<p>20000263 rows × 3 columns</p>\n",
              "</div>"
            ],
            "text/plain": [
              "          userId  movieId  rating\n",
              "0              1        2     3.5\n",
              "1              1       29     3.5\n",
              "2              1       32     3.5\n",
              "3              1       47     3.5\n",
              "4              1       50     3.5\n",
              "...          ...      ...     ...\n",
              "20000258  138493    68954     4.5\n",
              "20000259  138493    69526     4.5\n",
              "20000260  138493    69644     3.0\n",
              "20000261  138493    70286     5.0\n",
              "20000262  138493    71619     2.5\n",
              "\n",
              "[20000263 rows x 3 columns]"
            ]
          },
          "metadata": {},
          "execution_count": 46
        }
      ]
    },
    {
      "cell_type": "markdown",
      "metadata": {
        "id": "a3tS54EIWM1M"
      },
      "source": [
        "# **Data Preparation**"
      ]
    },
    {
      "cell_type": "markdown",
      "metadata": {
        "id": "rQqqQvxNXEAN"
      },
      "source": [
        "## **Mengambil Data Sampel**"
      ]
    },
    {
      "cell_type": "code",
      "metadata": {
        "id": "JSwZBkq0XAbz",
        "colab": {
          "base_uri": "https://localhost:8080/",
          "height": 423
        },
        "outputId": "61bb8bb6-cd7f-4ead-dad8-4d080677787a"
      },
      "source": [
        "# Mengambil sampel 100.000 record data saja\n",
        "df = df[:100000]\n",
        "df"
      ],
      "execution_count": 47,
      "outputs": [
        {
          "output_type": "execute_result",
          "data": {
            "text/html": [
              "<div>\n",
              "<style scoped>\n",
              "    .dataframe tbody tr th:only-of-type {\n",
              "        vertical-align: middle;\n",
              "    }\n",
              "\n",
              "    .dataframe tbody tr th {\n",
              "        vertical-align: top;\n",
              "    }\n",
              "\n",
              "    .dataframe thead th {\n",
              "        text-align: right;\n",
              "    }\n",
              "</style>\n",
              "<table border=\"1\" class=\"dataframe\">\n",
              "  <thead>\n",
              "    <tr style=\"text-align: right;\">\n",
              "      <th></th>\n",
              "      <th>userId</th>\n",
              "      <th>movieId</th>\n",
              "      <th>rating</th>\n",
              "    </tr>\n",
              "  </thead>\n",
              "  <tbody>\n",
              "    <tr>\n",
              "      <th>0</th>\n",
              "      <td>1</td>\n",
              "      <td>2</td>\n",
              "      <td>3.5</td>\n",
              "    </tr>\n",
              "    <tr>\n",
              "      <th>1</th>\n",
              "      <td>1</td>\n",
              "      <td>29</td>\n",
              "      <td>3.5</td>\n",
              "    </tr>\n",
              "    <tr>\n",
              "      <th>2</th>\n",
              "      <td>1</td>\n",
              "      <td>32</td>\n",
              "      <td>3.5</td>\n",
              "    </tr>\n",
              "    <tr>\n",
              "      <th>3</th>\n",
              "      <td>1</td>\n",
              "      <td>47</td>\n",
              "      <td>3.5</td>\n",
              "    </tr>\n",
              "    <tr>\n",
              "      <th>4</th>\n",
              "      <td>1</td>\n",
              "      <td>50</td>\n",
              "      <td>3.5</td>\n",
              "    </tr>\n",
              "    <tr>\n",
              "      <th>...</th>\n",
              "      <td>...</td>\n",
              "      <td>...</td>\n",
              "      <td>...</td>\n",
              "    </tr>\n",
              "    <tr>\n",
              "      <th>99995</th>\n",
              "      <td>702</td>\n",
              "      <td>1373</td>\n",
              "      <td>3.0</td>\n",
              "    </tr>\n",
              "    <tr>\n",
              "      <th>99996</th>\n",
              "      <td>702</td>\n",
              "      <td>1374</td>\n",
              "      <td>2.5</td>\n",
              "    </tr>\n",
              "    <tr>\n",
              "      <th>99997</th>\n",
              "      <td>702</td>\n",
              "      <td>1377</td>\n",
              "      <td>1.5</td>\n",
              "    </tr>\n",
              "    <tr>\n",
              "      <th>99998</th>\n",
              "      <td>702</td>\n",
              "      <td>1378</td>\n",
              "      <td>1.5</td>\n",
              "    </tr>\n",
              "    <tr>\n",
              "      <th>99999</th>\n",
              "      <td>702</td>\n",
              "      <td>1380</td>\n",
              "      <td>3.5</td>\n",
              "    </tr>\n",
              "  </tbody>\n",
              "</table>\n",
              "<p>100000 rows × 3 columns</p>\n",
              "</div>"
            ],
            "text/plain": [
              "       userId  movieId  rating\n",
              "0           1        2     3.5\n",
              "1           1       29     3.5\n",
              "2           1       32     3.5\n",
              "3           1       47     3.5\n",
              "4           1       50     3.5\n",
              "...       ...      ...     ...\n",
              "99995     702     1373     3.0\n",
              "99996     702     1374     2.5\n",
              "99997     702     1377     1.5\n",
              "99998     702     1378     1.5\n",
              "99999     702     1380     3.5\n",
              "\n",
              "[100000 rows x 3 columns]"
            ]
          },
          "metadata": {},
          "execution_count": 47
        }
      ]
    },
    {
      "cell_type": "code",
      "metadata": {
        "id": "W_YdndL4WXaO"
      },
      "source": [
        "# Mengubah userId menjadi list tanpa nilai yang sama\n",
        "user_ids = df['userId'].unique().tolist()\n",
        "# print('list userId: ', user_ids)\n",
        " \n",
        "# Melakukan encoding userId\n",
        "user_to_user_encoded = {x: i for i, x in enumerate(user_ids)}\n",
        "# print('encoded userId : ', user_to_user_encoded)\n",
        " \n",
        "# Melakukan proses encoding angka ke ke userId\n",
        "user_encoded_to_user = {i: x for i, x in enumerate(user_ids)}\n",
        "# print('encoded angka ke userId: ', user_encoded_to_user)"
      ],
      "execution_count": 48,
      "outputs": []
    },
    {
      "cell_type": "code",
      "metadata": {
        "id": "zNH1rLFOLB5Q",
        "colab": {
          "base_uri": "https://localhost:8080/"
        },
        "outputId": "c85b9463-d576-4ea1-d53e-72dc8c52e2cf"
      },
      "source": [
        "# Mengubah movieId menjadi list tanpa nilai yang sama\n",
        "movie_ids = df['movieId'].unique().tolist()\n",
        " \n",
        "# Melakukan proses encoding movieId\n",
        "movie_to_movie_encoded = {x: i for i, x in enumerate(movie_ids)}\n",
        " \n",
        "# Melakukan proses encoding angka ke movieId\n",
        "movie_encoded_to_movie = {i: x for i, x in enumerate(movie_ids)}\n",
        " \n",
        "# Selanjutnya, petakan userId dan movieId ke dataframe yang berkaitan.\n",
        " \n",
        "# Mapping userId ke dataframe user\n",
        "df['user'] = df['userId'].map(user_to_user_encoded)\n",
        " \n",
        "# Mapping movieId ke dataframe movie\n",
        "df['movie'] = df['movieId'].map(movie_to_movie_encoded)"
      ],
      "execution_count": 49,
      "outputs": [
        {
          "output_type": "stream",
          "name": "stderr",
          "text": [
            "/usr/local/lib/python3.7/dist-packages/ipykernel_launcher.py:13: SettingWithCopyWarning: \n",
            "A value is trying to be set on a copy of a slice from a DataFrame.\n",
            "Try using .loc[row_indexer,col_indexer] = value instead\n",
            "\n",
            "See the caveats in the documentation: https://pandas.pydata.org/pandas-docs/stable/user_guide/indexing.html#returning-a-view-versus-a-copy\n",
            "  del sys.path[0]\n",
            "/usr/local/lib/python3.7/dist-packages/ipykernel_launcher.py:16: SettingWithCopyWarning: \n",
            "A value is trying to be set on a copy of a slice from a DataFrame.\n",
            "Try using .loc[row_indexer,col_indexer] = value instead\n",
            "\n",
            "See the caveats in the documentation: https://pandas.pydata.org/pandas-docs/stable/user_guide/indexing.html#returning-a-view-versus-a-copy\n",
            "  app.launch_new_instance()\n"
          ]
        }
      ]
    },
    {
      "cell_type": "code",
      "metadata": {
        "id": "Rk1BRBaDLtxL",
        "colab": {
          "base_uri": "https://localhost:8080/"
        },
        "outputId": "32beb1dd-5604-420e-8ed6-e14c782c4c7b"
      },
      "source": [
        "# Mendapatkan jumlah user\n",
        "num_users = len(user_to_user_encoded)\n",
        "print(num_users)\n",
        " \n",
        "# Mendapatkan jumlah movie\n",
        "num_movie = len(movie_encoded_to_movie)\n",
        "print(num_movie)\n",
        " \n",
        "# Mengubah rating menjadi nilai float\n",
        "df['rating'] = df['rating'].values.astype(np.float32)\n",
        " \n",
        "# Nilai minimum rating\n",
        "min_rating = min(df['rating'])\n",
        " \n",
        "# Nilai maksimal rating\n",
        "max_rating = max(df['rating'])\n",
        " \n",
        "print('Number of User: {}, Number of Movie: {}, Min Rating: {}, Max Rating: {}'.format(\n",
        "    num_users, num_movie, min_rating, max_rating\n",
        "))"
      ],
      "execution_count": 50,
      "outputs": [
        {
          "output_type": "stream",
          "name": "stdout",
          "text": [
            "702\n",
            "8227\n",
            "Number of User: 702, Number of Movie: 8227, Min Rating: 0.5, Max Rating: 5.0\n"
          ]
        },
        {
          "output_type": "stream",
          "name": "stderr",
          "text": [
            "/usr/local/lib/python3.7/dist-packages/ipykernel_launcher.py:10: SettingWithCopyWarning: \n",
            "A value is trying to be set on a copy of a slice from a DataFrame.\n",
            "Try using .loc[row_indexer,col_indexer] = value instead\n",
            "\n",
            "See the caveats in the documentation: https://pandas.pydata.org/pandas-docs/stable/user_guide/indexing.html#returning-a-view-versus-a-copy\n",
            "  # Remove the CWD from sys.path while we load stuff.\n"
          ]
        }
      ]
    },
    {
      "cell_type": "markdown",
      "metadata": {
        "id": "Qcb5x-7yMDkI"
      },
      "source": [
        "## **Membagi Data untuk Training dan Validasi**"
      ]
    },
    {
      "cell_type": "code",
      "metadata": {
        "id": "Jz0XGoHSMG0P",
        "colab": {
          "base_uri": "https://localhost:8080/",
          "height": 423
        },
        "outputId": "4cc94877-8256-426c-f357-28e6616373b3"
      },
      "source": [
        "# Mengacak dataset\n",
        "df = df.sample(frac=1, random_state=42)\n",
        "df"
      ],
      "execution_count": 51,
      "outputs": [
        {
          "output_type": "execute_result",
          "data": {
            "text/html": [
              "<div>\n",
              "<style scoped>\n",
              "    .dataframe tbody tr th:only-of-type {\n",
              "        vertical-align: middle;\n",
              "    }\n",
              "\n",
              "    .dataframe tbody tr th {\n",
              "        vertical-align: top;\n",
              "    }\n",
              "\n",
              "    .dataframe thead th {\n",
              "        text-align: right;\n",
              "    }\n",
              "</style>\n",
              "<table border=\"1\" class=\"dataframe\">\n",
              "  <thead>\n",
              "    <tr style=\"text-align: right;\">\n",
              "      <th></th>\n",
              "      <th>userId</th>\n",
              "      <th>movieId</th>\n",
              "      <th>rating</th>\n",
              "      <th>user</th>\n",
              "      <th>movie</th>\n",
              "    </tr>\n",
              "  </thead>\n",
              "  <tbody>\n",
              "    <tr>\n",
              "      <th>75721</th>\n",
              "      <td>545</td>\n",
              "      <td>219</td>\n",
              "      <td>3.0</td>\n",
              "      <td>544</td>\n",
              "      <td>4841</td>\n",
              "    </tr>\n",
              "    <tr>\n",
              "      <th>80184</th>\n",
              "      <td>578</td>\n",
              "      <td>253</td>\n",
              "      <td>4.5</td>\n",
              "      <td>577</td>\n",
              "      <td>8</td>\n",
              "    </tr>\n",
              "    <tr>\n",
              "      <th>19864</th>\n",
              "      <td>156</td>\n",
              "      <td>23</td>\n",
              "      <td>3.0</td>\n",
              "      <td>155</td>\n",
              "      <td>1679</td>\n",
              "    </tr>\n",
              "    <tr>\n",
              "      <th>76699</th>\n",
              "      <td>553</td>\n",
              "      <td>1722</td>\n",
              "      <td>3.0</td>\n",
              "      <td>552</td>\n",
              "      <td>1451</td>\n",
              "    </tr>\n",
              "    <tr>\n",
              "      <th>92991</th>\n",
              "      <td>648</td>\n",
              "      <td>541</td>\n",
              "      <td>4.0</td>\n",
              "      <td>647</td>\n",
              "      <td>15</td>\n",
              "    </tr>\n",
              "    <tr>\n",
              "      <th>...</th>\n",
              "      <td>...</td>\n",
              "      <td>...</td>\n",
              "      <td>...</td>\n",
              "      <td>...</td>\n",
              "      <td>...</td>\n",
              "    </tr>\n",
              "    <tr>\n",
              "      <th>6265</th>\n",
              "      <td>56</td>\n",
              "      <td>3160</td>\n",
              "      <td>4.0</td>\n",
              "      <td>55</td>\n",
              "      <td>1373</td>\n",
              "    </tr>\n",
              "    <tr>\n",
              "      <th>54886</th>\n",
              "      <td>394</td>\n",
              "      <td>8915</td>\n",
              "      <td>5.0</td>\n",
              "      <td>393</td>\n",
              "      <td>6796</td>\n",
              "    </tr>\n",
              "    <tr>\n",
              "      <th>76820</th>\n",
              "      <td>554</td>\n",
              "      <td>329</td>\n",
              "      <td>4.0</td>\n",
              "      <td>553</td>\n",
              "      <td>234</td>\n",
              "    </tr>\n",
              "    <tr>\n",
              "      <th>860</th>\n",
              "      <td>8</td>\n",
              "      <td>377</td>\n",
              "      <td>4.0</td>\n",
              "      <td>7</td>\n",
              "      <td>372</td>\n",
              "    </tr>\n",
              "    <tr>\n",
              "      <th>15795</th>\n",
              "      <td>131</td>\n",
              "      <td>1225</td>\n",
              "      <td>2.0</td>\n",
              "      <td>130</td>\n",
              "      <td>267</td>\n",
              "    </tr>\n",
              "  </tbody>\n",
              "</table>\n",
              "<p>100000 rows × 5 columns</p>\n",
              "</div>"
            ],
            "text/plain": [
              "       userId  movieId  rating  user  movie\n",
              "75721     545      219     3.0   544   4841\n",
              "80184     578      253     4.5   577      8\n",
              "19864     156       23     3.0   155   1679\n",
              "76699     553     1722     3.0   552   1451\n",
              "92991     648      541     4.0   647     15\n",
              "...       ...      ...     ...   ...    ...\n",
              "6265       56     3160     4.0    55   1373\n",
              "54886     394     8915     5.0   393   6796\n",
              "76820     554      329     4.0   553    234\n",
              "860         8      377     4.0     7    372\n",
              "15795     131     1225     2.0   130    267\n",
              "\n",
              "[100000 rows x 5 columns]"
            ]
          },
          "metadata": {},
          "execution_count": 51
        }
      ]
    },
    {
      "cell_type": "code",
      "metadata": {
        "id": "6UJFwVGDMblN",
        "colab": {
          "base_uri": "https://localhost:8080/"
        },
        "outputId": "e7dbc04d-5052-4ba6-f5c3-fe5f7c0ea006"
      },
      "source": [
        "# Membuat variabel x untuk mencocokkan data user dan movie menjadi satu value\n",
        "x = df[['user', 'movie']].values\n",
        " \n",
        "# Membuat variabel y untuk membuat rating dari hasil \n",
        "y = df['rating'].apply(lambda x: (x - min_rating) / (max_rating - min_rating)).values\n",
        " \n",
        "# Membagi menjadi 80% data train dan 20% data validasi\n",
        "train_indices = int(0.8 * df.shape[0])\n",
        "x_train, x_val, y_train, y_val = (\n",
        "    x[:train_indices],\n",
        "    x[train_indices:],\n",
        "    y[:train_indices],\n",
        "    y[train_indices:]\n",
        ")\n",
        " \n",
        "print(x, y)"
      ],
      "execution_count": 52,
      "outputs": [
        {
          "output_type": "stream",
          "name": "stdout",
          "text": [
            "[[ 544 4841]\n",
            " [ 577    8]\n",
            " [ 155 1679]\n",
            " ...\n",
            " [ 553  234]\n",
            " [   7  372]\n",
            " [ 130  267]] [0.55555556 0.88888889 0.55555556 ... 0.77777778 0.77777778 0.33333333]\n"
          ]
        }
      ]
    },
    {
      "cell_type": "markdown",
      "metadata": {
        "id": "zAuKtq1uMoHz"
      },
      "source": [
        "# **Proses Training**"
      ]
    },
    {
      "cell_type": "code",
      "metadata": {
        "id": "eVe3pnzyMtB5"
      },
      "source": [
        "# membuat class RecommenderNet\n",
        "class RecommenderNet(tf.keras.Model):\n",
        " \n",
        "  # Insialisasi fungsi\n",
        "  def __init__(self, num_users, num_movie, embedding_size, **kwargs):\n",
        "    super(RecommenderNet, self).__init__(**kwargs)\n",
        "    self.num_users = num_users\n",
        "    self.num_movie = num_movie\n",
        "    self.embedding_size = embedding_size\n",
        "    self.user_embedding = layers.Embedding( # layer embedding user\n",
        "        num_users,\n",
        "        embedding_size,\n",
        "        embeddings_initializer = 'he_normal',\n",
        "        embeddings_regularizer = keras.regularizers.l2(1e-6)\n",
        "    )\n",
        "    self.user_bias = layers.Embedding(num_users, 1) # layer embedding user bias\n",
        "    self.movie_embedding = layers.Embedding( # layer embeddings movie\n",
        "        num_movie,\n",
        "        embedding_size,\n",
        "        embeddings_initializer = 'he_normal',\n",
        "        embeddings_regularizer = keras.regularizers.l2(1e-6)\n",
        "    )\n",
        "    self.movie_bias = layers.Embedding(num_movie, 1) # layer embedding movie bias\n",
        " \n",
        "  def call(self, inputs):\n",
        "    user_vector = self.user_embedding(inputs[:,0]) # memanggil layer embedding 1\n",
        "    user_bias = self.user_bias(inputs[:, 0]) # memanggil layer embedding 2\n",
        "    movie_vector = self.movie_embedding(inputs[:, 1]) # memanggil layer embedding 3\n",
        "    movie_bias = self.movie_bias(inputs[:, 1]) # memanggil layer embedding 4\n",
        " \n",
        "    dot_user_movie = tf.tensordot(user_vector, movie_vector, 2) \n",
        " \n",
        "    x = dot_user_movie + user_bias + movie_bias\n",
        "    \n",
        "    return tf.nn.sigmoid(x) # activation sigmoid"
      ],
      "execution_count": 53,
      "outputs": []
    },
    {
      "cell_type": "markdown",
      "metadata": {
        "id": "9SeorEYwXd7o"
      },
      "source": [
        "## **Training dan Evaluasi**\n",
        "Evaluasi model menggunakan 3 metrik yaitu RSME, SME, dan MAE"
      ]
    },
    {
      "cell_type": "markdown",
      "metadata": {
        "id": "xnuum0dRT9Wf"
      },
      "source": [
        "**Metrik RSME**"
      ]
    },
    {
      "cell_type": "code",
      "metadata": {
        "id": "MmMihmFfNqW2"
      },
      "source": [
        "model = RecommenderNet(num_users, num_movie, 50) # inisialisasi model\n",
        " \n",
        "# model compile\n",
        "model.compile(\n",
        "    loss = tf.keras.losses.BinaryCrossentropy(),\n",
        "    optimizer = keras.optimizers.Adam(learning_rate=0.001),\n",
        "    metrics=[tf.keras.metrics.RootMeanSquaredError()]\n",
        ")"
      ],
      "execution_count": 54,
      "outputs": []
    },
    {
      "cell_type": "code",
      "metadata": {
        "id": "j4HO6hjiNwZV",
        "colab": {
          "base_uri": "https://localhost:8080/"
        },
        "outputId": "461f8c72-2862-4c3b-80a5-473ecc586bf8"
      },
      "source": [
        "# Memulai training\n",
        " \n",
        "history = model.fit(\n",
        "    x = x_train,\n",
        "    y = y_train,\n",
        "    batch_size = 10,\n",
        "    epochs = 10,\n",
        "    validation_data = (x_val, y_val)\n",
        ")"
      ],
      "execution_count": 55,
      "outputs": [
        {
          "output_type": "stream",
          "name": "stdout",
          "text": [
            "Epoch 1/10\n",
            "8000/8000 [==============================] - 43s 5ms/step - loss: 0.6283 - root_mean_squared_error: 0.2288 - val_loss: 0.6107 - val_root_mean_squared_error: 0.2139\n",
            "Epoch 2/10\n",
            "8000/8000 [==============================] - 39s 5ms/step - loss: 0.6064 - root_mean_squared_error: 0.2055 - val_loss: 0.6068 - val_root_mean_squared_error: 0.2096\n",
            "Epoch 3/10\n",
            "8000/8000 [==============================] - 39s 5ms/step - loss: 0.6020 - root_mean_squared_error: 0.2007 - val_loss: 0.6056 - val_root_mean_squared_error: 0.2082\n",
            "Epoch 4/10\n",
            "8000/8000 [==============================] - 37s 5ms/step - loss: 0.5996 - root_mean_squared_error: 0.1978 - val_loss: 0.6055 - val_root_mean_squared_error: 0.2079\n",
            "Epoch 5/10\n",
            "8000/8000 [==============================] - 39s 5ms/step - loss: 0.5981 - root_mean_squared_error: 0.1959 - val_loss: 0.6059 - val_root_mean_squared_error: 0.2081\n",
            "Epoch 6/10\n",
            "8000/8000 [==============================] - 39s 5ms/step - loss: 0.5970 - root_mean_squared_error: 0.1946 - val_loss: 0.6057 - val_root_mean_squared_error: 0.2078\n",
            "Epoch 7/10\n",
            "8000/8000 [==============================] - 39s 5ms/step - loss: 0.5964 - root_mean_squared_error: 0.1939 - val_loss: 0.6060 - val_root_mean_squared_error: 0.2080\n",
            "Epoch 8/10\n",
            "8000/8000 [==============================] - 39s 5ms/step - loss: 0.5955 - root_mean_squared_error: 0.1927 - val_loss: 0.6057 - val_root_mean_squared_error: 0.2077\n",
            "Epoch 9/10\n",
            "8000/8000 [==============================] - 37s 5ms/step - loss: 0.5950 - root_mean_squared_error: 0.1922 - val_loss: 0.6056 - val_root_mean_squared_error: 0.2075\n",
            "Epoch 10/10\n",
            "8000/8000 [==============================] - 38s 5ms/step - loss: 0.5947 - root_mean_squared_error: 0.1918 - val_loss: 0.6050 - val_root_mean_squared_error: 0.2068\n"
          ]
        }
      ]
    },
    {
      "cell_type": "code",
      "metadata": {
        "id": "J0FFxoLnN5-9",
        "colab": {
          "base_uri": "https://localhost:8080/",
          "height": 295
        },
        "outputId": "ddf055c8-e6e4-4cd6-b6c9-651b7045a7ca"
      },
      "source": [
        "# visualisasi metrik\n",
        "plt.plot(history.history['root_mean_squared_error'])\n",
        "plt.plot(history.history['val_root_mean_squared_error'])\n",
        "plt.title('model_metrics')\n",
        "plt.ylabel('root_mean_squared_error')\n",
        "plt.xlabel('epoch')\n",
        "plt.legend(['train', 'test'], loc='upper left')\n",
        "plt.show()"
      ],
      "execution_count": 56,
      "outputs": [
        {
          "output_type": "display_data",
          "data": {
            "image/png": "[encoded data removed]",
            "text/plain": [
              "<Figure size 432x288 with 1 Axes>"
            ]
          },
          "metadata": {
            "needs_background": "light"
          }
        }
      ]
    },
    {
      "cell_type": "markdown",
      "metadata": {
        "id": "gp5eXIHNTkjX"
      },
      "source": [
        "**Metrik MSE**"
      ]
    },
    {
      "cell_type": "code",
      "metadata": {
        "id": "yXUMJr3dxnGD"
      },
      "source": [
        "model = RecommenderNet(num_users, num_movie, 50) # inisialisasi model\n",
        " \n",
        "# model compile\n",
        "model.compile(\n",
        "    loss = tf.keras.losses.BinaryCrossentropy(),\n",
        "    optimizer = keras.optimizers.Adam(learning_rate=0.001),\n",
        "    metrics=[tf.keras.metrics.MeanSquaredError()]\n",
        ")"
      ],
      "execution_count": 57,
      "outputs": []
    },
    {
      "cell_type": "code",
      "metadata": {
        "colab": {
          "base_uri": "https://localhost:8080/"
        },
        "id": "HZ7VNq9KzHxS",
        "outputId": "9a15d924-e080-4b61-e4a0-1968bd629d80"
      },
      "source": [
        "# Memulai training\n",
        " \n",
        "history = model.fit(\n",
        "    x = x_train,\n",
        "    y = y_train,\n",
        "    batch_size = 10,\n",
        "    epochs = 10,\n",
        "    validation_data = (x_val, y_val)\n",
        ")"
      ],
      "execution_count": 58,
      "outputs": [
        {
          "output_type": "stream",
          "name": "stdout",
          "text": [
            "Epoch 1/10\n",
            "8000/8000 [==============================] - 39s 5ms/step - loss: 0.6279 - mean_squared_error: 0.0521 - val_loss: 0.6108 - val_mean_squared_error: 0.0458\n",
            "Epoch 2/10\n",
            "8000/8000 [==============================] - 36s 5ms/step - loss: 0.6065 - mean_squared_error: 0.0423 - val_loss: 0.6066 - val_mean_squared_error: 0.0438\n",
            "Epoch 3/10\n",
            "8000/8000 [==============================] - 36s 5ms/step - loss: 0.6019 - mean_squared_error: 0.0402 - val_loss: 0.6061 - val_mean_squared_error: 0.0435\n",
            "Epoch 4/10\n",
            "8000/8000 [==============================] - 38s 5ms/step - loss: 0.5999 - mean_squared_error: 0.0392 - val_loss: 0.6049 - val_mean_squared_error: 0.0429\n",
            "Epoch 5/10\n",
            "8000/8000 [==============================] - 38s 5ms/step - loss: 0.5981 - mean_squared_error: 0.0384 - val_loss: 0.6050 - val_mean_squared_error: 0.0429\n",
            "Epoch 6/10\n",
            "8000/8000 [==============================] - 38s 5ms/step - loss: 0.5973 - mean_squared_error: 0.0380 - val_loss: 0.6048 - val_mean_squared_error: 0.0428\n",
            "Epoch 7/10\n",
            "8000/8000 [==============================] - 38s 5ms/step - loss: 0.5965 - mean_squared_error: 0.0376 - val_loss: 0.6058 - val_mean_squared_error: 0.0432\n",
            "Epoch 8/10\n",
            "8000/8000 [==============================] - 39s 5ms/step - loss: 0.5957 - mean_squared_error: 0.0372 - val_loss: 0.6056 - val_mean_squared_error: 0.0431\n",
            "Epoch 9/10\n",
            "8000/8000 [==============================] - 39s 5ms/step - loss: 0.5949 - mean_squared_error: 0.0369 - val_loss: 0.6055 - val_mean_squared_error: 0.0430\n",
            "Epoch 10/10\n",
            "8000/8000 [==============================] - 38s 5ms/step - loss: 0.5941 - mean_squared_error: 0.0365 - val_loss: 0.6062 - val_mean_squared_error: 0.0433\n"
          ]
        }
      ]
    },
    {
      "cell_type": "code",
      "metadata": {
        "colab": {
          "base_uri": "https://localhost:8080/",
          "height": 295
        },
        "id": "nPnWG08mzQ7F",
        "outputId": "5d75aa71-fd79-42af-c73b-ad12269fe07d"
      },
      "source": [
        "# Visualisasi Metrik\n",
        "plt.plot(history.history['mean_squared_error'])\n",
        "plt.plot(history.history['val_mean_squared_error'])\n",
        "plt.title('model_metrics')\n",
        "plt.ylabel('mean_squared_error')\n",
        "plt.xlabel('epoch')\n",
        "plt.legend(['train', 'test'], loc='upper left')\n",
        "plt.show()"
      ],
      "execution_count": 59,
      "outputs": [
        {
          "output_type": "display_data",
          "data": {
            "image/png": "[encoded data removed]",
            "text/plain": [
              "<Figure size 432x288 with 1 Axes>"
            ]
          },
          "metadata": {
            "needs_background": "light"
          }
        }
      ]
    },
    {
      "cell_type": "markdown",
      "metadata": {
        "id": "5wCAJsqtTuHg"
      },
      "source": [
        "**Metrik MAE**"
      ]
    },
    {
      "cell_type": "code",
      "metadata": {
        "id": "dw0G45w6y4n8"
      },
      "source": [
        "model = RecommenderNet(num_users, num_movie, 50) # inisialisasi model\n",
        " \n",
        "# model compile\n",
        "model.compile(\n",
        "    loss = tf.keras.losses.BinaryCrossentropy(),\n",
        "    optimizer = keras.optimizers.Adam(learning_rate=0.001),\n",
        "    metrics=[tf.keras.metrics.MeanAbsoluteError()]\n",
        ")"
      ],
      "execution_count": 60,
      "outputs": []
    },
    {
      "cell_type": "code",
      "metadata": {
        "colab": {
          "base_uri": "https://localhost:8080/"
        },
        "id": "XMjRN4jhzKUZ",
        "outputId": "9494c764-c2ee-47b2-accf-00359278a4fe"
      },
      "source": [
        "# Memulai training\n",
        " \n",
        "history = model.fit(\n",
        "    x = x_train,\n",
        "    y = y_train,\n",
        "    batch_size = 10,\n",
        "    epochs = 10,\n",
        "    validation_data = (x_val, y_val)\n",
        ")"
      ],
      "execution_count": 61,
      "outputs": [
        {
          "output_type": "stream",
          "name": "stdout",
          "text": [
            "Epoch 1/10\n",
            "8000/8000 [==============================] - 39s 5ms/step - loss: 0.6278 - mean_absolute_error: 0.1821 - val_loss: 0.6108 - val_mean_absolute_error: 0.1681\n",
            "Epoch 2/10\n",
            "8000/8000 [==============================] - 35s 4ms/step - loss: 0.6065 - mean_absolute_error: 0.1605 - val_loss: 0.6069 - val_mean_absolute_error: 0.1643\n",
            "Epoch 3/10\n",
            "8000/8000 [==============================] - 37s 5ms/step - loss: 0.6020 - mean_absolute_error: 0.1562 - val_loss: 0.6059 - val_mean_absolute_error: 0.1631\n",
            "Epoch 4/10\n",
            "8000/8000 [==============================] - 35s 4ms/step - loss: 0.5996 - mean_absolute_error: 0.1535 - val_loss: 0.6059 - val_mean_absolute_error: 0.1629\n",
            "Epoch 5/10\n",
            "8000/8000 [==============================] - 36s 4ms/step - loss: 0.5982 - mean_absolute_error: 0.1521 - val_loss: 0.6061 - val_mean_absolute_error: 0.1623\n",
            "Epoch 6/10\n",
            "8000/8000 [==============================] - 36s 4ms/step - loss: 0.5974 - mean_absolute_error: 0.1514 - val_loss: 0.6057 - val_mean_absolute_error: 0.1621\n",
            "Epoch 7/10\n",
            "8000/8000 [==============================] - 36s 4ms/step - loss: 0.5961 - mean_absolute_error: 0.1497 - val_loss: 0.6056 - val_mean_absolute_error: 0.1619\n",
            "Epoch 8/10\n",
            "8000/8000 [==============================] - 36s 4ms/step - loss: 0.5961 - mean_absolute_error: 0.1498 - val_loss: 0.6049 - val_mean_absolute_error: 0.1608\n",
            "Epoch 9/10\n",
            "8000/8000 [==============================] - 38s 5ms/step - loss: 0.5952 - mean_absolute_error: 0.1491 - val_loss: 0.6050 - val_mean_absolute_error: 0.1608\n",
            "Epoch 10/10\n",
            "8000/8000 [==============================] - 36s 4ms/step - loss: 0.5943 - mean_absolute_error: 0.1479 - val_loss: 0.6053 - val_mean_absolute_error: 0.1610\n"
          ]
        }
      ]
    },
    {
      "cell_type": "code",
      "metadata": {
        "colab": {
          "base_uri": "https://localhost:8080/",
          "height": 295
        },
        "id": "gjPfzNFhzjSY",
        "outputId": "b3575f99-8726-4680-84d8-d9f0a540af1b"
      },
      "source": [
        "# Visualisasi Metrik\n",
        "plt.plot(history.history['mean_absolute_error'])\n",
        "plt.plot(history.history['val_mean_absolute_error'])\n",
        "plt.title('model_metrics')\n",
        "plt.ylabel('mean_absolute_error')\n",
        "plt.xlabel('epoch')\n",
        "plt.legend(['train', 'test'], loc='upper left')\n",
        "plt.show()"
      ],
      "execution_count": 62,
      "outputs": [
        {
          "output_type": "display_data",
          "data": {
            "image/png": "[encoded data removed]",
            "text/plain": [
              "<Figure size 432x288 with 1 Axes>"
            ]
          },
          "metadata": {
            "needs_background": "light"
          }
        }
      ]
    },
    {
      "cell_type": "markdown",
      "metadata": {
        "id": "dYLNqzQtN9v6"
      },
      "source": [
        "## **Mendapatkan Rekomendasi Film**"
      ]
    },
    {
      "cell_type": "code",
      "metadata": {
        "id": "I390vleWODfb"
      },
      "source": [
        "# mendefinisikan dataset\n",
        "movie_df = movie_new\n",
        "# df = pd.read_csv('rating.csv')\n",
        " \n",
        "# Mengambil sample user\n",
        "user_id = df.userId.sample(1).iloc[0]\n",
        "movie_visited_by_user = df[df.userId == user_id]\n",
        " \n",
        "# Operator bitwise (~), bisa diketahui di sini https://docs.python.org/3/reference/expressions.html \n",
        "movie_not_visited = movie_df[~movie_df['id'].isin(movie_visited_by_user.movieId.values)]['id'] \n",
        "movie_not_visited = list(\n",
        "    set(movie_not_visited)\n",
        "    .intersection(set(movie_to_movie_encoded.keys()))\n",
        ")\n",
        " \n",
        "movie_not_visited = [[movie_to_movie_encoded.get(x)] for x in movie_not_visited]\n",
        "user_encoder = user_to_user_encoded.get(user_id)\n",
        "user_movie_array = np.hstack(\n",
        "    ([[user_encoder]] * len(movie_not_visited), movie_not_visited)\n",
        ")"
      ],
      "execution_count": 63,
      "outputs": []
    },
    {
      "cell_type": "code",
      "metadata": {
        "id": "XSAT-_UUOt98",
        "colab": {
          "base_uri": "https://localhost:8080/"
        },
        "outputId": "e4ab6921-dcfe-44e6-dd91-247add4418eb"
      },
      "source": [
        "# melakukan prediksi film rekomendasi terhadap rating\n",
        "ratings = model.predict(user_movie_array).flatten()\n",
        " \n",
        "top_ratings_indices = ratings.argsort()[-10:][::-1]\n",
        "recommended_movie_ids = [\n",
        "    movie_encoded_to_movie.get(movie_not_visited[x][0]) for x in top_ratings_indices\n",
        "]\n",
        " \n",
        "print('Tampilkan rekomendasi untuk pengguna: {}'.format(user_id))\n",
        "print('===' * 9)\n",
        "print('Film dengan rating tertinggi untuk pengguna')\n",
        "print('----' * 8)\n",
        " \n",
        "top_movie_user = (\n",
        "    movie_visited_by_user.sort_values(\n",
        "        by = 'rating',\n",
        "        ascending=False\n",
        "    )\n",
        "    .head(5)\n",
        "    .movieId.values\n",
        ")\n",
        " \n",
        "movie_df_rows = movie_df[movie_df['id'].isin(top_movie_user)]\n",
        "for row in movie_df_rows.itertuples():\n",
        "    print(row.movie_name, ':', row.genre)\n",
        " \n",
        "print('----' * 8)\n",
        "print('Top 10 film recommendation')\n",
        "print('----' * 8)\n",
        " \n",
        "recommended_movie = movie_df[movie_df['id'].isin(recommended_movie_ids)]\n",
        "for row in recommended_movie.itertuples():\n",
        "    print(row.movie_name, ':', row.genre)"
      ],
      "execution_count": 64,
      "outputs": [
        {
          "output_type": "stream",
          "name": "stdout",
          "text": [
            "Tampilkan rekomendasi untuk pengguna: 122\n",
            "===========================\n",
            "Film dengan rating tertinggi untuk pengguna\n",
            "--------------------------------\n",
            "Beauty of the Day (Belle de jour) (1967) : Drama\n",
            "Like Water for Chocolate (Como agua para chocolate) (1992) : Drama|Fantasy|Romance\n",
            "Boot, Das (Boat, The) (1981) : Action|Drama|War\n",
            "Raise the Red Lantern (Da hong deng long gao gao gua) (1991) : Drama\n",
            "Welcome to Sarajevo (1997) : Drama|War\n",
            "--------------------------------\n",
            "Top 10 film recommendation\n",
            "--------------------------------\n",
            "Boys of St. Vincent, The (1992) : Drama\n",
            "Casablanca (1942) : Drama|Romance\n",
            "Maltese Falcon, The (1941) : Film-Noir|Mystery\n",
            "Sunset Blvd. (a.k.a. Sunset Boulevard) (1950) : Drama|Film-Noir|Romance\n",
            "All About Eve (1950) : Drama\n",
            "Wallace & Gromit: The Wrong Trousers (1993) : Animation|Children|Comedy|Crime\n",
            "One Flew Over the Cuckoo's Nest (1975) : Drama\n",
            "12 Angry Men (1957) : Drama\n",
            "Big Sleep, The (1946) : Crime|Film-Noir|Mystery\n",
            "Man Who Would Be King, The (1975) : Adventure|Drama\n"
          ]
        }
      ]
    }
  ]
}